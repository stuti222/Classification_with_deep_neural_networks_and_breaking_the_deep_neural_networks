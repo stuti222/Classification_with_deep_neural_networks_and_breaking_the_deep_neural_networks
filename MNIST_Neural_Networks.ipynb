{
  "nbformat": 4,
  "nbformat_minor": 0,
  "metadata": {
    "kernelspec": {
      "display_name": "Python 3",
      "language": "python",
      "name": "python3"
    },
    "language_info": {
      "codemirror_mode": {
        "name": "ipython",
        "version": 3
      },
      "file_extension": ".py",
      "mimetype": "text/x-python",
      "name": "python",
      "nbconvert_exporter": "python",
      "pygments_lexer": "ipython3",
      "version": "3.7.4"
    },
    "colab": {
      "provenance": []
    },
    "widgets": {
      "application/vnd.jupyter.widget-state+json": {
        "02e3b73110494116bcd6909b0880d2c3": {
          "model_module": "@jupyter-widgets/controls",
          "model_name": "HBoxModel",
          "state": {
            "_view_name": "HBoxView",
            "_dom_classes": [],
            "_model_name": "HBoxModel",
            "_view_module": "@jupyter-widgets/controls",
            "_model_module_version": "1.5.0",
            "_view_count": null,
            "_view_module_version": "1.5.0",
            "box_style": "",
            "layout": "IPY_MODEL_e7f53ecb2efe4ecfb578f9d3ab60e63f",
            "_model_module": "@jupyter-widgets/controls",
            "children": [
              "IPY_MODEL_916b5659ed95435b90cfc30683c573c1",
              "IPY_MODEL_0c1b187a00c24ffda566839824efe304"
            ]
          },
          "model_module_version": "1.5.0"
        },
        "e7f53ecb2efe4ecfb578f9d3ab60e63f": {
          "model_module": "@jupyter-widgets/base",
          "model_name": "LayoutModel",
          "state": {
            "_view_name": "LayoutView",
            "grid_template_rows": null,
            "right": null,
            "justify_content": null,
            "_view_module": "@jupyter-widgets/base",
            "overflow": null,
            "_model_module_version": "1.2.0",
            "_view_count": null,
            "flex_flow": null,
            "width": null,
            "min_width": null,
            "border": null,
            "align_items": null,
            "bottom": null,
            "_model_module": "@jupyter-widgets/base",
            "top": null,
            "grid_column": null,
            "overflow_y": null,
            "overflow_x": null,
            "grid_auto_flow": null,
            "grid_area": null,
            "grid_template_columns": null,
            "flex": null,
            "_model_name": "LayoutModel",
            "justify_items": null,
            "grid_row": null,
            "max_height": null,
            "align_content": null,
            "visibility": null,
            "align_self": null,
            "height": null,
            "min_height": null,
            "padding": null,
            "grid_auto_rows": null,
            "grid_gap": null,
            "max_width": null,
            "order": null,
            "_view_module_version": "1.2.0",
            "grid_template_areas": null,
            "object_position": null,
            "object_fit": null,
            "grid_auto_columns": null,
            "margin": null,
            "display": null,
            "left": null
          },
          "model_module_version": "1.2.0"
        },
        "916b5659ed95435b90cfc30683c573c1": {
          "model_module": "@jupyter-widgets/controls",
          "model_name": "IntProgressModel",
          "state": {
            "_view_name": "ProgressView",
            "style": "IPY_MODEL_f4edddeffb504afd889c8ca837ed87da",
            "_dom_classes": [],
            "description": "",
            "_model_name": "IntProgressModel",
            "bar_style": "success",
            "max": 1,
            "_view_module": "@jupyter-widgets/controls",
            "_model_module_version": "1.5.0",
            "value": 1,
            "_view_count": null,
            "_view_module_version": "1.5.0",
            "orientation": "horizontal",
            "min": 0,
            "description_tooltip": null,
            "_model_module": "@jupyter-widgets/controls",
            "layout": "IPY_MODEL_86904dfe2d5148b8b3041801861da0ae"
          },
          "model_module_version": "1.5.0"
        },
        "0c1b187a00c24ffda566839824efe304": {
          "model_module": "@jupyter-widgets/controls",
          "model_name": "HTMLModel",
          "state": {
            "_view_name": "HTMLView",
            "style": "IPY_MODEL_597ede9e2f7d4dc89e6a1ee79e0ad72e",
            "_dom_classes": [],
            "description": "",
            "_model_name": "HTMLModel",
            "placeholder": "​",
            "_view_module": "@jupyter-widgets/controls",
            "_model_module_version": "1.5.0",
            "value": "9920512it [00:00, 16447168.86it/s]",
            "_view_count": null,
            "_view_module_version": "1.5.0",
            "description_tooltip": null,
            "_model_module": "@jupyter-widgets/controls",
            "layout": "IPY_MODEL_d9c7b7b2906141a880d79778832ca55a"
          },
          "model_module_version": "1.5.0"
        },
        "f4edddeffb504afd889c8ca837ed87da": {
          "model_module": "@jupyter-widgets/controls",
          "model_name": "ProgressStyleModel",
          "state": {
            "_view_name": "StyleView",
            "_model_name": "ProgressStyleModel",
            "description_width": "",
            "_view_module": "@jupyter-widgets/base",
            "_model_module_version": "1.5.0",
            "_view_count": null,
            "_view_module_version": "1.2.0",
            "bar_color": null,
            "_model_module": "@jupyter-widgets/controls"
          },
          "model_module_version": "1.5.0"
        },
        "86904dfe2d5148b8b3041801861da0ae": {
          "model_module": "@jupyter-widgets/base",
          "model_name": "LayoutModel",
          "state": {
            "_view_name": "LayoutView",
            "grid_template_rows": null,
            "right": null,
            "justify_content": null,
            "_view_module": "@jupyter-widgets/base",
            "overflow": null,
            "_model_module_version": "1.2.0",
            "_view_count": null,
            "flex_flow": null,
            "width": null,
            "min_width": null,
            "border": null,
            "align_items": null,
            "bottom": null,
            "_model_module": "@jupyter-widgets/base",
            "top": null,
            "grid_column": null,
            "overflow_y": null,
            "overflow_x": null,
            "grid_auto_flow": null,
            "grid_area": null,
            "grid_template_columns": null,
            "flex": null,
            "_model_name": "LayoutModel",
            "justify_items": null,
            "grid_row": null,
            "max_height": null,
            "align_content": null,
            "visibility": null,
            "align_self": null,
            "height": null,
            "min_height": null,
            "padding": null,
            "grid_auto_rows": null,
            "grid_gap": null,
            "max_width": null,
            "order": null,
            "_view_module_version": "1.2.0",
            "grid_template_areas": null,
            "object_position": null,
            "object_fit": null,
            "grid_auto_columns": null,
            "margin": null,
            "display": null,
            "left": null
          },
          "model_module_version": "1.2.0"
        },
        "597ede9e2f7d4dc89e6a1ee79e0ad72e": {
          "model_module": "@jupyter-widgets/controls",
          "model_name": "DescriptionStyleModel",
          "state": {
            "_view_name": "StyleView",
            "_model_name": "DescriptionStyleModel",
            "description_width": "",
            "_view_module": "@jupyter-widgets/base",
            "_model_module_version": "1.5.0",
            "_view_count": null,
            "_view_module_version": "1.2.0",
            "_model_module": "@jupyter-widgets/controls"
          },
          "model_module_version": "1.5.0"
        },
        "d9c7b7b2906141a880d79778832ca55a": {
          "model_module": "@jupyter-widgets/base",
          "model_name": "LayoutModel",
          "state": {
            "_view_name": "LayoutView",
            "grid_template_rows": null,
            "right": null,
            "justify_content": null,
            "_view_module": "@jupyter-widgets/base",
            "overflow": null,
            "_model_module_version": "1.2.0",
            "_view_count": null,
            "flex_flow": null,
            "width": null,
            "min_width": null,
            "border": null,
            "align_items": null,
            "bottom": null,
            "_model_module": "@jupyter-widgets/base",
            "top": null,
            "grid_column": null,
            "overflow_y": null,
            "overflow_x": null,
            "grid_auto_flow": null,
            "grid_area": null,
            "grid_template_columns": null,
            "flex": null,
            "_model_name": "LayoutModel",
            "justify_items": null,
            "grid_row": null,
            "max_height": null,
            "align_content": null,
            "visibility": null,
            "align_self": null,
            "height": null,
            "min_height": null,
            "padding": null,
            "grid_auto_rows": null,
            "grid_gap": null,
            "max_width": null,
            "order": null,
            "_view_module_version": "1.2.0",
            "grid_template_areas": null,
            "object_position": null,
            "object_fit": null,
            "grid_auto_columns": null,
            "margin": null,
            "display": null,
            "left": null
          },
          "model_module_version": "1.2.0"
        },
        "517a3c9bac5b4fd1a733a36d11f72c50": {
          "model_module": "@jupyter-widgets/controls",
          "model_name": "HBoxModel",
          "state": {
            "_view_name": "HBoxView",
            "_dom_classes": [],
            "_model_name": "HBoxModel",
            "_view_module": "@jupyter-widgets/controls",
            "_model_module_version": "1.5.0",
            "_view_count": null,
            "_view_module_version": "1.5.0",
            "box_style": "",
            "layout": "IPY_MODEL_da51550cb38f4458a485112694916be6",
            "_model_module": "@jupyter-widgets/controls",
            "children": [
              "IPY_MODEL_9af25f21a38b4a7599a641989bf0bc16",
              "IPY_MODEL_997d3172125648949b4a38ecae1a2a34"
            ]
          },
          "model_module_version": "1.5.0"
        },
        "da51550cb38f4458a485112694916be6": {
          "model_module": "@jupyter-widgets/base",
          "model_name": "LayoutModel",
          "state": {
            "_view_name": "LayoutView",
            "grid_template_rows": null,
            "right": null,
            "justify_content": null,
            "_view_module": "@jupyter-widgets/base",
            "overflow": null,
            "_model_module_version": "1.2.0",
            "_view_count": null,
            "flex_flow": null,
            "width": null,
            "min_width": null,
            "border": null,
            "align_items": null,
            "bottom": null,
            "_model_module": "@jupyter-widgets/base",
            "top": null,
            "grid_column": null,
            "overflow_y": null,
            "overflow_x": null,
            "grid_auto_flow": null,
            "grid_area": null,
            "grid_template_columns": null,
            "flex": null,
            "_model_name": "LayoutModel",
            "justify_items": null,
            "grid_row": null,
            "max_height": null,
            "align_content": null,
            "visibility": null,
            "align_self": null,
            "height": null,
            "min_height": null,
            "padding": null,
            "grid_auto_rows": null,
            "grid_gap": null,
            "max_width": null,
            "order": null,
            "_view_module_version": "1.2.0",
            "grid_template_areas": null,
            "object_position": null,
            "object_fit": null,
            "grid_auto_columns": null,
            "margin": null,
            "display": null,
            "left": null
          },
          "model_module_version": "1.2.0"
        },
        "9af25f21a38b4a7599a641989bf0bc16": {
          "model_module": "@jupyter-widgets/controls",
          "model_name": "IntProgressModel",
          "state": {
            "_view_name": "ProgressView",
            "style": "IPY_MODEL_04a9e604df054daaa3769fcc2e62a23d",
            "_dom_classes": [],
            "description": "",
            "_model_name": "IntProgressModel",
            "bar_style": "success",
            "max": 1,
            "_view_module": "@jupyter-widgets/controls",
            "_model_module_version": "1.5.0",
            "value": 1,
            "_view_count": null,
            "_view_module_version": "1.5.0",
            "orientation": "horizontal",
            "min": 0,
            "description_tooltip": null,
            "_model_module": "@jupyter-widgets/controls",
            "layout": "IPY_MODEL_04b8daa866904bd89b7d44f1189fcf95"
          },
          "model_module_version": "1.5.0"
        },
        "997d3172125648949b4a38ecae1a2a34": {
          "model_module": "@jupyter-widgets/controls",
          "model_name": "HTMLModel",
          "state": {
            "_view_name": "HTMLView",
            "style": "IPY_MODEL_b3b8644b299b410db16b32faefa1b07b",
            "_dom_classes": [],
            "description": "",
            "_model_name": "HTMLModel",
            "placeholder": "​",
            "_view_module": "@jupyter-widgets/controls",
            "_model_module_version": "1.5.0",
            "value": "32768it [00:00, 175925.46it/s]",
            "_view_count": null,
            "_view_module_version": "1.5.0",
            "description_tooltip": null,
            "_model_module": "@jupyter-widgets/controls",
            "layout": "IPY_MODEL_72f8a81cbbf748dbad73256f2eb59417"
          },
          "model_module_version": "1.5.0"
        },
        "04a9e604df054daaa3769fcc2e62a23d": {
          "model_module": "@jupyter-widgets/controls",
          "model_name": "ProgressStyleModel",
          "state": {
            "_view_name": "StyleView",
            "_model_name": "ProgressStyleModel",
            "description_width": "",
            "_view_module": "@jupyter-widgets/base",
            "_model_module_version": "1.5.0",
            "_view_count": null,
            "_view_module_version": "1.2.0",
            "bar_color": null,
            "_model_module": "@jupyter-widgets/controls"
          },
          "model_module_version": "1.5.0"
        },
        "04b8daa866904bd89b7d44f1189fcf95": {
          "model_module": "@jupyter-widgets/base",
          "model_name": "LayoutModel",
          "state": {
            "_view_name": "LayoutView",
            "grid_template_rows": null,
            "right": null,
            "justify_content": null,
            "_view_module": "@jupyter-widgets/base",
            "overflow": null,
            "_model_module_version": "1.2.0",
            "_view_count": null,
            "flex_flow": null,
            "width": null,
            "min_width": null,
            "border": null,
            "align_items": null,
            "bottom": null,
            "_model_module": "@jupyter-widgets/base",
            "top": null,
            "grid_column": null,
            "overflow_y": null,
            "overflow_x": null,
            "grid_auto_flow": null,
            "grid_area": null,
            "grid_template_columns": null,
            "flex": null,
            "_model_name": "LayoutModel",
            "justify_items": null,
            "grid_row": null,
            "max_height": null,
            "align_content": null,
            "visibility": null,
            "align_self": null,
            "height": null,
            "min_height": null,
            "padding": null,
            "grid_auto_rows": null,
            "grid_gap": null,
            "max_width": null,
            "order": null,
            "_view_module_version": "1.2.0",
            "grid_template_areas": null,
            "object_position": null,
            "object_fit": null,
            "grid_auto_columns": null,
            "margin": null,
            "display": null,
            "left": null
          },
          "model_module_version": "1.2.0"
        },
        "b3b8644b299b410db16b32faefa1b07b": {
          "model_module": "@jupyter-widgets/controls",
          "model_name": "DescriptionStyleModel",
          "state": {
            "_view_name": "StyleView",
            "_model_name": "DescriptionStyleModel",
            "description_width": "",
            "_view_module": "@jupyter-widgets/base",
            "_model_module_version": "1.5.0",
            "_view_count": null,
            "_view_module_version": "1.2.0",
            "_model_module": "@jupyter-widgets/controls"
          },
          "model_module_version": "1.5.0"
        },
        "72f8a81cbbf748dbad73256f2eb59417": {
          "model_module": "@jupyter-widgets/base",
          "model_name": "LayoutModel",
          "state": {
            "_view_name": "LayoutView",
            "grid_template_rows": null,
            "right": null,
            "justify_content": null,
            "_view_module": "@jupyter-widgets/base",
            "overflow": null,
            "_model_module_version": "1.2.0",
            "_view_count": null,
            "flex_flow": null,
            "width": null,
            "min_width": null,
            "border": null,
            "align_items": null,
            "bottom": null,
            "_model_module": "@jupyter-widgets/base",
            "top": null,
            "grid_column": null,
            "overflow_y": null,
            "overflow_x": null,
            "grid_auto_flow": null,
            "grid_area": null,
            "grid_template_columns": null,
            "flex": null,
            "_model_name": "LayoutModel",
            "justify_items": null,
            "grid_row": null,
            "max_height": null,
            "align_content": null,
            "visibility": null,
            "align_self": null,
            "height": null,
            "min_height": null,
            "padding": null,
            "grid_auto_rows": null,
            "grid_gap": null,
            "max_width": null,
            "order": null,
            "_view_module_version": "1.2.0",
            "grid_template_areas": null,
            "object_position": null,
            "object_fit": null,
            "grid_auto_columns": null,
            "margin": null,
            "display": null,
            "left": null
          },
          "model_module_version": "1.2.0"
        },
        "c8724584914c4f9996021f8433990e60": {
          "model_module": "@jupyter-widgets/controls",
          "model_name": "HBoxModel",
          "state": {
            "_view_name": "HBoxView",
            "_dom_classes": [],
            "_model_name": "HBoxModel",
            "_view_module": "@jupyter-widgets/controls",
            "_model_module_version": "1.5.0",
            "_view_count": null,
            "_view_module_version": "1.5.0",
            "box_style": "",
            "layout": "IPY_MODEL_c650d644a03041cf8274ff999d12d491",
            "_model_module": "@jupyter-widgets/controls",
            "children": [
              "IPY_MODEL_6ea4f263094848f3a1b2895feb992b6d",
              "IPY_MODEL_eb410237880643fa879373ed0ff3a1b6"
            ]
          },
          "model_module_version": "1.5.0"
        },
        "c650d644a03041cf8274ff999d12d491": {
          "model_module": "@jupyter-widgets/base",
          "model_name": "LayoutModel",
          "state": {
            "_view_name": "LayoutView",
            "grid_template_rows": null,
            "right": null,
            "justify_content": null,
            "_view_module": "@jupyter-widgets/base",
            "overflow": null,
            "_model_module_version": "1.2.0",
            "_view_count": null,
            "flex_flow": null,
            "width": null,
            "min_width": null,
            "border": null,
            "align_items": null,
            "bottom": null,
            "_model_module": "@jupyter-widgets/base",
            "top": null,
            "grid_column": null,
            "overflow_y": null,
            "overflow_x": null,
            "grid_auto_flow": null,
            "grid_area": null,
            "grid_template_columns": null,
            "flex": null,
            "_model_name": "LayoutModel",
            "justify_items": null,
            "grid_row": null,
            "max_height": null,
            "align_content": null,
            "visibility": null,
            "align_self": null,
            "height": null,
            "min_height": null,
            "padding": null,
            "grid_auto_rows": null,
            "grid_gap": null,
            "max_width": null,
            "order": null,
            "_view_module_version": "1.2.0",
            "grid_template_areas": null,
            "object_position": null,
            "object_fit": null,
            "grid_auto_columns": null,
            "margin": null,
            "display": null,
            "left": null
          },
          "model_module_version": "1.2.0"
        },
        "6ea4f263094848f3a1b2895feb992b6d": {
          "model_module": "@jupyter-widgets/controls",
          "model_name": "IntProgressModel",
          "state": {
            "_view_name": "ProgressView",
            "style": "IPY_MODEL_9fd844bd0ac543b0af36a215cc7c01b3",
            "_dom_classes": [],
            "description": "",
            "_model_name": "IntProgressModel",
            "bar_style": "success",
            "max": 1,
            "_view_module": "@jupyter-widgets/controls",
            "_model_module_version": "1.5.0",
            "value": 1,
            "_view_count": null,
            "_view_module_version": "1.5.0",
            "orientation": "horizontal",
            "min": 0,
            "description_tooltip": null,
            "_model_module": "@jupyter-widgets/controls",
            "layout": "IPY_MODEL_bf090e8a03d2485095031409a2473fb3"
          },
          "model_module_version": "1.5.0"
        },
        "eb410237880643fa879373ed0ff3a1b6": {
          "model_module": "@jupyter-widgets/controls",
          "model_name": "HTMLModel",
          "state": {
            "_view_name": "HTMLView",
            "style": "IPY_MODEL_b46a351793404ccea501f3a2a3a09661",
            "_dom_classes": [],
            "description": "",
            "_model_name": "HTMLModel",
            "placeholder": "​",
            "_view_module": "@jupyter-widgets/controls",
            "_model_module_version": "1.5.0",
            "value": "1654784it [00:00, 4071620.28it/s]",
            "_view_count": null,
            "_view_module_version": "1.5.0",
            "description_tooltip": null,
            "_model_module": "@jupyter-widgets/controls",
            "layout": "IPY_MODEL_5ddba93cfdb643938753a8c71ac6eee3"
          },
          "model_module_version": "1.5.0"
        },
        "9fd844bd0ac543b0af36a215cc7c01b3": {
          "model_module": "@jupyter-widgets/controls",
          "model_name": "ProgressStyleModel",
          "state": {
            "_view_name": "StyleView",
            "_model_name": "ProgressStyleModel",
            "description_width": "",
            "_view_module": "@jupyter-widgets/base",
            "_model_module_version": "1.5.0",
            "_view_count": null,
            "_view_module_version": "1.2.0",
            "bar_color": null,
            "_model_module": "@jupyter-widgets/controls"
          },
          "model_module_version": "1.5.0"
        },
        "bf090e8a03d2485095031409a2473fb3": {
          "model_module": "@jupyter-widgets/base",
          "model_name": "LayoutModel",
          "state": {
            "_view_name": "LayoutView",
            "grid_template_rows": null,
            "right": null,
            "justify_content": null,
            "_view_module": "@jupyter-widgets/base",
            "overflow": null,
            "_model_module_version": "1.2.0",
            "_view_count": null,
            "flex_flow": null,
            "width": null,
            "min_width": null,
            "border": null,
            "align_items": null,
            "bottom": null,
            "_model_module": "@jupyter-widgets/base",
            "top": null,
            "grid_column": null,
            "overflow_y": null,
            "overflow_x": null,
            "grid_auto_flow": null,
            "grid_area": null,
            "grid_template_columns": null,
            "flex": null,
            "_model_name": "LayoutModel",
            "justify_items": null,
            "grid_row": null,
            "max_height": null,
            "align_content": null,
            "visibility": null,
            "align_self": null,
            "height": null,
            "min_height": null,
            "padding": null,
            "grid_auto_rows": null,
            "grid_gap": null,
            "max_width": null,
            "order": null,
            "_view_module_version": "1.2.0",
            "grid_template_areas": null,
            "object_position": null,
            "object_fit": null,
            "grid_auto_columns": null,
            "margin": null,
            "display": null,
            "left": null
          },
          "model_module_version": "1.2.0"
        },
        "b46a351793404ccea501f3a2a3a09661": {
          "model_module": "@jupyter-widgets/controls",
          "model_name": "DescriptionStyleModel",
          "state": {
            "_view_name": "StyleView",
            "_model_name": "DescriptionStyleModel",
            "description_width": "",
            "_view_module": "@jupyter-widgets/base",
            "_model_module_version": "1.5.0",
            "_view_count": null,
            "_view_module_version": "1.2.0",
            "_model_module": "@jupyter-widgets/controls"
          },
          "model_module_version": "1.5.0"
        },
        "5ddba93cfdb643938753a8c71ac6eee3": {
          "model_module": "@jupyter-widgets/base",
          "model_name": "LayoutModel",
          "state": {
            "_view_name": "LayoutView",
            "grid_template_rows": null,
            "right": null,
            "justify_content": null,
            "_view_module": "@jupyter-widgets/base",
            "overflow": null,
            "_model_module_version": "1.2.0",
            "_view_count": null,
            "flex_flow": null,
            "width": null,
            "min_width": null,
            "border": null,
            "align_items": null,
            "bottom": null,
            "_model_module": "@jupyter-widgets/base",
            "top": null,
            "grid_column": null,
            "overflow_y": null,
            "overflow_x": null,
            "grid_auto_flow": null,
            "grid_area": null,
            "grid_template_columns": null,
            "flex": null,
            "_model_name": "LayoutModel",
            "justify_items": null,
            "grid_row": null,
            "max_height": null,
            "align_content": null,
            "visibility": null,
            "align_self": null,
            "height": null,
            "min_height": null,
            "padding": null,
            "grid_auto_rows": null,
            "grid_gap": null,
            "max_width": null,
            "order": null,
            "_view_module_version": "1.2.0",
            "grid_template_areas": null,
            "object_position": null,
            "object_fit": null,
            "grid_auto_columns": null,
            "margin": null,
            "display": null,
            "left": null
          },
          "model_module_version": "1.2.0"
        },
        "7cee4e9c19864cd0b7281572074f915d": {
          "model_module": "@jupyter-widgets/controls",
          "model_name": "HBoxModel",
          "state": {
            "_view_name": "HBoxView",
            "_dom_classes": [],
            "_model_name": "HBoxModel",
            "_view_module": "@jupyter-widgets/controls",
            "_model_module_version": "1.5.0",
            "_view_count": null,
            "_view_module_version": "1.5.0",
            "box_style": "",
            "layout": "IPY_MODEL_070c89931e1a4a4db46d4648d825dcfb",
            "_model_module": "@jupyter-widgets/controls",
            "children": [
              "IPY_MODEL_609123fa1f0d42eeb1d8f45adf826dc1",
              "IPY_MODEL_c514c7857557430894f49f7cc6591e9c"
            ]
          },
          "model_module_version": "1.5.0"
        },
        "070c89931e1a4a4db46d4648d825dcfb": {
          "model_module": "@jupyter-widgets/base",
          "model_name": "LayoutModel",
          "state": {
            "_view_name": "LayoutView",
            "grid_template_rows": null,
            "right": null,
            "justify_content": null,
            "_view_module": "@jupyter-widgets/base",
            "overflow": null,
            "_model_module_version": "1.2.0",
            "_view_count": null,
            "flex_flow": null,
            "width": null,
            "min_width": null,
            "border": null,
            "align_items": null,
            "bottom": null,
            "_model_module": "@jupyter-widgets/base",
            "top": null,
            "grid_column": null,
            "overflow_y": null,
            "overflow_x": null,
            "grid_auto_flow": null,
            "grid_area": null,
            "grid_template_columns": null,
            "flex": null,
            "_model_name": "LayoutModel",
            "justify_items": null,
            "grid_row": null,
            "max_height": null,
            "align_content": null,
            "visibility": null,
            "align_self": null,
            "height": null,
            "min_height": null,
            "padding": null,
            "grid_auto_rows": null,
            "grid_gap": null,
            "max_width": null,
            "order": null,
            "_view_module_version": "1.2.0",
            "grid_template_areas": null,
            "object_position": null,
            "object_fit": null,
            "grid_auto_columns": null,
            "margin": null,
            "display": null,
            "left": null
          },
          "model_module_version": "1.2.0"
        },
        "609123fa1f0d42eeb1d8f45adf826dc1": {
          "model_module": "@jupyter-widgets/controls",
          "model_name": "IntProgressModel",
          "state": {
            "_view_name": "ProgressView",
            "style": "IPY_MODEL_2b4b1cc099b34508a64468c76c41cadd",
            "_dom_classes": [],
            "description": "",
            "_model_name": "IntProgressModel",
            "bar_style": "success",
            "max": 1,
            "_view_module": "@jupyter-widgets/controls",
            "_model_module_version": "1.5.0",
            "value": 1,
            "_view_count": null,
            "_view_module_version": "1.5.0",
            "orientation": "horizontal",
            "min": 0,
            "description_tooltip": null,
            "_model_module": "@jupyter-widgets/controls",
            "layout": "IPY_MODEL_ea2eb7f33b9c449c97b67b8674553946"
          },
          "model_module_version": "1.5.0"
        },
        "c514c7857557430894f49f7cc6591e9c": {
          "model_module": "@jupyter-widgets/controls",
          "model_name": "HTMLModel",
          "state": {
            "_view_name": "HTMLView",
            "style": "IPY_MODEL_3bac78e6971c4915bec4495cf846b58a",
            "_dom_classes": [],
            "description": "",
            "_model_name": "HTMLModel",
            "placeholder": "​",
            "_view_module": "@jupyter-widgets/controls",
            "_model_module_version": "1.5.0",
            "value": "8192it [00:00, 55481.66it/s]",
            "_view_count": null,
            "_view_module_version": "1.5.0",
            "description_tooltip": null,
            "_model_module": "@jupyter-widgets/controls",
            "layout": "IPY_MODEL_2cf2f1046d034682ba3a6b7bf642b998"
          },
          "model_module_version": "1.5.0"
        },
        "2b4b1cc099b34508a64468c76c41cadd": {
          "model_module": "@jupyter-widgets/controls",
          "model_name": "ProgressStyleModel",
          "state": {
            "_view_name": "StyleView",
            "_model_name": "ProgressStyleModel",
            "description_width": "",
            "_view_module": "@jupyter-widgets/base",
            "_model_module_version": "1.5.0",
            "_view_count": null,
            "_view_module_version": "1.2.0",
            "bar_color": null,
            "_model_module": "@jupyter-widgets/controls"
          },
          "model_module_version": "1.5.0"
        },
        "ea2eb7f33b9c449c97b67b8674553946": {
          "model_module": "@jupyter-widgets/base",
          "model_name": "LayoutModel",
          "state": {
            "_view_name": "LayoutView",
            "grid_template_rows": null,
            "right": null,
            "justify_content": null,
            "_view_module": "@jupyter-widgets/base",
            "overflow": null,
            "_model_module_version": "1.2.0",
            "_view_count": null,
            "flex_flow": null,
            "width": null,
            "min_width": null,
            "border": null,
            "align_items": null,
            "bottom": null,
            "_model_module": "@jupyter-widgets/base",
            "top": null,
            "grid_column": null,
            "overflow_y": null,
            "overflow_x": null,
            "grid_auto_flow": null,
            "grid_area": null,
            "grid_template_columns": null,
            "flex": null,
            "_model_name": "LayoutModel",
            "justify_items": null,
            "grid_row": null,
            "max_height": null,
            "align_content": null,
            "visibility": null,
            "align_self": null,
            "height": null,
            "min_height": null,
            "padding": null,
            "grid_auto_rows": null,
            "grid_gap": null,
            "max_width": null,
            "order": null,
            "_view_module_version": "1.2.0",
            "grid_template_areas": null,
            "object_position": null,
            "object_fit": null,
            "grid_auto_columns": null,
            "margin": null,
            "display": null,
            "left": null
          },
          "model_module_version": "1.2.0"
        },
        "3bac78e6971c4915bec4495cf846b58a": {
          "model_module": "@jupyter-widgets/controls",
          "model_name": "DescriptionStyleModel",
          "state": {
            "_view_name": "StyleView",
            "_model_name": "DescriptionStyleModel",
            "description_width": "",
            "_view_module": "@jupyter-widgets/base",
            "_model_module_version": "1.5.0",
            "_view_count": null,
            "_view_module_version": "1.2.0",
            "_model_module": "@jupyter-widgets/controls"
          },
          "model_module_version": "1.5.0"
        },
        "2cf2f1046d034682ba3a6b7bf642b998": {
          "model_module": "@jupyter-widgets/base",
          "model_name": "LayoutModel",
          "state": {
            "_view_name": "LayoutView",
            "grid_template_rows": null,
            "right": null,
            "justify_content": null,
            "_view_module": "@jupyter-widgets/base",
            "overflow": null,
            "_model_module_version": "1.2.0",
            "_view_count": null,
            "flex_flow": null,
            "width": null,
            "min_width": null,
            "border": null,
            "align_items": null,
            "bottom": null,
            "_model_module": "@jupyter-widgets/base",
            "top": null,
            "grid_column": null,
            "overflow_y": null,
            "overflow_x": null,
            "grid_auto_flow": null,
            "grid_area": null,
            "grid_template_columns": null,
            "flex": null,
            "_model_name": "LayoutModel",
            "justify_items": null,
            "grid_row": null,
            "max_height": null,
            "align_content": null,
            "visibility": null,
            "align_self": null,
            "height": null,
            "min_height": null,
            "padding": null,
            "grid_auto_rows": null,
            "grid_gap": null,
            "max_width": null,
            "order": null,
            "_view_module_version": "1.2.0",
            "grid_template_areas": null,
            "object_position": null,
            "object_fit": null,
            "grid_auto_columns": null,
            "margin": null,
            "display": null,
            "left": null
          },
          "model_module_version": "1.2.0"
        }
      }
    }
  },
  "cells": [
    {
      "cell_type": "markdown",
      "metadata": {
        "id": "7HXvmvwLWLMV"
      },
      "source": [
        "# Classifying digits 0-9 using neural networks"
      ]
    },
    {
      "cell_type": "code",
      "metadata": {
        "id": "aU4xaYtCWLMX"
      },
      "source": [
        "import torch\n",
        "import torch.nn as nn\n",
        "import torch.optim as optim\n",
        "import torchvision\n",
        "import torchvision.transforms as transforms\n",
        "import matplotlib.pyplot as plt\n",
        "import numpy as np\n",
        "import torch.nn.functional as F\n",
        "import torchvision.transforms as transforms\n",
        "device = torch.device(\"cuda:0\" if torch.cuda.is_available() else \"cpu\")"
      ],
      "execution_count": null,
      "outputs": []
    },
    {
      "cell_type": "markdown",
      "metadata": {
        "id": "z7kuGPn0WLMc"
      },
      "source": [
        "# Abstract"
      ]
    },
    {
      "cell_type": "markdown",
      "metadata": {
        "id": "CPdjlizjWLMd"
      },
      "source": [
        "This project aims to build a multi-class classifier using neural network model for classifying the images of handwritten digits from the MNIST data. Then an adversarial attack using the Fast Gradient Sign Method was implemented in order to break the neural network model built in the project. (More on this later)"
      ]
    },
    {
      "cell_type": "markdown",
      "metadata": {
        "id": "I2_IUEkJWLMe"
      },
      "source": [
        "# 1.   Theory and Introduction"
      ]
    },
    {
      "cell_type": "markdown",
      "metadata": {
        "id": "q_L8DSVWWLMf"
      },
      "source": [
        "The deep neural networks are a class a surperivsed machine learning models that are nonlinear for both input arguments and weights. The inspiration of neural network models is the structure of neural neworks in the brain. Models of the brain includes a large amounts of neurons that are communicates with each other through a complex network. This enables the brain to perform extremely complex computations, and the artifitial neural networks are modeled according to this computation paradigm. [1] [2]"
      ]
    },
    {
      "cell_type": "markdown",
      "metadata": {
        "id": "slGYCjlTWLMh"
      },
      "source": [
        "# 1.1 Using Neural Network for classification"
      ]
    },
    {
      "cell_type": "markdown",
      "metadata": {
        "id": "grnZvx2iWLMi"
      },
      "source": [
        "The deep neural networks are a class a surperivsed machine learning models that are nonlinear for both input arguments and weights. The inspiration of neural network models is the structure of neural neworks in the brain. Models of the brain includes a large amounts of neurons that are communicates with each other through a complex network. This enables the brain to perform extremely complex computations, and the artifitial neural networks are modeled according to this computation paradigm. [1] [2]"
      ]
    },
    {
      "cell_type": "markdown",
      "metadata": {
        "id": "LzYrSS1UWLMj"
      },
      "source": [
        "# 1.1.1  Feed Forward Neural Networks"
      ]
    },
    {
      "cell_type": "markdown",
      "metadata": {
        "id": "bzzkqz8bWLMk"
      },
      "source": [
        "Mathematically, A deep neural netwok model is a function consists of many layers of parametrised functions. A neural network $f_w(x)$ consisting of $L$ layers can be described by equation (1) :\n",
        "\n",
        "\\begin{equation}\n",
        "f_w(x) := \\phi_L(\\phi_{L-1}(\\dotsb \\phi_2(\\phi_1(x,w_1),w_2)\\dotsb, w_{L-1}),w_L),    \\quad\\quad\\quad \\quad   (1)\n",
        "\\end{equation}\n",
        "\n",
        "where $\\{\\phi_l\\}_{l=1}^{L}$ is a collection of L activation functions which are parametrised with weights $w := \\{w_l\\}_{l=1}^{L}$, and $x$ is the input arguments.\n",
        "\n",
        "In the project, we first of all chose our neural network archetecture to be a two-layer model described by equation (2):\n",
        "\n",
        "\\begin{equation}\n",
        "f_w(x) := \\phi_2( W_{2}^{T}( \\phi_1( W_{1}^{T} X + b_1)) + b_2),   \\quad\\quad\\quad\\quad   (2)\n",
        "\\end{equation}\n",
        "\n",
        "where $X$ is the input matrix, $\\phi_1$ is the inner layer activation function with weight matrix $W_{1}$ and bias vector $b_1$ as the parameters of the activation function. Similarly, $\\phi_2$ is the outer layer activation function with weight matrix $W_{2}$ and bias vector $b_2$ as parameters. Equation (2) describes a feedforward neural network,where the network structure does not contain any cycles. Figure 1 shows a directed acyclic graph represetating the feedforward neural network used in the project.\n",
        "\n",
        "<img src=\"FeedForward_Graph.png\",width=400, height=500 > ![image.png](attachment:image.png)\n",
        "\n",
        "<center>Figure 1: A directed acyclic graph illustrating the structure of the feedforward neural network model used in this project</center>\n"
      ]
    },
    {
      "cell_type": "markdown",
      "metadata": {
        "id": "LzhC7OdZWLMm"
      },
      "source": [
        "The (bottom) input layer consists of $n$ nodes ($n$ represents the number of input features, in this project, $n = 784$ for $28 \\times 28$ features of each input image). As shown in equation (2), starting from the input data matrix $X$, with the specified values of initial weight $W_{1}$ and bias $b_1$ of the input layer (which were chosen arbitrarily), an affine linear transformation on the input data matrix is applied. Then the resulting vector is fed into the first activation function, $\\phi_1$, in order to obtain the hidden layer. The number of nodes, $h$, in the hidden layer can be arbitrarily defined, usually chosen to be between the number of input nodes and output nodes. (In this project, $h$ is chosen to be $200$.) As equation (2) describes, the results of the hidden layer are again applied with another affine linear transformation with the hidden layer weights and bias, $W_2$ and $b_2$. Then the results are wrapped in the second activation function $\\phi_2$ in order to obtain the output layer. The number of nodes in the output layer reflects the number of classes in the classification. In this project, there are 10 classes (or class labels) representing the handwritten digits from 0 to 9."
      ]
    },
    {
      "cell_type": "markdown",
      "metadata": {
        "id": "DiRtBexZWLMn"
      },
      "source": [
        "# 1.1.2  The activation functions"
      ]
    },
    {
      "cell_type": "markdown",
      "metadata": {
        "id": "5pnoGof1WLMo"
      },
      "source": [
        "In this project, the first activation function $\\phi_1$ is chosen to be the ReLU (Rectified Linear Unit) function described by equation (3):\n",
        "\n",
        "\\begin{equation}\n",
        "\\phi_1(z) := max(0,z) \\quad \\quad \\quad \\quad   (3)\n",
        "\\end{equation}\n",
        "\n",
        "As equation (3) suggests, the ReLU function takes an input value $z$, and returns either the value itself if $z$ is positive, or $0$ if z is negative. In this project, $z$ represents elements of the vector produced by the first affine linear transformation: $W_{1}^{T} X + b_1$. Figure 2 illustrates the ReLU function.\n",
        "\n",
        "<img src=\"ReLU.png\",width=300, height=400 > ![image.png](attachment:image.png)\n",
        "\n",
        "\n",
        "<center>Figure 2: A plot of the Rectified Linear Unit (ReLU). [3] function</center>\n",
        "\n",
        "The ReLU function is chosen for the first activation function because it is cheap to compute, it helps the algorithm converge faster (due to its linearity, compared to functions like sigmoid or tanh, it does not suffer from the problem of vanishing gradient), and it is sparsily activatd. [3]\n",
        "\n",
        "The second activation function $\\phi_2$ is chosen to be the softmax function, described by equation (4). The softmax function takes a vector as an input and returns a vector output of the same size. For the $ith$ element of the input vector $z_i$, it returns the $ith$ element of the output vector $\\phi_{2i}$ as:\n",
        "\n",
        "\\begin{equation}\n",
        "\\phi_{2i}(z_i) = \\frac{e^{z_i}}{\\sum_{k=1}^{K} e^{z_k}} \\quad for \\quad i = 1,...,K, \\quad \\quad \\quad \\quad (4)\n",
        "\\end{equation}\n",
        "\n",
        "where $z_k$ represents the the $kth$ element of the vector input, and there are in total $K$ elements in both the input and output vectors. The softmax function is chosen to be the final layer because it converts the arguments into values between $0$ and $1$, hence computes the probability of each class label. Then we can choose the class label with the largest probability as the predicted class label."
      ]
    },
    {
      "cell_type": "markdown",
      "metadata": {
        "id": "LHPuXHguWLMp"
      },
      "source": [
        "# 1.1.3  Back Propagation and Training the neural network"
      ]
    },
    {
      "cell_type": "markdown",
      "metadata": {
        "id": "CMCchkf_WLMq"
      },
      "source": [
        "With the neural network model specified, the neural network needs to be trained in order to obtain the values of the parameters that minimises the empirical risk (the cost function) via optimization algorithms. However, due to the neural network model not being differentiable, the gradient of the cost function (with respect to the model parameters) are computed via backpropagation.\n",
        "\n",
        "The cost function is chosen to be the cross entropy function described by equation (5):\n",
        "\n",
        "\\begin{equation}\n",
        "L(W_1, ... , W_L, b_1, ... , b_L) = - \\sum_i y_i log( \\hat{y_i}), \\quad \\quad \\quad (5)\n",
        "\\end{equation}\n",
        "\n",
        "where $y_i$ represents the $ith$ element of the output vector (the vector of output class labels), and $\\hat{y_i}$ represents the $ith$ element of the predicted output from the neural netowkr model.\n",
        "\n",
        "In the project, instead of manually computing the backpropagation, Pytorch is used to automatically compute the backpropagation and obtain gradients of the cost function.\n",
        "\n",
        "The two optimization methods tried in this project are stochasiric gradient descent and Adam optimization algorithm. Adam optimization algorithm is also a stochastic optimization method,  but computes individual adaptive learning rates for different model parameters by estimating first and second moments of gradients.[4]"
      ]
    },
    {
      "cell_type": "markdown",
      "metadata": {
        "id": "3tXffo7tWLMs"
      },
      "source": [
        "# 1.2 Adversarial Attack: Fast Gradient Sign Method"
      ]
    },
    {
      "cell_type": "markdown",
      "metadata": {
        "id": "S5QETMpIWLMu"
      },
      "source": [
        "Adversarial attack aims to add the smallest amount of perturbation to the input data in order to cause specific types of misclassifications. The white-box attack, which is the kind of attack implemented in this project, requires full access to the neural network architecture with input and output data, as well as values of the optimized weights. (The black-box attack in comparison assumes no knowledge of the model apart from the input output data) [5]\n",
        "\n",
        "The fast gradient sign method (FGSM) is a popular and powerful attack engineered to attack the model by adding perturbations in the direction of the gradient, i.e. the way the neural network learn, in order to achieve misclassifications. This is outlined by equation (6):\n",
        "\n",
        "\\begin{equation}\n",
        " x_i' = x_i + \\epsilon sign(\\nabla_{x} l_i (f_w(x_i), y_i), \\quad \\quad \\quad \\quad(6)\n",
        "\\end{equation}\n",
        "\n",
        "where $x_i$ represents the $ith$ element of the original input data, $y_i$ represents the true output labels, and $\\epsilon$ specifies the magnitude of the adversarial perturbation.\n",
        "\n",
        "In the case of the project, the attack alters the input image by adding noises to cause misclassifications of the handwritten digits shown by the original image."
      ]
    },
    {
      "cell_type": "markdown",
      "metadata": {
        "id": "dpmbdsYcWLMv"
      },
      "source": [
        "# 2.   Method"
      ]
    },
    {
      "cell_type": "markdown",
      "metadata": {
        "id": "o1RXy-71WLMx"
      },
      "source": [
        "## Load Data\n",
        "\n",
        "To load the data we use the torchvision library to access the dataset and shuffle if required where our data is a batch size of 100. We can then show the first 25 images of the dataset where 10000 are test images."
      ]
    },
    {
      "cell_type": "code",
      "metadata": {
        "id": "gc4KrSPVWLMy",
        "colab": {
          "base_uri": "https://localhost:8080/",
          "referenced_widgets": [
            "02e3b73110494116bcd6909b0880d2c3",
            "e7f53ecb2efe4ecfb578f9d3ab60e63f",
            "916b5659ed95435b90cfc30683c573c1",
            "0c1b187a00c24ffda566839824efe304",
            "f4edddeffb504afd889c8ca837ed87da",
            "86904dfe2d5148b8b3041801861da0ae",
            "597ede9e2f7d4dc89e6a1ee79e0ad72e",
            "d9c7b7b2906141a880d79778832ca55a",
            "517a3c9bac5b4fd1a733a36d11f72c50",
            "da51550cb38f4458a485112694916be6",
            "9af25f21a38b4a7599a641989bf0bc16",
            "997d3172125648949b4a38ecae1a2a34",
            "04a9e604df054daaa3769fcc2e62a23d",
            "04b8daa866904bd89b7d44f1189fcf95",
            "b3b8644b299b410db16b32faefa1b07b",
            "72f8a81cbbf748dbad73256f2eb59417",
            "c8724584914c4f9996021f8433990e60",
            "c650d644a03041cf8274ff999d12d491",
            "6ea4f263094848f3a1b2895feb992b6d",
            "eb410237880643fa879373ed0ff3a1b6",
            "9fd844bd0ac543b0af36a215cc7c01b3",
            "bf090e8a03d2485095031409a2473fb3",
            "b46a351793404ccea501f3a2a3a09661",
            "5ddba93cfdb643938753a8c71ac6eee3",
            "7cee4e9c19864cd0b7281572074f915d",
            "070c89931e1a4a4db46d4648d825dcfb",
            "609123fa1f0d42eeb1d8f45adf826dc1",
            "c514c7857557430894f49f7cc6591e9c",
            "2b4b1cc099b34508a64468c76c41cadd",
            "ea2eb7f33b9c449c97b67b8674553946",
            "3bac78e6971c4915bec4495cf846b58a",
            "2cf2f1046d034682ba3a6b7bf642b998"
          ]
        },
        "outputId": "274dc691-f100-4ca6-8cc0-8267cb4bdd46"
      },
      "source": [
        "from torchvision import datasets, transforms\n",
        "from torch.utils.data import DataLoader\n",
        "\n",
        "trans=transforms.Compose([transforms.ToTensor(),transforms.Normalize((0.5,),(0.5,))])\n",
        "\n",
        "mnist_train = datasets.MNIST(\"../data\", train=True, download=True, transform=trans)\n",
        "mnist_test = datasets.MNIST(\"../data\", train=False, download=True, transform=trans)\n",
        "train_loader = DataLoader(mnist_train, batch_size = 100, shuffle=True)\n",
        "test_loader = DataLoader(mnist_test, batch_size = 100, shuffle=False)"
      ],
      "execution_count": null,
      "outputs": [
        {
          "output_type": "stream",
          "text": [
            "Downloading http://yann.lecun.com/exdb/mnist/train-images-idx3-ubyte.gz to ../data/MNIST/raw/train-images-idx3-ubyte.gz\n"
          ],
          "name": "stdout"
        },
        {
          "output_type": "display_data",
          "data": {
            "application/vnd.jupyter.widget-view+json": {
              "model_id": "02e3b73110494116bcd6909b0880d2c3",
              "version_minor": 0,
              "version_major": 2
            },
            "text/plain": [
              "HBox(children=(IntProgress(value=1, bar_style='info', max=1), HTML(value='')))"
            ]
          },
          "metadata": {
            "tags": []
          }
        },
        {
          "output_type": "stream",
          "text": [
            "\n",
            "Extracting ../data/MNIST/raw/train-images-idx3-ubyte.gz to ../data/MNIST/raw\n",
            "Downloading http://yann.lecun.com/exdb/mnist/train-labels-idx1-ubyte.gz to ../data/MNIST/raw/train-labels-idx1-ubyte.gz\n"
          ],
          "name": "stdout"
        },
        {
          "output_type": "display_data",
          "data": {
            "application/vnd.jupyter.widget-view+json": {
              "model_id": "517a3c9bac5b4fd1a733a36d11f72c50",
              "version_minor": 0,
              "version_major": 2
            },
            "text/plain": [
              "HBox(children=(IntProgress(value=1, bar_style='info', max=1), HTML(value='')))"
            ]
          },
          "metadata": {
            "tags": []
          }
        },
        {
          "output_type": "stream",
          "text": [
            "\n",
            "Extracting ../data/MNIST/raw/train-labels-idx1-ubyte.gz to ../data/MNIST/raw\n",
            "Downloading http://yann.lecun.com/exdb/mnist/t10k-images-idx3-ubyte.gz to ../data/MNIST/raw/t10k-images-idx3-ubyte.gz\n"
          ],
          "name": "stdout"
        },
        {
          "output_type": "display_data",
          "data": {
            "application/vnd.jupyter.widget-view+json": {
              "model_id": "c8724584914c4f9996021f8433990e60",
              "version_minor": 0,
              "version_major": 2
            },
            "text/plain": [
              "HBox(children=(IntProgress(value=1, bar_style='info', max=1), HTML(value='')))"
            ]
          },
          "metadata": {
            "tags": []
          }
        },
        {
          "output_type": "stream",
          "text": [
            "\n",
            "Extracting ../data/MNIST/raw/t10k-images-idx3-ubyte.gz to ../data/MNIST/raw\n",
            "Downloading http://yann.lecun.com/exdb/mnist/t10k-labels-idx1-ubyte.gz to ../data/MNIST/raw/t10k-labels-idx1-ubyte.gz\n"
          ],
          "name": "stdout"
        },
        {
          "output_type": "display_data",
          "data": {
            "application/vnd.jupyter.widget-view+json": {
              "model_id": "7cee4e9c19864cd0b7281572074f915d",
              "version_minor": 0,
              "version_major": 2
            },
            "text/plain": [
              "HBox(children=(IntProgress(value=1, bar_style='info', max=1), HTML(value='')))"
            ]
          },
          "metadata": {
            "tags": []
          }
        },
        {
          "output_type": "stream",
          "text": [
            "\n",
            "Extracting ../data/MNIST/raw/t10k-labels-idx1-ubyte.gz to ../data/MNIST/raw\n",
            "Processing...\n",
            "Done!\n"
          ],
          "name": "stdout"
        }
      ]
    },
    {
      "cell_type": "code",
      "metadata": {
        "id": "Fi6MZh1IWLM3",
        "colab": {
          "base_uri": "https://localhost:8080/"
        },
        "outputId": "e8255866-6430-4e3e-e7b6-e89491175915"
      },
      "source": [
        "examples = iter(test_loader)\n",
        "example_data, example_targets = examples.next()\n",
        "\n",
        "for i in range(25):\n",
        "    plt.subplot(5,5,i+1)\n",
        "    plt.imshow(example_data[i][0], cmap='gray')\n",
        "plt.show()"
      ],
      "execution_count": null,
      "outputs": [
        {
          "output_type": "display_data",
          "data": {
            "image/png": "[encoded data removed]",
            "text/plain": [
              "<Figure size 432x288 with 25 Axes>"
            ]
          },
          "metadata": {
            "tags": []
          }
        }
      ]
    },
    {
      "cell_type": "markdown",
      "metadata": {
        "id": "5Rf4Lue0WLM7"
      },
      "source": [
        "# Multiclass problem\n",
        "\n",
        "# Fully connected neural network with one hidden layer and Relu activation function"
      ]
    },
    {
      "cell_type": "code",
      "metadata": {
        "id": "zF6xkqbQWLM8"
      },
      "source": [
        "class Flatten(nn.Module):\n",
        "    def forward(self, x):\n",
        "        return x.view(x.shape[0], -1)\n",
        "\n",
        "class NeuralNet(nn.Module):\n",
        "    def __init__(self, input_size, hidden_size, num_classes):\n",
        "        super(NeuralNet, self).__init__()\n",
        "        self.linear1 = nn.Linear(input_size, hidden_size)\n",
        "        self.relu = nn.ReLU()\n",
        "        self.linear2 = nn.Linear(hidden_size, num_classes)\n",
        "\n",
        "    def forward(self, x):\n",
        "        out = torch.flatten(x, 1)\n",
        "        out = self.linear1(out)\n",
        "        out = self.relu(out)\n",
        "        out = self.linear2(out)\n",
        "        # no softmax at the end\n",
        "        return out"
      ],
      "execution_count": null,
      "outputs": []
    },
    {
      "cell_type": "code",
      "metadata": {
        "id": "5evl38IxWLNA"
      },
      "source": [
        "model = NeuralNet(input_size=28*28, hidden_size=200, num_classes=10)\n",
        "criterion = nn.CrossEntropyLoss()  # (applies Softmax)"
      ],
      "execution_count": null,
      "outputs": []
    },
    {
      "cell_type": "code",
      "metadata": {
        "id": "XvD4u-KwWLNE",
        "colab": {
          "base_uri": "https://localhost:8080/",
          "height": 102
        },
        "outputId": "89d6c8b2-6810-4e26-f8e1-405bfdef48db"
      },
      "source": [
        "model"
      ],
      "execution_count": null,
      "outputs": [
        {
          "output_type": "execute_result",
          "data": {
            "text/plain": [
              "NeuralNet(\n",
              "  (linear1): Linear(in_features=784, out_features=200, bias=True)\n",
              "  (relu): ReLU()\n",
              "  (linear2): Linear(in_features=200, out_features=10, bias=True)\n",
              ")"
            ]
          },
          "metadata": {
            "tags": []
          },
          "execution_count": 6
        }
      ]
    },
    {
      "cell_type": "markdown",
      "metadata": {
        "id": "uZiyLqX4WLNI"
      },
      "source": [
        "input_size = 784 (28x28) \\\n",
        "hidden_size = 200 \\\n",
        "num_classes = 10 \\\n",
        "num_epochs = 15 \\\n",
        "batch_size = 100 \\\n",
        "learning_rate = 0.01"
      ]
    },
    {
      "cell_type": "markdown",
      "metadata": {
        "id": "3fp0yyNuWLNJ"
      },
      "source": [
        "Adam optimisation, an extension to stochastic gradient descent is used as an optimiser. It computes individual adaptive learning rates for different parameters from estimates of first and second moments of the gradients. \\\n",
        "\\\n",
        "opt.zero_grad( ): resets the .grad values of model parameters, weights and bias, back to zero. \\\n",
        "loss.backward( ): computes the gradient of loss with respect to the model parameters, weights and bias, which we are optimising. \\\n",
        "opt.step( ): performs the model parameter update, and updates the weights and biases, according to the optimiser used. \\\n",
        "Loss is updated with new parameters, after optimisation."
      ]
    },
    {
      "cell_type": "code",
      "metadata": {
        "id": "Sw3VSbMfWLNK",
        "colab": {
          "base_uri": "https://localhost:8080/",
          "height": 1000
        },
        "outputId": "bb58163a-b4eb-4e3b-a9f2-c84c873b325a"
      },
      "source": [
        "opt =  optim.Adam(model.parameters(), lr=0.01, weight_decay= 1e-6)\n",
        "num_epochs = 15\n",
        "n_total_steps = len(train_loader)\n",
        "Loss_list = []\n",
        "for epoch in range(num_epochs):\n",
        "    for i, (X, y) in enumerate(train_loader):\n",
        "        # origin shape: [100, 1, 28, 28]\n",
        "        # resized: [100, 784]\n",
        "        X = X.reshape(-1, 28*28).to(device)\n",
        "        y = y.to(device)\n",
        "\n",
        "        # Forward pass\n",
        "        yp = model(X)\n",
        "        loss = nn.CrossEntropyLoss()(yp,y)\n",
        "\n",
        "        # Backward and optimize\n",
        "        opt.zero_grad()\n",
        "        loss.backward()\n",
        "        opt.step()\n",
        "\n",
        "        if (i+1) % 100 == 0:\n",
        "            Loss_list.append(loss.item())\n",
        "            print (f'Epoch [{epoch+1}/{num_epochs}], Step [{i+1}/{n_total_steps}], Loss: {loss.item():.4f}')"
      ],
      "execution_count": null,
      "outputs": [
        {
          "output_type": "stream",
          "text": [
            "Epoch [1/15], Step [100/600], Loss: 0.3889\n",
            "Epoch [1/15], Step [200/600], Loss: 0.1363\n",
            "Epoch [1/15], Step [300/600], Loss: 0.4765\n",
            "Epoch [1/15], Step [400/600], Loss: 0.3860\n",
            "Epoch [1/15], Step [500/600], Loss: 0.1143\n",
            "Epoch [1/15], Step [600/600], Loss: 0.2891\n",
            "Epoch [2/15], Step [100/600], Loss: 0.2245\n",
            "Epoch [2/15], Step [200/600], Loss: 0.1476\n",
            "Epoch [2/15], Step [300/600], Loss: 0.0526\n",
            "Epoch [2/15], Step [400/600], Loss: 0.1270\n",
            "Epoch [2/15], Step [500/600], Loss: 0.3655\n",
            "Epoch [2/15], Step [600/600], Loss: 0.1795\n",
            "Epoch [3/15], Step [100/600], Loss: 0.2122\n",
            "Epoch [3/15], Step [200/600], Loss: 0.1762\n",
            "Epoch [3/15], Step [300/600], Loss: 0.3320\n",
            "Epoch [3/15], Step [400/600], Loss: 0.2323\n",
            "Epoch [3/15], Step [500/600], Loss: 0.0508\n",
            "Epoch [3/15], Step [600/600], Loss: 0.1355\n",
            "Epoch [4/15], Step [100/600], Loss: 0.1645\n",
            "Epoch [4/15], Step [200/600], Loss: 0.1360\n",
            "Epoch [4/15], Step [300/600], Loss: 0.2007\n",
            "Epoch [4/15], Step [400/600], Loss: 0.2886\n",
            "Epoch [4/15], Step [500/600], Loss: 0.3020\n",
            "Epoch [4/15], Step [600/600], Loss: 0.3505\n",
            "Epoch [5/15], Step [100/600], Loss: 0.1999\n",
            "Epoch [5/15], Step [200/600], Loss: 0.1882\n",
            "Epoch [5/15], Step [300/600], Loss: 0.0311\n",
            "Epoch [5/15], Step [400/600], Loss: 0.2014\n",
            "Epoch [5/15], Step [500/600], Loss: 0.1086\n",
            "Epoch [5/15], Step [600/600], Loss: 0.3103\n",
            "Epoch [6/15], Step [100/600], Loss: 0.2138\n",
            "Epoch [6/15], Step [200/600], Loss: 0.6349\n",
            "Epoch [6/15], Step [300/600], Loss: 0.1467\n",
            "Epoch [6/15], Step [400/600], Loss: 0.2544\n",
            "Epoch [6/15], Step [500/600], Loss: 0.3948\n",
            "Epoch [6/15], Step [600/600], Loss: 0.1355\n",
            "Epoch [7/15], Step [100/600], Loss: 0.1045\n",
            "Epoch [7/15], Step [200/600], Loss: 0.3189\n",
            "Epoch [7/15], Step [300/600], Loss: 0.2075\n",
            "Epoch [7/15], Step [400/600], Loss: 0.2601\n",
            "Epoch [7/15], Step [500/600], Loss: 0.0986\n",
            "Epoch [7/15], Step [600/600], Loss: 0.1956\n",
            "Epoch [8/15], Step [100/600], Loss: 0.0694\n",
            "Epoch [8/15], Step [200/600], Loss: 0.1578\n",
            "Epoch [8/15], Step [300/600], Loss: 0.0692\n",
            "Epoch [8/15], Step [400/600], Loss: 0.2021\n",
            "Epoch [8/15], Step [500/600], Loss: 0.1569\n",
            "Epoch [8/15], Step [600/600], Loss: 0.1355\n",
            "Epoch [9/15], Step [100/600], Loss: 0.1495\n",
            "Epoch [9/15], Step [200/600], Loss: 0.1602\n",
            "Epoch [9/15], Step [300/600], Loss: 0.2820\n",
            "Epoch [9/15], Step [400/600], Loss: 0.1982\n",
            "Epoch [9/15], Step [500/600], Loss: 0.0917\n",
            "Epoch [9/15], Step [600/600], Loss: 0.2384\n",
            "Epoch [10/15], Step [100/600], Loss: 0.2014\n",
            "Epoch [10/15], Step [200/600], Loss: 0.0899\n",
            "Epoch [10/15], Step [300/600], Loss: 0.2593\n",
            "Epoch [10/15], Step [400/600], Loss: 0.4570\n",
            "Epoch [10/15], Step [500/600], Loss: 0.1476\n",
            "Epoch [10/15], Step [600/600], Loss: 0.3338\n",
            "Epoch [11/15], Step [100/600], Loss: 0.0851\n",
            "Epoch [11/15], Step [200/600], Loss: 0.0606\n",
            "Epoch [11/15], Step [300/600], Loss: 0.1380\n",
            "Epoch [11/15], Step [400/600], Loss: 0.0402\n",
            "Epoch [11/15], Step [500/600], Loss: 0.1460\n",
            "Epoch [11/15], Step [600/600], Loss: 0.1741\n",
            "Epoch [12/15], Step [100/600], Loss: 0.2838\n",
            "Epoch [12/15], Step [200/600], Loss: 0.2617\n",
            "Epoch [12/15], Step [300/600], Loss: 0.2110\n",
            "Epoch [12/15], Step [400/600], Loss: 0.1232\n",
            "Epoch [12/15], Step [500/600], Loss: 0.2038\n",
            "Epoch [12/15], Step [600/600], Loss: 0.0858\n",
            "Epoch [13/15], Step [100/600], Loss: 0.0823\n",
            "Epoch [13/15], Step [200/600], Loss: 0.1315\n",
            "Epoch [13/15], Step [300/600], Loss: 0.1288\n",
            "Epoch [13/15], Step [400/600], Loss: 0.2517\n",
            "Epoch [13/15], Step [500/600], Loss: 0.1683\n",
            "Epoch [13/15], Step [600/600], Loss: 0.1834\n",
            "Epoch [14/15], Step [100/600], Loss: 0.1291\n",
            "Epoch [14/15], Step [200/600], Loss: 0.0652\n",
            "Epoch [14/15], Step [300/600], Loss: 0.1644\n",
            "Epoch [14/15], Step [400/600], Loss: 0.1777\n",
            "Epoch [14/15], Step [500/600], Loss: 0.1529\n",
            "Epoch [14/15], Step [600/600], Loss: 0.1230\n",
            "Epoch [15/15], Step [100/600], Loss: 0.1562\n",
            "Epoch [15/15], Step [200/600], Loss: 0.1550\n",
            "Epoch [15/15], Step [300/600], Loss: 0.1925\n",
            "Epoch [15/15], Step [400/600], Loss: 0.0477\n",
            "Epoch [15/15], Step [500/600], Loss: 0.0655\n",
            "Epoch [15/15], Step [600/600], Loss: 0.1093\n"
          ],
          "name": "stdout"
        }
      ]
    },
    {
      "cell_type": "code",
      "metadata": {
        "id": "HKnVZifNWLNN",
        "colab": {
          "base_uri": "https://localhost:8080/",
          "height": 265
        },
        "outputId": "5998d8ba-7191-4dfe-94d1-6f3bacd12b2a"
      },
      "source": [
        "#Plotting the evolution of the loss function\n",
        "Step_list = np.linspace(1,90,90)\n",
        "plt.plot(Step_list,Loss_list)\n",
        "plt.show()\n",
        "# np.shape(Loss_list)"
      ],
      "execution_count": null,
      "outputs": [
        {
          "output_type": "display_data",
          "data": {
            "image/png": "[encoded data removed]",
            "text/plain": [
              "<Figure size 432x288 with 1 Axes>"
            ]
          },
          "metadata": {
            "tags": []
          }
        }
      ]
    },
    {
      "cell_type": "markdown",
      "metadata": {
        "id": "R2QeSD8XWLNS"
      },
      "source": [
        "Finding the accuracy of the model by calucating the percentage of correct predictions."
      ]
    },
    {
      "cell_type": "code",
      "metadata": {
        "id": "p-bEVKLTWLNU",
        "colab": {
          "base_uri": "https://localhost:8080/",
          "height": 34
        },
        "outputId": "0cf2308d-0875-49b7-97aa-b24c67a9f484"
      },
      "source": [
        "with torch.no_grad():\n",
        "    n_correct = 0\n",
        "    n_samples = 0\n",
        "    for X, y in test_loader:\n",
        "        X = X.reshape(-1, 28*28).to(device)\n",
        "        y = y.to(device)\n",
        "        yp = model(X)\n",
        "        # max returns (value ,index)\n",
        "        _, predicted = torch.max(yp.data, 1)\n",
        "        n_samples += y.size(0)\n",
        "        n_correct += (predicted == y).sum().item()\n",
        "\n",
        "    acc = 100.0 * n_correct / n_samples\n",
        "    print(f'Accuracy of the network on the 10000 test images: {acc} %')"
      ],
      "execution_count": null,
      "outputs": [
        {
          "output_type": "stream",
          "text": [
            "Accuracy of the network on the 10000 test images: 95.53 %\n"
          ],
          "name": "stdout"
        }
      ]
    },
    {
      "cell_type": "markdown",
      "metadata": {
        "id": "RTawOrAbWLNY"
      },
      "source": [
        "Stochastic gradient descent optimisation"
      ]
    },
    {
      "cell_type": "code",
      "metadata": {
        "id": "E3pIFR5BWLNZ"
      },
      "source": [
        "model2 = NeuralNet(input_size=28*28, hidden_size=200, num_classes=10)\n",
        "criterion = nn.CrossEntropyLoss()  # (applies Softmax)"
      ],
      "execution_count": null,
      "outputs": []
    },
    {
      "cell_type": "code",
      "metadata": {
        "id": "t8bRpWqYWLNc",
        "colab": {
          "base_uri": "https://localhost:8080/",
          "height": 1000
        },
        "outputId": "1a945ecf-27f7-4c1f-c74e-474d95e30070"
      },
      "source": [
        "opt_SGD =  optim.SGD(model2.parameters(), lr=0.01, weight_decay= 1e-6)\n",
        "num_epochs = 15\n",
        "n_total_steps = len(train_loader)\n",
        "Loss_list2 = []\n",
        "for epoch in range(num_epochs):\n",
        "    for i, (X, y) in enumerate(train_loader):\n",
        "        # origin shape: [100, 1, 28, 28]\n",
        "        # resized: [100, 784]\n",
        "        X = X.reshape(-1, 28*28).to(device)\n",
        "        y = y.to(device)\n",
        "\n",
        "        # Forward pass\n",
        "        yp2 = model2(X)\n",
        "        loss2 = nn.CrossEntropyLoss()(yp2,y)\n",
        "\n",
        "        # Backward and optimize\n",
        "        opt_SGD.zero_grad()\n",
        "        loss2.backward()\n",
        "        opt_SGD.step()\n",
        "\n",
        "        if (i+1) % 100 == 0:\n",
        "            Loss_list2.append(loss2.item())\n",
        "            print (f'Epoch [{epoch+1}/{num_epochs}], Step [{i+1}/{n_total_steps}], Loss: {loss2.item():.4f}')"
      ],
      "execution_count": null,
      "outputs": [
        {
          "output_type": "stream",
          "text": [
            "Epoch [1/15], Step [100/600], Loss: 1.4924\n",
            "Epoch [1/15], Step [200/600], Loss: 0.9912\n",
            "Epoch [1/15], Step [300/600], Loss: 0.7569\n",
            "Epoch [1/15], Step [400/600], Loss: 0.5875\n",
            "Epoch [1/15], Step [500/600], Loss: 0.5424\n",
            "Epoch [1/15], Step [600/600], Loss: 0.3916\n",
            "Epoch [2/15], Step [100/600], Loss: 0.4110\n",
            "Epoch [2/15], Step [200/600], Loss: 0.4509\n",
            "Epoch [2/15], Step [300/600], Loss: 0.3759\n",
            "Epoch [2/15], Step [400/600], Loss: 0.4866\n",
            "Epoch [2/15], Step [500/600], Loss: 0.3724\n",
            "Epoch [2/15], Step [600/600], Loss: 0.3387\n",
            "Epoch [3/15], Step [100/600], Loss: 0.3473\n",
            "Epoch [3/15], Step [200/600], Loss: 0.3716\n",
            "Epoch [3/15], Step [300/600], Loss: 0.4891\n",
            "Epoch [3/15], Step [400/600], Loss: 0.4703\n",
            "Epoch [3/15], Step [500/600], Loss: 0.2688\n",
            "Epoch [3/15], Step [600/600], Loss: 0.3449\n",
            "Epoch [4/15], Step [100/600], Loss: 0.3116\n",
            "Epoch [4/15], Step [200/600], Loss: 0.3845\n",
            "Epoch [4/15], Step [300/600], Loss: 0.3373\n",
            "Epoch [4/15], Step [400/600], Loss: 0.3363\n",
            "Epoch [4/15], Step [500/600], Loss: 0.1862\n",
            "Epoch [4/15], Step [600/600], Loss: 0.2267\n",
            "Epoch [5/15], Step [100/600], Loss: 0.2606\n",
            "Epoch [5/15], Step [200/600], Loss: 0.2278\n",
            "Epoch [5/15], Step [300/600], Loss: 0.2757\n",
            "Epoch [5/15], Step [400/600], Loss: 0.2391\n",
            "Epoch [5/15], Step [500/600], Loss: 0.5598\n",
            "Epoch [5/15], Step [600/600], Loss: 0.2363\n",
            "Epoch [6/15], Step [100/600], Loss: 0.3366\n",
            "Epoch [6/15], Step [200/600], Loss: 0.3529\n",
            "Epoch [6/15], Step [300/600], Loss: 0.3642\n",
            "Epoch [6/15], Step [400/600], Loss: 0.1860\n",
            "Epoch [6/15], Step [500/600], Loss: 0.2606\n",
            "Epoch [6/15], Step [600/600], Loss: 0.3014\n",
            "Epoch [7/15], Step [100/600], Loss: 0.2490\n",
            "Epoch [7/15], Step [200/600], Loss: 0.4025\n",
            "Epoch [7/15], Step [300/600], Loss: 0.1865\n",
            "Epoch [7/15], Step [400/600], Loss: 0.2528\n",
            "Epoch [7/15], Step [500/600], Loss: 0.2187\n",
            "Epoch [7/15], Step [600/600], Loss: 0.2425\n",
            "Epoch [8/15], Step [100/600], Loss: 0.2001\n",
            "Epoch [8/15], Step [200/600], Loss: 0.2584\n",
            "Epoch [8/15], Step [300/600], Loss: 0.2143\n",
            "Epoch [8/15], Step [400/600], Loss: 0.4672\n",
            "Epoch [8/15], Step [500/600], Loss: 0.3386\n",
            "Epoch [8/15], Step [600/600], Loss: 0.2517\n",
            "Epoch [9/15], Step [100/600], Loss: 0.3014\n",
            "Epoch [9/15], Step [200/600], Loss: 0.3332\n",
            "Epoch [9/15], Step [300/600], Loss: 0.2887\n",
            "Epoch [9/15], Step [400/600], Loss: 0.3848\n",
            "Epoch [9/15], Step [500/600], Loss: 0.2546\n",
            "Epoch [9/15], Step [600/600], Loss: 0.2689\n",
            "Epoch [10/15], Step [100/600], Loss: 0.1818\n",
            "Epoch [10/15], Step [200/600], Loss: 0.2323\n",
            "Epoch [10/15], Step [300/600], Loss: 0.2994\n",
            "Epoch [10/15], Step [400/600], Loss: 0.2799\n",
            "Epoch [10/15], Step [500/600], Loss: 0.2156\n",
            "Epoch [10/15], Step [600/600], Loss: 0.2225\n",
            "Epoch [11/15], Step [100/600], Loss: 0.1967\n",
            "Epoch [11/15], Step [200/600], Loss: 0.3399\n",
            "Epoch [11/15], Step [300/600], Loss: 0.3364\n",
            "Epoch [11/15], Step [400/600], Loss: 0.2378\n",
            "Epoch [11/15], Step [500/600], Loss: 0.2175\n",
            "Epoch [11/15], Step [600/600], Loss: 0.2254\n",
            "Epoch [12/15], Step [100/600], Loss: 0.2869\n",
            "Epoch [12/15], Step [200/600], Loss: 0.2707\n",
            "Epoch [12/15], Step [300/600], Loss: 0.2375\n",
            "Epoch [12/15], Step [400/600], Loss: 0.2605\n",
            "Epoch [12/15], Step [500/600], Loss: 0.1788\n",
            "Epoch [12/15], Step [600/600], Loss: 0.2299\n",
            "Epoch [13/15], Step [100/600], Loss: 0.1901\n",
            "Epoch [13/15], Step [200/600], Loss: 0.2490\n",
            "Epoch [13/15], Step [300/600], Loss: 0.1414\n",
            "Epoch [13/15], Step [400/600], Loss: 0.1937\n",
            "Epoch [13/15], Step [500/600], Loss: 0.1968\n",
            "Epoch [13/15], Step [600/600], Loss: 0.1587\n",
            "Epoch [14/15], Step [100/600], Loss: 0.1796\n",
            "Epoch [14/15], Step [200/600], Loss: 0.1780\n",
            "Epoch [14/15], Step [300/600], Loss: 0.1844\n",
            "Epoch [14/15], Step [400/600], Loss: 0.2413\n",
            "Epoch [14/15], Step [500/600], Loss: 0.2635\n",
            "Epoch [14/15], Step [600/600], Loss: 0.0739\n",
            "Epoch [15/15], Step [100/600], Loss: 0.1560\n",
            "Epoch [15/15], Step [200/600], Loss: 0.2492\n",
            "Epoch [15/15], Step [300/600], Loss: 0.2347\n",
            "Epoch [15/15], Step [400/600], Loss: 0.1883\n",
            "Epoch [15/15], Step [500/600], Loss: 0.1384\n",
            "Epoch [15/15], Step [600/600], Loss: 0.1015\n"
          ],
          "name": "stdout"
        }
      ]
    },
    {
      "cell_type": "code",
      "metadata": {
        "id": "yjSzRCfgWLNg",
        "colab": {
          "base_uri": "https://localhost:8080/"
        },
        "outputId": "8154af2a-f60e-4064-cd6c-2a4a0edf0e31"
      },
      "source": [
        "#Plotting the evolution of the loss function\n",
        "Step_list = np.linspace(1,90,90)\n",
        "plt.plot(Step_list,Loss_list2)\n",
        "plt.show()\n",
        "# np.shape(Loss_list2)"
      ],
      "execution_count": null,
      "outputs": [
        {
          "output_type": "display_data",
          "data": {
            "image/png": "[encoded data removed]",
            "text/plain": [
              "<Figure size 432x288 with 1 Axes>"
            ]
          },
          "metadata": {
            "tags": []
          }
        }
      ]
    },
    {
      "cell_type": "markdown",
      "metadata": {
        "id": "q1qRC1mnWLNo"
      },
      "source": [
        "Finding the accuracy of the model by calucating the percentage of correct predictions."
      ]
    },
    {
      "cell_type": "code",
      "metadata": {
        "id": "8lgY6Z1JWLNp",
        "colab": {
          "base_uri": "https://localhost:8080/",
          "height": 34
        },
        "outputId": "53180d15-5fad-4eac-d0ba-08d7ddb5b37e"
      },
      "source": [
        "with torch.no_grad():\n",
        "    n_correct = 0\n",
        "    n_samples = 0\n",
        "    for X, y in test_loader:\n",
        "        X = X.reshape(-1, 28*28).to(device)\n",
        "        y = y.to(device)\n",
        "        yp2 = model2(X)\n",
        "        # max returns (value ,index)\n",
        "        _, predicted = torch.max(yp2.data, 1)\n",
        "        n_samples += y.size(0)\n",
        "        n_correct += (predicted == y).sum().item()\n",
        "\n",
        "    acc = 100.0 * n_correct / n_samples\n",
        "    print(f'Accuracy of the network on the 10000 test images: {acc} %')"
      ],
      "execution_count": null,
      "outputs": [
        {
          "output_type": "stream",
          "text": [
            "Accuracy of the network on the 10000 test images: 94.65 %\n"
          ],
          "name": "stdout"
        }
      ]
    },
    {
      "cell_type": "code",
      "metadata": {
        "id": "x18MZ1deWLNt"
      },
      "source": [
        "torch.save(model.state_dict(), \"model.pt\")"
      ],
      "execution_count": null,
      "outputs": []
    },
    {
      "cell_type": "code",
      "metadata": {
        "id": "3iWGPrlUWLNw",
        "colab": {
          "base_uri": "https://localhost:8080/",
          "height": 34
        },
        "outputId": "da2e5017-6250-4fb2-fba2-06fa8717ee50"
      },
      "source": [
        "model.load_state_dict(torch.load(\"model.pt\"))"
      ],
      "execution_count": null,
      "outputs": [
        {
          "output_type": "execute_result",
          "data": {
            "text/plain": [
              "<All keys matched successfully>"
            ]
          },
          "metadata": {
            "tags": []
          },
          "execution_count": 15
        }
      ]
    },
    {
      "cell_type": "markdown",
      "metadata": {
        "id": "uUFQLYhYWLN0"
      },
      "source": [
        "## Convolutional neural network"
      ]
    },
    {
      "cell_type": "markdown",
      "metadata": {
        "id": "V_EU6zQyWLN0"
      },
      "source": [
        "Input image has size 28 \\* 28 and has 1 input channel as it is the grey-scale image\n",
        "\n",
        "Stride: The number of pixels we shift our kernel along by to compute the next value in the output activation map.It is the step size of the filter \\\n",
        "Padding: Pad the input with a border of extra pixels around the edge. \\\n",
        "Max pooling: Replaces the values at each grid location with their maximum.\n",
        "\n",
        "1 input image channel, 6 output channels, 5x5 square convolution kernel \\\n",
        "Input channel size must be equal to the last output channel size (The output channel size can be anything). \\\n",
        "max polling with a kernel size 2 by 2 and a stride of 2.\n",
        "6 input image channel, 16 output channels, 5x5 square convolution kernel \\\n",
        "In x.view(-1,16\\*5\\*5), the first dimention is the batch size. \\\n",
        "If the input size = i \\* i (with same height and width), filter size = f \\* f, padding=p, and stride=s, then the output dimension = o \\* o, \\\n",
        "where o= $\\frac{(i-f +2p)}{s} + 1$\n",
        "\n",
        "image size= (batch size, 1, 28, 28) \\\n",
        "(28-5+0)/1 +1=24 \\\n",
        "after conv1, image size= (batch size, 6, 24, 24) \\\n",
        "(24-2+0)/2 +1=12 \\\n",
        "after pool, image size= (batch size, 6, 12, 12) \\\n",
        "(12-5+0)/1 +1=8 \\\n",
        "after conv2, image size= (batch size, 16, 8, 8) \\\n",
        "(8-2+0)/2 +1=4 \\\n",
        "after pool, image size= (batch size, 16, 4, 4)\n",
        "\n",
        "After the convolutional layers, the next step is to flatten the 3-D tensors into 1-D tensor, for the classification layer. \\\n",
        "The input size for the linear layer is 16\\*4\\*4 \\\n",
        "Applying relu activation function at every layer"
      ]
    },
    {
      "cell_type": "code",
      "metadata": {
        "id": "CqVvwqJzWLN1"
      },
      "source": [
        "class Net(nn.Module):\n",
        "    def __init__(self):\n",
        "        super(Net, self).__init__()\n",
        "        self.conv1 = nn.Conv2d(1, 6, 5)\n",
        "        self.pool = nn.MaxPool2d(2, 2)\n",
        "        self.conv2 = nn.Conv2d(6, 16, 5)\n",
        "        self.fc1 = nn.Linear(16 * 4 * 4, 120)\n",
        "        self.fc2 = nn.Linear(120, 84)\n",
        "        self.fc3 = nn.Linear(84, 10)\n",
        "\n",
        "    def forward(self, x):\n",
        "        x = self.pool(F.relu(self.conv1(x)))\n",
        "        x = self.pool(F.relu(self.conv2(x)))\n",
        "        x = x.view(-1, 16 * 4 * 4)\n",
        "        x = F.relu(self.fc1(x))\n",
        "        x = F.relu(self.fc2(x))\n",
        "        x = self.fc3(x)\n",
        "        return x\n",
        "\n",
        "\n",
        "model_cnn = Net()"
      ],
      "execution_count": null,
      "outputs": []
    },
    {
      "cell_type": "code",
      "metadata": {
        "id": "CcHh6ioPWLN4",
        "colab": {
          "base_uri": "https://localhost:8080/"
        },
        "outputId": "f4ef7af0-c1e0-4119-e42d-69fd253ce51b"
      },
      "source": [
        "model_cnn"
      ],
      "execution_count": null,
      "outputs": [
        {
          "output_type": "execute_result",
          "data": {
            "text/plain": [
              "Net(\n",
              "  (conv1): Conv2d(1, 6, kernel_size=(5, 5), stride=(1, 1))\n",
              "  (pool): MaxPool2d(kernel_size=2, stride=2, padding=0, dilation=1, ceil_mode=False)\n",
              "  (conv2): Conv2d(6, 16, kernel_size=(5, 5), stride=(1, 1))\n",
              "  (fc1): Linear(in_features=256, out_features=120, bias=True)\n",
              "  (fc2): Linear(in_features=120, out_features=84, bias=True)\n",
              "  (fc3): Linear(in_features=84, out_features=10, bias=True)\n",
              ")"
            ]
          },
          "metadata": {
            "tags": []
          },
          "execution_count": 17
        }
      ]
    },
    {
      "cell_type": "code",
      "metadata": {
        "id": "_JgsayU1WLN_"
      },
      "source": [
        "c = nn.CrossEntropyLoss()\n",
        "o = optim.SGD(model_cnn.parameters(), lr=0.001, momentum=0.9)"
      ],
      "execution_count": null,
      "outputs": []
    },
    {
      "cell_type": "code",
      "metadata": {
        "id": "lgbc-YssWLOD"
      },
      "source": [
        "def train(model_cnn):\n",
        "\n",
        "    for epoch in range(5): # no. of epochs\n",
        "        running_loss = 0.0\n",
        "        for i, data in enumerate(train_loader, 0):\n",
        "            # data pixels and labels to GPU if available\n",
        "            inputs, labels = data[0].to(device, non_blocking=True), data[1].to(device, non_blocking=True)\n",
        "            # set the parameter gradients to zero\n",
        "            o.zero_grad()\n",
        "            outputs = model_cnn(inputs)\n",
        "            loss = c(outputs, labels)\n",
        "            # propagate the loss backward\n",
        "            loss.backward()\n",
        "            o.step()\n",
        "\n",
        "            # print for mini batches\n",
        "            running_loss += loss.item()\n",
        "            if i % 500 == 499:  # every 500 mini batches\n",
        "                print('[Epoch %d, %5d Mini Batches] loss: %.3f' %\n",
        "                      (epoch + 1, i + 1, running_loss/500))\n",
        "                running_loss = 0.0"
      ],
      "execution_count": null,
      "outputs": []
    },
    {
      "cell_type": "code",
      "metadata": {
        "id": "_iY3V6P8WLOG",
        "colab": {
          "base_uri": "https://localhost:8080/"
        },
        "outputId": "97bde1eb-aa88-4bf0-d373-fc277e40366f"
      },
      "source": [
        "train(model_cnn)"
      ],
      "execution_count": null,
      "outputs": [
        {
          "output_type": "stream",
          "text": [
            "[Epoch 1,   500 Mini Batches] loss: 2.286\n",
            "[Epoch 2,   500 Mini Batches] loss: 1.069\n",
            "[Epoch 3,   500 Mini Batches] loss: 0.338\n",
            "[Epoch 4,   500 Mini Batches] loss: 0.232\n",
            "[Epoch 5,   500 Mini Batches] loss: 0.175\n"
          ],
          "name": "stdout"
        }
      ]
    },
    {
      "cell_type": "code",
      "metadata": {
        "id": "oWt9EEP0WLOJ",
        "colab": {
          "base_uri": "https://localhost:8080/"
        },
        "outputId": "fd9ee1e9-a50c-4ba7-cc93-1f501672fd70"
      },
      "source": [
        "with torch.no_grad():\n",
        "    correct = 0\n",
        "    total = 0\n",
        "    for data in test_loader:\n",
        "        inputs, labels = data[0].to(device, non_blocking=True), data[1].to(device, non_blocking=True)\n",
        "        outputs = model_cnn(inputs)\n",
        "        _, predicted = torch.max(outputs.data, 1)\n",
        "        total += labels.size(0)\n",
        "        correct += (predicted == labels).sum().item()\n",
        "\n",
        "    acc = 100.0 * correct / total\n",
        "    print(f'Accuracy of the network on the 10000 test images: {acc} %')"
      ],
      "execution_count": null,
      "outputs": [
        {
          "output_type": "stream",
          "text": [
            "Accuracy of the network on the 10000 test images: 95.49 %\n"
          ],
          "name": "stdout"
        }
      ]
    },
    {
      "cell_type": "code",
      "metadata": {
        "id": "4VpCbYjEWLOM"
      },
      "source": [
        "model_cnn2 = nn.Sequential(nn.Conv2d(1, 32, 3, padding=1), nn.ReLU(),\n",
        "                          nn.Conv2d(32, 32, 3, padding=1, stride=2), nn.ReLU(),\n",
        "                          nn.Conv2d(32, 64, 3, padding=1), nn.ReLU(),\n",
        "                          nn.Conv2d(64, 64, 3, padding=1, stride=2), nn.ReLU(),\n",
        "                          Flatten(),\n",
        "                          nn.Linear(7*7*64, 100), nn.ReLU(),\n",
        "                          nn.Linear(100, 10)).to(device)"
      ],
      "execution_count": null,
      "outputs": []
    },
    {
      "cell_type": "code",
      "metadata": {
        "id": "9IHwEDxqWLOQ",
        "colab": {
          "base_uri": "https://localhost:8080/"
        },
        "outputId": "69de9707-5e20-4e93-bf21-282ab9fe1be5"
      },
      "source": [
        "model_cnn2"
      ],
      "execution_count": null,
      "outputs": [
        {
          "output_type": "execute_result",
          "data": {
            "text/plain": [
              "Sequential(\n",
              "  (0): Conv2d(1, 32, kernel_size=(3, 3), stride=(1, 1), padding=(1, 1))\n",
              "  (1): ReLU()\n",
              "  (2): Conv2d(32, 32, kernel_size=(3, 3), stride=(2, 2), padding=(1, 1))\n",
              "  (3): ReLU()\n",
              "  (4): Conv2d(32, 64, kernel_size=(3, 3), stride=(1, 1), padding=(1, 1))\n",
              "  (5): ReLU()\n",
              "  (6): Conv2d(64, 64, kernel_size=(3, 3), stride=(2, 2), padding=(1, 1))\n",
              "  (7): ReLU()\n",
              "  (8): Flatten()\n",
              "  (9): Linear(in_features=3136, out_features=100, bias=True)\n",
              "  (10): ReLU()\n",
              "  (11): Linear(in_features=100, out_features=10, bias=True)\n",
              ")"
            ]
          },
          "metadata": {
            "tags": []
          },
          "execution_count": 23
        }
      ]
    },
    {
      "cell_type": "code",
      "metadata": {
        "id": "l0mlNOrfWLOU"
      },
      "source": [
        "criterion2 = nn.CrossEntropyLoss()\n",
        "optimizer2 = optim.SGD(model_cnn2.parameters(), lr=0.001, momentum=0.9)"
      ],
      "execution_count": null,
      "outputs": []
    },
    {
      "cell_type": "code",
      "metadata": {
        "id": "P4YjyfexWLOX"
      },
      "source": [
        "def train(model_cnn2):\n",
        "\n",
        "    for epoch in range(5): # no. of epochs\n",
        "        running_loss = 0.0\n",
        "        for i, data in enumerate(train_loader, 0):\n",
        "            # data pixels and labels to GPU if available\n",
        "            inputs, labels = data[0].to(device, non_blocking=True), data[1].to(device, non_blocking=True)\n",
        "            # set the parameter gradients to zero\n",
        "            optimizer2.zero_grad()\n",
        "            outputs = model_cnn2(inputs)\n",
        "            loss = criterion2(outputs, labels)\n",
        "            # propagate the loss backward\n",
        "            loss.backward()\n",
        "            optimizer2.step()\n",
        "\n",
        "            # print for mini batches\n",
        "            running_loss += loss.item()\n",
        "            if i % 500 == 499:  # every 500 mini batches\n",
        "                print('[Epoch %d, %5d Mini Batches] loss: %.3f' %\n",
        "                      (epoch + 1, i + 1, running_loss/500))\n",
        "                running_loss = 0.0"
      ],
      "execution_count": null,
      "outputs": []
    },
    {
      "cell_type": "code",
      "metadata": {
        "id": "oGcJ61PVWLOb",
        "colab": {
          "base_uri": "https://localhost:8080/"
        },
        "outputId": "1584f92f-8a26-4505-eadb-710b15766ef2"
      },
      "source": [
        "train(model_cnn2)"
      ],
      "execution_count": null,
      "outputs": [
        {
          "output_type": "stream",
          "text": [
            "[Epoch 1,   500 Mini Batches] loss: 2.299\n",
            "[Epoch 2,   500 Mini Batches] loss: 1.220\n",
            "[Epoch 3,   500 Mini Batches] loss: 0.292\n",
            "[Epoch 4,   500 Mini Batches] loss: 0.204\n",
            "[Epoch 5,   500 Mini Batches] loss: 0.157\n"
          ],
          "name": "stdout"
        }
      ]
    },
    {
      "cell_type": "code",
      "metadata": {
        "id": "TN2HrTIgWLOf",
        "colab": {
          "base_uri": "https://localhost:8080/"
        },
        "outputId": "0eb3fa61-9ba5-4e4e-fe16-680c319649fa"
      },
      "source": [
        "with torch.no_grad():\n",
        "    correct = 0\n",
        "    total = 0\n",
        "    for data in test_loader:\n",
        "        inputs, labels = data[0].to(device, non_blocking=True), data[1].to(device, non_blocking=True)\n",
        "        outputs = model_cnn2(inputs)\n",
        "        _, predicted = torch.max(outputs.data, 1)\n",
        "        total += labels.size(0)\n",
        "        correct += (predicted == labels).sum().item()\n",
        "\n",
        "    acc = 100.0 * correct / total\n",
        "    print(f'Accuracy of the network on the 10000 test images: {acc} %')"
      ],
      "execution_count": null,
      "outputs": [
        {
          "output_type": "stream",
          "text": [
            "Accuracy of the network on the 10000 test images: 95.72 %\n"
          ],
          "name": "stdout"
        }
      ]
    },
    {
      "cell_type": "code",
      "metadata": {
        "id": "D4nTKgKlWLOj"
      },
      "source": [
        "torch.save(model_cnn.state_dict(), \"model_cnn.pt\")"
      ],
      "execution_count": null,
      "outputs": []
    },
    {
      "cell_type": "code",
      "metadata": {
        "id": "wykgVZC1WLOm",
        "colab": {
          "base_uri": "https://localhost:8080/"
        },
        "outputId": "cc2d4a5b-6d4f-4fd1-e14f-be7a70013383"
      },
      "source": [
        "model_cnn.load_state_dict(torch.load(\"model_cnn.pt\"))"
      ],
      "execution_count": null,
      "outputs": [
        {
          "output_type": "execute_result",
          "data": {
            "text/plain": [
              "<All keys matched successfully>"
            ]
          },
          "metadata": {
            "tags": []
          },
          "execution_count": 29
        }
      ]
    },
    {
      "cell_type": "markdown",
      "metadata": {
        "id": "xyZwJbEqWLOq"
      },
      "source": [
        "## Fast Gradient Sign Method (FGSM)\n"
      ]
    },
    {
      "cell_type": "markdown",
      "metadata": {
        "id": "YBJuqD7jWLOr"
      },
      "source": [
        "Adversarial attack aims to add the smallest amount of perturbation to the input data in order to cause specific types of misclassifications. The white-box attack, which is the kind of attack implemented in this project, requires full access to the neural network architecture with input and output data, as well as values of the optimized weights. (The black-box attack in comparison assumes no knowledge of the model apart from the input output data) [5]\n",
        "\n",
        "The fast gradient sign method (FGSM) is a popular and powerful attack engineered to attack the model by adding perturbations in the direction of the gradient, i.e. the way the neural network learn, in order to achieve misclassifications. This is outlined by equation (6):\n",
        "\n",
        "\\begin{equation}\n",
        " x_i' = x_i + \\epsilon sign(\\nabla_{x} l_i (f_w(x_i), y_i), \\quad \\quad \\quad \\quad(6)\n",
        "\\end{equation}\n",
        "\n",
        "where $x_i$ represents the $ith$ element of the original input data, $y_i$ represents the true output labels, and $\\epsilon$ specifies the magnitude of the adversarial perturbation. x’ is the adversarial input (deliberately designed to misclassify by the model)\n",
        "\n",
        "In the case of the project, the attack alters the input image by adding noises to cause misclassifications of .\n"
      ]
    },
    {
      "cell_type": "code",
      "metadata": {
        "id": "qK5rKr47WLOs"
      },
      "source": [
        "def fgsm(model, X, y, epsilon):\n",
        "    \"\"\" Construct FGSM adversarial examples on the examples X\"\"\"\n",
        "    delta = torch.zeros_like(X, requires_grad=True)\n",
        "    loss = nn.CrossEntropyLoss()(model(X + delta), y)\n",
        "    loss.backward()\n",
        "    return epsilon * delta.grad.detach().sign()"
      ],
      "execution_count": null,
      "outputs": []
    },
    {
      "cell_type": "code",
      "metadata": {
        "id": "V9z3cLlvWLOv"
      },
      "source": [
        "for X,y in test_loader:\n",
        "    X,y = X.to(device), y.to(device)\n",
        "    break\n",
        "\n",
        "def plot_images(X,y,yp,M,N):\n",
        "    f,ax = plt.subplots(M,N, sharex=True, sharey=True, figsize=(N,M*1.3))\n",
        "    for i in range(M):\n",
        "        for j in range(N):\n",
        "            ax[i][j].imshow(1-X[i*N+j][0].cpu().numpy(), cmap=\"gray\")\n",
        "            title = ax[i][j].set_title(\"Pred: {}\".format(yp[i*N+j].max(dim=0)[1]))\n",
        "            plt.setp(title, color=('g' if yp[i*N+j].max(dim=0)[1] == y[i*N+j] else 'r'))\n",
        "            ax[i][j].set_axis_off()\n",
        "    plt.tight_layout()"
      ],
      "execution_count": null,
      "outputs": []
    },
    {
      "cell_type": "code",
      "metadata": {
        "id": "gj5gQ1SGWLOx"
      },
      "source": [
        "def epoch_adversarial(model, loader, attack, *args):\n",
        "    total_loss, total_acc = 0.,0.\n",
        "    for X,y in loader:\n",
        "        X,y = X.to(device), y.to(device)\n",
        "        delta = attack(model, X, y, *args)\n",
        "        yp = model(X+delta)\n",
        "        loss = nn.CrossEntropyLoss()(yp,y)\n",
        "\n",
        "        total_acc += (yp.max(dim=1)[1] == y).sum().item()\n",
        "        total_loss += loss.item() * X.shape[0]\n",
        "    return total_acc / len(loader.dataset), total_loss / len(loader.dataset)"
      ],
      "execution_count": null,
      "outputs": []
    },
    {
      "cell_type": "code",
      "metadata": {
        "id": "Vyk6y3OrWLO1",
        "colab": {
          "base_uri": "https://localhost:8080/"
        },
        "outputId": "d60297e4-22b8-4acc-8be7-0c7fea1a3565"
      },
      "source": [
        "yp = model(X)\n",
        "plot_images(X, y, yp, 3, 6)"
      ],
      "execution_count": null,
      "outputs": [
        {
          "output_type": "display_data",
          "data": {
            "image/png": "[encoded data removed]",
            "text/plain": [
              "<Figure size 432x280.8 with 18 Axes>"
            ]
          },
          "metadata": {
            "tags": []
          }
        }
      ]
    },
    {
      "cell_type": "code",
      "metadata": {
        "id": "tD5SYu_kWLO6",
        "colab": {
          "base_uri": "https://localhost:8080/"
        },
        "outputId": "48db2f49-e8b6-463b-a3b5-33ddf1d46c5d"
      },
      "source": [
        "delta = fgsm(model, X, y, 0.1)\n",
        "yp = model(X + delta)\n",
        "plot_images(X+delta, y, yp, 3, 6)"
      ],
      "execution_count": null,
      "outputs": [
        {
          "output_type": "display_data",
          "data": {
            "image/png": "[encoded data removed]",
            "text/plain": [
              "<Figure size 432x280.8 with 18 Axes>"
            ]
          },
          "metadata": {
            "tags": []
          }
        }
      ]
    },
    {
      "cell_type": "code",
      "metadata": {
        "id": "2VSNrhqBWLO-",
        "colab": {
          "base_uri": "https://localhost:8080/"
        },
        "outputId": "beaf4c08-9644-4e54-fc64-1631fa448423"
      },
      "source": [
        "print(\"2-layer DNN:\", epoch_adversarial(model, test_loader, fgsm, 0.1)[0]*100)"
      ],
      "execution_count": null,
      "outputs": [
        {
          "output_type": "stream",
          "text": [
            "2-layer DNN: 50.36000000000001\n"
          ],
          "name": "stdout"
        }
      ]
    },
    {
      "cell_type": "code",
      "metadata": {
        "id": "XGgnKimfWLPB"
      },
      "source": [
        "epsilons = [0, .05, .1, .15, .2, .25, .3]\n",
        "accuracies = []\n",
        "for eps in epsilons:\n",
        "    accuracy = epoch_adversarial(model, test_loader, fgsm, eps)[0]\n",
        "    accuracies.append(accuracy)"
      ],
      "execution_count": null,
      "outputs": []
    },
    {
      "cell_type": "code",
      "metadata": {
        "id": "5_BRzf0SWLPH",
        "colab": {
          "base_uri": "https://localhost:8080/"
        },
        "outputId": "6797af92-7351-40b3-bcaa-82ca6a72abd3"
      },
      "source": [
        "print(accuracies)\n",
        "plt.plot(epsilons,accuracies)\n",
        "plt.show()"
      ],
      "execution_count": null,
      "outputs": [
        {
          "output_type": "stream",
          "text": [
            "[0.9553, 0.7727, 0.5036, 0.3596, 0.2723, 0.2217, 0.1934]\n"
          ],
          "name": "stdout"
        },
        {
          "output_type": "display_data",
          "data": {
            "image/png": "[encoded data removed]",
            "text/plain": [
              "<Figure size 432x288 with 1 Axes>"
            ]
          },
          "metadata": {
            "tags": []
          }
        }
      ]
    },
    {
      "cell_type": "code",
      "metadata": {
        "id": "w-XzQ3ftWLPK",
        "colab": {
          "base_uri": "https://localhost:8080/"
        },
        "outputId": "24253cfc-a5da-4f91-b9b5-392be06c95e6"
      },
      "source": [
        "print(\"CNN:\", epoch_adversarial(model_cnn, test_loader, fgsm, 0.1)[0]*100)"
      ],
      "execution_count": null,
      "outputs": [
        {
          "output_type": "stream",
          "text": [
            "CNN: 66.2\n"
          ],
          "name": "stdout"
        }
      ]
    },
    {
      "cell_type": "markdown",
      "metadata": {
        "id": "cPOAw70DWLPN"
      },
      "source": [
        "## FGSM Attack on CNN"
      ]
    },
    {
      "cell_type": "code",
      "metadata": {
        "id": "BjN5NepZWLPN",
        "colab": {
          "base_uri": "https://localhost:8080/"
        },
        "outputId": "470cb6d9-edb4-480d-a434-e62177acc1dc"
      },
      "source": [
        "yp = model_cnn(X)\n",
        "plot_images(X, y, yp, 3, 6)"
      ],
      "execution_count": null,
      "outputs": [
        {
          "output_type": "display_data",
          "data": {
            "image/png": "[encoded data removed]",
            "text/plain": [
              "<Figure size 432x280.8 with 18 Axes>"
            ]
          },
          "metadata": {
            "tags": []
          }
        }
      ]
    },
    {
      "cell_type": "code",
      "metadata": {
        "id": "AHsXt_HtWLPS",
        "colab": {
          "base_uri": "https://localhost:8080/"
        },
        "outputId": "22cfca2f-fa29-4a79-a507-0682d68f0362"
      },
      "source": [
        "delta = fgsm(model_cnn, X, y, 0.1)\n",
        "yp = model_cnn(X + delta)\n",
        "plot_images(X+delta, y, yp, 3, 6)"
      ],
      "execution_count": null,
      "outputs": [
        {
          "output_type": "display_data",
          "data": {
            "image/png": "[encoded data removed]",
            "text/plain": [
              "<Figure size 432x280.8 with 18 Axes>"
            ]
          },
          "metadata": {
            "tags": []
          }
        }
      ]
    },
    {
      "cell_type": "code",
      "metadata": {
        "id": "ob3_SiJtWLPV",
        "colab": {
          "base_uri": "https://localhost:8080/"
        },
        "outputId": "670f629c-db80-4dfc-cf8f-802f53f5da0e"
      },
      "source": [
        "print(\"CNN:\", epoch_adversarial(model_cnn, test_loader, fgsm, 0.1)[0])"
      ],
      "execution_count": null,
      "outputs": [
        {
          "output_type": "stream",
          "text": [
            "CNN: 0.662\n"
          ],
          "name": "stdout"
        }
      ]
    },
    {
      "cell_type": "code",
      "metadata": {
        "id": "Iw_3gtK_WLPY"
      },
      "source": [
        "epsilons = [0, .05, .1, .15, .2, .25, .3]\n",
        "accuracies = []\n",
        "for eps in epsilons:\n",
        "    accuracy = epoch_adversarial(model, test_loader, fgsm, eps)[0]\n",
        "    accuracies.append(accuracy)"
      ],
      "execution_count": null,
      "outputs": []
    },
    {
      "cell_type": "code",
      "metadata": {
        "id": "nDXI1NWbWLPb",
        "colab": {
          "base_uri": "https://localhost:8080/"
        },
        "outputId": "96997274-a14b-4407-88e8-63d0fe894bdd"
      },
      "source": [
        "print(accuracies)\n",
        "plt.plot(epsilons,accuracies)\n",
        "plt.show()"
      ],
      "execution_count": null,
      "outputs": [
        {
          "output_type": "stream",
          "text": [
            "[0.9553, 0.7727, 0.5036, 0.3596, 0.2723, 0.2217, 0.1934]\n"
          ],
          "name": "stdout"
        },
        {
          "output_type": "display_data",
          "data": {
            "image/png": "[encoded data removed]",
            "text/plain": [
              "<Figure size 432x288 with 1 Axes>"
            ]
          },
          "metadata": {
            "tags": []
          }
        }
      ]
    },
    {
      "cell_type": "markdown",
      "metadata": {
        "id": "3-lOQTp2WLPg"
      },
      "source": [
        "## Results"
      ]
    },
    {
      "cell_type": "markdown",
      "metadata": {
        "collapsed": true,
        "id": "hVyHbG9fWLPi"
      },
      "source": [
        "# References"
      ]
    },
    {
      "cell_type": "markdown",
      "metadata": {
        "id": "lvV_BNY8WLPj"
      },
      "source": [
        "[1] Benning, M. (2020). *Advanced Machine Learning, Deep Learning.* Queen Mary University of London\n",
        "\n",
        "[2] Shalev-Shwartz, S. and Ben-David, S. (2014) “Neural Networks,” in *Understanding Machine Learning: From Theory to Algorithms.* Cambridge: Cambridge University Press, pp. 228–242. doi: 10.1017/CBO9781107298019.021.\n",
        "\n",
        "[3] Liu, D., 2017. *A Practical Guide To Relu.* [online] Medium. Available at: <https://medium.com/@danqing/a-practical-guide-to-relu-b83ca804f1f7> [Accessed 15 March 2020].\n",
        "\n",
        "[4] Kingma, Diederik & Ba, Jimmy. (2014). *Adam: A Method for Stochastic Optimization.* International Conference on Learning Representations.\n",
        "\n",
        "[5] Inkawhich, N., 2017. *Adversarial Example Generation — Pytorch Tutorials 1.4.0 Documentation.* [online] Pytorch.org. Available at: <https://pytorch.org/tutorials/beginner/fgsm_tutorial.html> [Accessed 15 March 2020].\n",
        "\n",
        "[6] D2l.ai. 2020. 6. Convolutional Neural Networks — Dive Into Deep Learning 0.7.1 Documentation. [online] Available at: <https://d2l.ai/chapter_convolutional-neural-networks/index.html> [Accessed 15 March 2020].\n",
        "\n",
        "[7] https://github.com/python-engineer/pytorchTutorial"
      ]
    },
    {
      "cell_type": "code",
      "metadata": {
        "id": "sYO2whzrWLPk"
      },
      "source": [],
      "execution_count": null,
      "outputs": []
    },
    {
      "cell_type": "code",
      "metadata": {
        "id": "-5SFriwQWLPn"
      },
      "source": [],
      "execution_count": null,
      "outputs": []
    }
  ]
}