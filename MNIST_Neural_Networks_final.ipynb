{
 "cells": [
  {
   "cell_type": "markdown",
   "metadata": {
    "colab_type": "text",
    "id": "DR1uu5aOetig"
   },
   "source": [
    "# Classifying MNIST hand written digits using neural networks"
   ]
  },
  {
   "cell_type": "code",
   "execution_count": 0,
   "metadata": {
    "colab": {},
    "colab_type": "code",
    "collapsed": true,
    "id": "iya8WIcQetik"
   },
   "outputs": [],
   "source": [
    "import torch\n",
    "import torch.nn as nn\n",
    "import torch.optim as optim\n",
    "import torchvision\n",
    "import torchvision.transforms as transforms\n",
    "import matplotlib.pyplot as plt\n",
    "import numpy as np\n",
    "import torch.nn.functional as F\n",
    "import torchvision.transforms as transforms\n",
    "device = torch.device(\"cuda:0\" if torch.cuda.is_available() else \"cpu\")"
   ]
  },
  {
   "cell_type": "markdown",
   "metadata": {
    "colab_type": "text",
    "id": "O6V66xvmetip"
   },
   "source": [
    "# Abstract"
   ]
  },
  {
   "cell_type": "markdown",
   "metadata": {
    "colab_type": "text",
    "id": "Fy_HcOJ4etiq"
   },
   "source": [
    "This project aims to build a multi-class classifier using neural network model for classifying the images of handwritten digits from the MNIST data. Then an adversarial attack using the Fast Gradient Sign Method was implemented in order to break the neural network model built in the project. "
   ]
  },
  {
   "cell_type": "markdown",
   "metadata": {
    "colab_type": "text",
    "id": "lEud4k8Metir"
   },
   "source": [
    "# 1.   Theory and Introduction"
   ]
  },
  {
   "cell_type": "markdown",
   "metadata": {
    "colab_type": "text",
    "id": "bep8ZqIOetit"
   },
   "source": [
    "The deep neural networks are a class a surperivsed machine learning models that are nonlinear for both input arguments and weights. The inspiration of neural network models is the structure of neural neworks in the brain. Models of the brain includes a large amounts of neurons that are communicates with each other through a complex network. This enables the brain to perform extremely complex computations, and the artifitial neural networks are modeled according to this computation paradigm. [1] [2] "
   ]
  },
  {
   "cell_type": "markdown",
   "metadata": {
    "colab_type": "text",
    "id": "jAQQf2QWetiu"
   },
   "source": [
    "# 1.1 Using Neural Network for classification"
   ]
  },
  {
   "cell_type": "markdown",
   "metadata": {
    "colab_type": "text",
    "id": "PHDouXhgetiw"
   },
   "source": [
    "The deep neural networks are a class a surperivsed machine learning models that are nonlinear for both input arguments and weights. The inspiration of neural network models is the structure of neural neworks in the brain. Models of the brain includes a large amounts of neurons that are communicates with each other through a complex network. This enables the brain to perform extremely complex computations, and the artifitial neural networks are modeled according to this computation paradigm. [1] [2]"
   ]
  },
  {
   "cell_type": "markdown",
   "metadata": {
    "colab_type": "text",
    "id": "NYz53QU2etiy"
   },
   "source": [
    "# 1.1.1  Feed Forward Neural Networks"
   ]
  },
  {
   "cell_type": "markdown",
   "metadata": {
    "colab_type": "text",
    "id": "CKUBnjtaeti0"
   },
   "source": [
    "Mathematically, A deep neural netwok model is a function consists of many layers of parametrised functions. A neural network $f_w(x)$ consisting of $L$ layers can be described by equation (1) :\n",
    "\n",
    "\\begin{equation}\n",
    "f_w(x) := \\phi_L(\\phi_{L-1}(\\dotsb \\phi_2(\\phi_1(x,w_1),w_2)\\dotsb, w_{L-1}),w_L),    \\quad\\quad\\quad \\quad   (1)\n",
    "\\end{equation}\n",
    "\n",
    "where $\\{\\phi_l\\}_{l=1}^{L}$ is a collection of L activation functions which are parametrised with weights $w := \\{w_l\\}_{l=1}^{L}$, and $x$ is the input arguments. \n",
    "\n",
    "In the project, we first of all chose our neural network archetecture to be a two-layer model described by equation (2):\n",
    "\n",
    "\\begin{equation}\n",
    "f_w(x) := \\phi_2( W_{2}^{T}( \\phi_1( W_{1}^{T} X + b_1)) + b_2),   \\quad\\quad\\quad\\quad   (2)\n",
    "\\end{equation}\n",
    "\n",
    "where $X$ is the input matrix, $\\phi_1$ is the inner layer activation function with weight matrix $W_{1}$ and bias vector $b_1$ as the parameters of the activation function. Similarly, $\\phi_2$ is the outer layer activation function with weight matrix $W_{2}$ and bias vector $b_2$ as parameters. Equation (2) describes a feedforward neural network,where the network structure does not contain any cycles. Figure 1 shows a directed acyclic graph represetating the feedforward neural network used in the project.\n",
    "\n",
    "<img src=\"FeedForward_Graph.png\",width=400, height=500 > \n",
    "<center>Figure 1: A directed acyclic graph illustrating the structure of the feedforward neural network model used in this project</center>\n"
   ]
  },
  {
   "cell_type": "markdown",
   "metadata": {
    "colab_type": "text",
    "id": "r1b6cUl5eti1"
   },
   "source": [
    "The (bottom) input layer consists of $n$ nodes ($n$ represents the number of input features, in this project, $n = 784$ for $28 \\times 28$ features of each input image). As shown in equation (2), starting from the input data matrix $X$, with the specified values of initial weight $W_{1}$ and bias $b_1$ of the input layer (which were chosen arbitrarily), an affine linear transformation on the input data matrix is applied. Then the resulting vector is fed into the first activation function, $\\phi_1$, in order to obtain the hidden layer. The number of nodes, $h$, in the hidden layer can be arbitrarily defined, usually chosen to be between the number of input nodes and output nodes. (In this project, $h$ is chosen to be $200$.) As equation (2) describes, the results of the hidden layer are again applied with another affine linear transformation with the hidden layer weights and bias, $W_2$ and $b_2$. Then the results are wrapped in the second activation function $\\phi_2$ in order to obtain the output layer. The number of nodes in the output layer reflects the number of classes in the classification. In this project, there are 10 classes (or class labels) representing the handwritten digits from 0 to 9."
   ]
  },
  {
   "cell_type": "markdown",
   "metadata": {
    "colab_type": "text",
    "id": "AQgB1HWJeti2"
   },
   "source": [
    "# 1.1.2  The activation functions"
   ]
  },
  {
   "cell_type": "markdown",
   "metadata": {
    "colab_type": "text",
    "id": "bRgnIGpleti3"
   },
   "source": [
    "In this project, the first activation function $\\phi_1$ is chosen to be the ReLU (Rectified Linear Unit) function described by equation (3):\n",
    "\n",
    "\\begin{equation}\n",
    "\\phi_1(z) := max(0,z) \\quad \\quad \\quad \\quad   (3)\n",
    "\\end{equation}\n",
    "\n",
    "As equation (3) suggests, the ReLU function takes an input value $z$, and returns either the value itself if $z$ is positive, or $0$ if z is negative. In this project, $z$ represents elements of the vector produced by the first affine linear transformation: $W_{1}^{T} X + b_1$. Figure 2 illustrates the ReLU function.\n",
    "\n",
    "<img src=\"ReLU.png\",width=300, height=400 > \n",
    "\n",
    "<center>Figure 2: A plot of the Rectified Linear Unit (ReLU). [3] function</center>\n",
    "\n",
    "The ReLU function is chosen for the first activation function because it is cheap to compute, it helps the algorithm converge faster (due to its linearity, compared to functions like sigmoid or tanh, it does not suffer from the problem of vanishing gradient), and it is sparsily activatd. [3]\n",
    "\n",
    "The second activation function $\\phi_2$ is chosen to be the softmax function, described by equation (4). The softmax function takes a vector as an input and returns a vector output of the same size. For the $ith$ element of the input vector $z_i$, it returns the $ith$ element of the output vector $\\phi_{2i}$ as:\n",
    "\n",
    "\\begin{equation}\n",
    "\\phi_{2i}(z_i) = \\frac{e^{z_i}}{\\sum_{k=1}^{K} e^{z_k}} \\quad for \\quad i = 1,...,K, \\quad \\quad \\quad \\quad (4)\n",
    "\\end{equation}\n",
    "\n",
    "where $z_k$ represents the the $kth$ element of the vector input, and there are in total $K$ elements in both the input and output vectors. The softmax function is chosen to be the final layer because it converts the arguments into values between $0$ and $1$, hence computes the probability of each class label. Then we can choose the class label with the largest probability as the predicted class label. "
   ]
  },
  {
   "cell_type": "markdown",
   "metadata": {
    "colab_type": "text",
    "id": "HGa0H2pneti4"
   },
   "source": [
    "# 1.1.3  Back Propagation and Training the neural network "
   ]
  },
  {
   "cell_type": "markdown",
   "metadata": {
    "colab_type": "text",
    "id": "rPsonEaleti6"
   },
   "source": [
    "With the neural network model specified, the neural network needs to be trained in order to obtain the values of the parameters that minimises the empirical risk (the cost function) via optimization algorithms. However, due to the neural network model not being differentiable, the gradient of the cost function (with respect to the model parameters) are computed via backpropagation. \n",
    "\n",
    "The cost function is chosen to be the cross entropy function described by equation (5):\n",
    "\n",
    "\\begin{equation}\n",
    "L(W_1, ... , W_L, b_1, ... , b_L) = - \\sum_i y_i log( \\hat{y_i}), \\quad \\quad \\quad (5)\n",
    "\\end{equation}\n",
    "\n",
    "where $y_i$ represents the $ith$ element of the output vector (the vector of output class labels), and $\\hat{y_i}$ represents the $ith$ element of the predicted output from the neural netowkr model. \n",
    "\n",
    "In the project, instead of manually computing the backpropagation, Pytorch is used to automatically compute the backpropagation and obtain gradients of the cost function.\n",
    "\n",
    "The two optimization methods tried in this project are stochasiric gradient descent and Adam optimization algorithm. Adam optimization algorithm is also a stochastic optimization method,  but computes individual adaptive learning rates for different model parameters by estimating first and second moments of gradients.[4] "
   ]
  },
  {
   "cell_type": "markdown",
   "metadata": {
    "colab_type": "text",
    "id": "UacOYOYPeti7"
   },
   "source": [
    "# 1.2 Adversarial Attack: Fast Gradient Sign Method"
   ]
  },
  {
   "cell_type": "markdown",
   "metadata": {
    "colab_type": "text",
    "id": "thvGsorQeti9"
   },
   "source": [
    "Adversarial attack aims to add the smallest amount of perturbation to the input data in order to cause specific types of misclassifications. The white-box attack, which is the kind of attack implemented in this project, requires full access to the neural network architecture with input and output data, as well as values of the optimized weights. (The black-box attack in comparison assumes no knowledge of the model apart from the input output data) [5]\n",
    "\n",
    "The fast gradient sign method (FGSM) is a popular and powerful attack engineered to attack the model by adding perturbations in the direction of the gradient, i.e. the way the neural network learn, in order to achieve misclassifications. This is outlined by equation (6):\n",
    "\n",
    "\\begin{equation}\n",
    " x_i' = x_i + \\epsilon sign(\\nabla_{x} l_i (f_w(x_i), y_i), \\quad \\quad \\quad \\quad(6)\n",
    "\\end{equation}\n",
    "\n",
    "where $x_i$ represents the $ith$ element of the original input data, $y_i$ represents the true output labels, and $\\epsilon$ specifies the magnitude of the adversarial perturbation. \n",
    "\n",
    "In the case of the project, the attack alters the input image by adding noises to cause misclassifications of the handwritten digits shown by the original image."
   ]
  },
  {
   "cell_type": "markdown",
   "metadata": {
    "colab_type": "text",
    "id": "MoKIIq_Weti-"
   },
   "source": [
    "# 2.   Method"
   ]
  },
  {
   "cell_type": "markdown",
   "metadata": {
    "colab_type": "text",
    "id": "4s65-bHOetjA"
   },
   "source": [
    "## 2.1  Loading MNIST Dataset\n",
    "\n",
    "The PyTorch package Torchvision is used to access the MNIST dataset. The dataset is split into a traning set including 60000 data, and a test set including 10000 data. In both the test set and training set, the data is further split into different batches with batch size 100 (meaning each batch inludes 100 data samples). For the training set, the data is also randomly shuffled to reduced possible bias. See figure 3 for the first 25 images in the test dataset as an example."
   ]
  },
  {
   "cell_type": "code",
   "execution_count": 2,
   "metadata": {
    "colab": {
     "base_uri": "https://localhost:8080/",
     "height": 0,
     "referenced_widgets": [
      "7c8685fc0b984816aabc007e9cb77ecc",
      "b9aacd48834f48aaa3cc996040fd3996",
      "5a404ba1f5de49e5bed9017f1e488ce2",
      "78b9695a81d1473fb78ffb963ea5b934",
      "15bb15623cfe4b02b7ce3f332b4629e9",
      "572d2a2720284cdd96af393afaecc99c",
      "e6d213fd35144188b492adb71fadf593",
      "b53e0dabd95b4550acc0c5dddec978a5",
      "7b527f74ae2f41d2b6379279322ecea4",
      "1db1e3e3a699495db578db308f54b7af",
      "2b2e7be488d54f8fb74a9f86aec76ae5",
      "f6f8235f21f24f0fb85956d33424853b",
      "e139f617f02a4797b32ff5f3b56c97b0",
      "c4cfd68a6e34412ebd968738da4cdead",
      "d6cedca6e5454870a1028eb6f30c23f6",
      "9146e714fb47468399be05b53ef53f2d",
      "f222cc26f52a47a68606949e9a3f05b1",
      "750e7830c5d64714889c76a56b6daae4",
      "79a94a59da19430da892b09dadc79822",
      "e149dd3da703447f8fa60a7343e58b3c",
      "36d8bac747894da2b72d0c8db0081a39",
      "e8a60928dedb47e38262a0d148c7ffaf",
      "5651dc4efd53405483a2aabb504d7692",
      "e0ea149ed0a74b21ad0e4dc16295030a",
      "860f9e2c877f4074b672b693f3f41018",
      "55222b69cef4463780169e67a60dadeb",
      "8f1e6cac95844a789314c15e85e1e2d1",
      "90e82ac46e6445c3b3694d9ade172cf1",
      "0c81e90652754269b88ebcb91d0a6752",
      "f67d648eb3a843eebd4d3bb74220b336",
      "d99cd500b7744603b9c1f6c9b7edb27c",
      "651da957ce8e41d7a68abeadb3ae1a5b"
     ]
    },
    "colab_type": "code",
    "id": "Y7U5usqsetjD",
    "outputId": "c20ce25c-eeb3-49b2-e5a4-d8a13082ddb7"
   },
   "outputs": [
    {
     "name": "stdout",
     "output_type": "stream",
     "text": [
      "Downloading http://yann.lecun.com/exdb/mnist/train-images-idx3-ubyte.gz to ../data/MNIST/raw/train-images-idx3-ubyte.gz\n"
     ]
    },
    {
     "data": {
      "application/vnd.jupyter.widget-view+json": {
       "model_id": "7c8685fc0b984816aabc007e9cb77ecc",
       "version_major": 2,
       "version_minor": 0
      },
      "text/plain": [
       "HBox(children=(IntProgress(value=1, bar_style='info', max=1), HTML(value='')))"
      ]
     },
     "metadata": {
      "tags": []
     },
     "output_type": "display_data"
    },
    {
     "name": "stdout",
     "output_type": "stream",
     "text": [
      "\n",
      "Extracting ../data/MNIST/raw/train-images-idx3-ubyte.gz to ../data/MNIST/raw\n",
      "Downloading http://yann.lecun.com/exdb/mnist/train-labels-idx1-ubyte.gz to ../data/MNIST/raw/train-labels-idx1-ubyte.gz\n"
     ]
    },
    {
     "data": {
      "application/vnd.jupyter.widget-view+json": {
       "model_id": "7b527f74ae2f41d2b6379279322ecea4",
       "version_major": 2,
       "version_minor": 0
      },
      "text/plain": [
       "HBox(children=(IntProgress(value=1, bar_style='info', max=1), HTML(value='')))"
      ]
     },
     "metadata": {
      "tags": []
     },
     "output_type": "display_data"
    },
    {
     "name": "stdout",
     "output_type": "stream",
     "text": [
      "\n",
      "Extracting ../data/MNIST/raw/train-labels-idx1-ubyte.gz to ../data/MNIST/raw\n",
      "Downloading http://yann.lecun.com/exdb/mnist/t10k-images-idx3-ubyte.gz to ../data/MNIST/raw/t10k-images-idx3-ubyte.gz\n"
     ]
    },
    {
     "data": {
      "application/vnd.jupyter.widget-view+json": {
       "model_id": "f222cc26f52a47a68606949e9a3f05b1",
       "version_major": 2,
       "version_minor": 0
      },
      "text/plain": [
       "HBox(children=(IntProgress(value=1, bar_style='info', max=1), HTML(value='')))"
      ]
     },
     "metadata": {
      "tags": []
     },
     "output_type": "display_data"
    },
    {
     "name": "stdout",
     "output_type": "stream",
     "text": [
      "\n",
      "Extracting ../data/MNIST/raw/t10k-images-idx3-ubyte.gz to ../data/MNIST/raw\n",
      "Downloading http://yann.lecun.com/exdb/mnist/t10k-labels-idx1-ubyte.gz to ../data/MNIST/raw/t10k-labels-idx1-ubyte.gz\n"
     ]
    },
    {
     "data": {
      "application/vnd.jupyter.widget-view+json": {
       "model_id": "860f9e2c877f4074b672b693f3f41018",
       "version_major": 2,
       "version_minor": 0
      },
      "text/plain": [
       "HBox(children=(IntProgress(value=1, bar_style='info', max=1), HTML(value='')))"
      ]
     },
     "metadata": {
      "tags": []
     },
     "output_type": "display_data"
    },
    {
     "name": "stdout",
     "output_type": "stream",
     "text": [
      "\n",
      "Extracting ../data/MNIST/raw/t10k-labels-idx1-ubyte.gz to ../data/MNIST/raw\n",
      "Processing...\n",
      "Done!\n"
     ]
    }
   ],
   "source": [
    "from torchvision import datasets, transforms\n",
    "from torch.utils.data import DataLoader\n",
    "\n",
    "trans=transforms.Compose([transforms.ToTensor(),transforms.Normalize((0.5,),(0.5,))])  \n",
    "\n",
    "mnist_train = datasets.MNIST(\"../data\", train=True, download=True, transform=trans)\n",
    "mnist_test = datasets.MNIST(\"../data\", train=False, download=True, transform=trans)\n",
    "#creating iterators for training and testing sets\n",
    "train_loader = DataLoader(mnist_train, batch_size = 100, shuffle=True)\n",
    "test_loader = DataLoader(mnist_test, batch_size = 100, shuffle=False)"
   ]
  },
  {
   "cell_type": "code",
   "execution_count": 3,
   "metadata": {
    "colab": {
     "base_uri": "https://localhost:8080/",
     "height": 0
    },
    "colab_type": "code",
    "id": "7glS9prLetjH",
    "outputId": "1e7bf63d-f762-4c06-ba95-abca6d3d07a0"
   },
   "outputs": [
    {
     "data": {
      "image/png": "[encoded data removed]",
      "text/plain": [
       "<Figure size 432x288 with 25 Axes>"
      ]
     },
     "metadata": {
      "tags": []
     },
     "output_type": "display_data"
    }
   ],
   "source": [
    "examples = iter(test_loader)\n",
    "example_data, example_targets = examples.next()\n",
    "\n",
    "for i in range(25):\n",
    "    plt.subplot(5,5,i+1)\n",
    "    plt.imshow(example_data[i][0], cmap='gray')\n",
    "plt.show()"
   ]
  },
  {
   "cell_type": "markdown",
   "metadata": {
    "colab_type": "text",
    "id": "tz-Ghz2ietjM"
   },
   "source": [
    "Figure 3: The frist 25 images in the testset as an example"
   ]
  },
  {
   "cell_type": "markdown",
   "metadata": {
    "colab_type": "text",
    "id": "4I8moa2CetjN"
   },
   "source": [
    "## 2.2  The 2-layer fully connected neural network model\n",
    "\n",
    "The feed-forward neural network model described by equation (2) is built as a sub-class of the base class torch.nn.Module. As described in section 1.1.1 and 1.1.2, the network contains one hidden layer, with ReLU and softmax functions as the inner and outer activation functions. The number of nodes in the hidden layer is chosen to be 200. "
   ]
  },
  {
   "cell_type": "code",
   "execution_count": 0,
   "metadata": {
    "colab": {},
    "colab_type": "code",
    "collapsed": true,
    "id": "26fa-ofPetjO"
   },
   "outputs": [],
   "source": [
    "class Flatten(nn.Module):\n",
    "    def forward(self, x):\n",
    "        return x.view(x.shape[0], -1)  \n",
    "    \n",
    "class NeuralNet(nn.Module):\n",
    "    def __init__(self, input_size, hidden_size, num_classes):\n",
    "        super(NeuralNet, self).__init__()\n",
    "        self.linear1 = nn.Linear(input_size, hidden_size) \n",
    "        self.relu = nn.ReLU()\n",
    "        self.linear2 = nn.Linear(hidden_size, num_classes)  \n",
    "    \n",
    "    def forward(self, x):\n",
    "        out = torch.flatten(x, 1)\n",
    "        out = self.linear1(out)\n",
    "        out = self.relu(out)\n",
    "        out = self.linear2(out)\n",
    "        # no softmax at the end\n",
    "        return out"
   ]
  },
  {
   "cell_type": "markdown",
   "metadata": {
    "colab_type": "text",
    "id": "nN1rlZxxetjT"
   },
   "source": [
    "## 2.2.1 Training the 2-layer Neural Network\n",
    "\n",
    "A for loop is written for training the neural network model and updating the model parameters (in order to minimize the cost function) for 15 epochs. As mentioned in section 1.1.3, the cost function is chosen to be the cross entropy function. The same neural network model is trained once with the Adam optimization algorithm, and once with the normal stochastic gradient descent in order to compare the prediction accuracies the two methods achieves. \n",
    "\n",
    "For both optimization methods, the learning rate was set to be 0.01, as this value is small enough to avoid causing overshooting problems and make sure the cost function converges, and not too small so that a large number of epochs needs to be computed, making it more computationally expensive. Also for both optimization method, a weight decay value of $10^{-6}$ is used for regularization. The choices of values for both learning rate and weight decay are made by experimenting with different values and choosing the values that produced the highest prediction accuracies. \n",
    "\n",
    "The the cost function values (for both optimization methods) are printed and stored in a list after every 100 batches, for a total of 15 epochs. See figure 4 and 5 for the plots of the cost function value evolutions.\n",
    "\n",
    "After training the neural network, the trained neural network model with the optimized model parameters is used on the test set to test its prediction accuracy. "
   ]
  },
  {
   "cell_type": "markdown",
   "metadata": {
    "colab_type": "text",
    "id": "9B6SeWfUetjU"
   },
   "source": [
    "## See below codes for training the 2-layer neural network model using the Adam optimisation"
   ]
  },
  {
   "cell_type": "code",
   "execution_count": 0,
   "metadata": {
    "colab": {},
    "colab_type": "code",
    "collapsed": true,
    "id": "JxtBBLOQetjV"
   },
   "outputs": [],
   "source": [
    "model = NeuralNet(input_size=28*28, hidden_size=200, num_classes=10)\n",
    "criterion = nn.CrossEntropyLoss()  # (applies Softmax)"
   ]
  },
  {
   "cell_type": "code",
   "execution_count": 6,
   "metadata": {
    "colab": {
     "base_uri": "https://localhost:8080/",
     "height": 102
    },
    "colab_type": "code",
    "id": "DxC54wR8etjZ",
    "outputId": "c33002dc-7a0b-41c2-f7ae-5fe0c79b69a0"
   },
   "outputs": [
    {
     "data": {
      "text/plain": [
       "NeuralNet(\n",
       "  (linear1): Linear(in_features=784, out_features=200, bias=True)\n",
       "  (relu): ReLU()\n",
       "  (linear2): Linear(in_features=200, out_features=10, bias=True)\n",
       ")"
      ]
     },
     "execution_count": 6,
     "metadata": {
      "tags": []
     },
     "output_type": "execute_result"
    }
   ],
   "source": [
    "model"
   ]
  },
  {
   "cell_type": "markdown",
   "metadata": {
    "colab_type": "text",
    "id": "1Eym-1X7etjc"
   },
   "source": [
    "input_size = 784 (28x28) \\\n",
    "hidden_size = 200 \\\n",
    "num_classes = 10 \\\n",
    "num_epochs = 15 \\\n",
    "batch_size = 100 \\\n",
    "learning_rate = 0.01"
   ]
  },
  {
   "cell_type": "markdown",
   "metadata": {
    "colab_type": "text",
    "id": "n0oQqbrPetjd"
   },
   "source": [
    "Adam optimisation, an extension to stochastic gradient descent is used as an optimiser. It computes individual adaptive learning rates for different parameters from estimates of first and second moments of the gradients. \\\n",
    "\\\n",
    "opt.zero_grad( ): resets the .grad values of model parameters, weights and bias, back to zero. \\\n",
    "loss.backward( ): computes the gradient of loss with respect to the model parameters, weights and bias, which we are optimising. \\\n",
    "opt.step( ): performs the model parameter update, and updates the weights and biases, according to the optimiser used. \\\n",
    "Loss is updated with new parameters, after optimisation. "
   ]
  },
  {
   "cell_type": "code",
   "execution_count": 7,
   "metadata": {
    "colab": {
     "base_uri": "https://localhost:8080/",
     "height": 1000
    },
    "colab_type": "code",
    "id": "AAGlaLBmetjg",
    "outputId": "fcf94238-1c0a-484c-d992-1a80448b6fe8"
   },
   "outputs": [
    {
     "name": "stdout",
     "output_type": "stream",
     "text": [
      "Epoch [1/15], Step [100/600], Loss: 0.2565\n",
      "Epoch [1/15], Step [200/600], Loss: 0.1929\n",
      "Epoch [1/15], Step [300/600], Loss: 0.3514\n",
      "Epoch [1/15], Step [400/600], Loss: 0.2486\n",
      "Epoch [1/15], Step [500/600], Loss: 0.2319\n",
      "Epoch [1/15], Step [600/600], Loss: 0.2979\n",
      "Epoch [2/15], Step [100/600], Loss: 0.2309\n",
      "Epoch [2/15], Step [200/600], Loss: 0.0438\n",
      "Epoch [2/15], Step [300/600], Loss: 0.1362\n",
      "Epoch [2/15], Step [400/600], Loss: 0.1027\n",
      "Epoch [2/15], Step [500/600], Loss: 0.1287\n",
      "Epoch [2/15], Step [600/600], Loss: 0.3542\n",
      "Epoch [3/15], Step [100/600], Loss: 0.3465\n",
      "Epoch [3/15], Step [200/600], Loss: 0.1502\n",
      "Epoch [3/15], Step [300/600], Loss: 0.1301\n",
      "Epoch [3/15], Step [400/600], Loss: 0.2468\n",
      "Epoch [3/15], Step [500/600], Loss: 0.3002\n",
      "Epoch [3/15], Step [600/600], Loss: 0.2408\n",
      "Epoch [4/15], Step [100/600], Loss: 0.1546\n",
      "Epoch [4/15], Step [200/600], Loss: 0.1908\n",
      "Epoch [4/15], Step [300/600], Loss: 0.1367\n",
      "Epoch [4/15], Step [400/600], Loss: 0.1088\n",
      "Epoch [4/15], Step [500/600], Loss: 0.3366\n",
      "Epoch [4/15], Step [600/600], Loss: 0.1817\n",
      "Epoch [5/15], Step [100/600], Loss: 0.1103\n",
      "Epoch [5/15], Step [200/600], Loss: 0.1212\n",
      "Epoch [5/15], Step [300/600], Loss: 0.3430\n",
      "Epoch [5/15], Step [400/600], Loss: 0.1667\n",
      "Epoch [5/15], Step [500/600], Loss: 0.1543\n",
      "Epoch [5/15], Step [600/600], Loss: 0.1503\n",
      "Epoch [6/15], Step [100/600], Loss: 0.2852\n",
      "Epoch [6/15], Step [200/600], Loss: 0.1891\n",
      "Epoch [6/15], Step [300/600], Loss: 0.2533\n",
      "Epoch [6/15], Step [400/600], Loss: 0.0910\n",
      "Epoch [6/15], Step [500/600], Loss: 0.1922\n",
      "Epoch [6/15], Step [600/600], Loss: 0.1166\n",
      "Epoch [7/15], Step [100/600], Loss: 0.0603\n",
      "Epoch [7/15], Step [200/600], Loss: 0.2934\n",
      "Epoch [7/15], Step [300/600], Loss: 0.2399\n",
      "Epoch [7/15], Step [400/600], Loss: 0.1481\n",
      "Epoch [7/15], Step [500/600], Loss: 0.1036\n",
      "Epoch [7/15], Step [600/600], Loss: 0.2109\n",
      "Epoch [8/15], Step [100/600], Loss: 0.1539\n",
      "Epoch [8/15], Step [200/600], Loss: 0.2302\n",
      "Epoch [8/15], Step [300/600], Loss: 0.0602\n",
      "Epoch [8/15], Step [400/600], Loss: 0.2419\n",
      "Epoch [8/15], Step [500/600], Loss: 0.1826\n",
      "Epoch [8/15], Step [600/600], Loss: 0.1373\n",
      "Epoch [9/15], Step [100/600], Loss: 0.0811\n",
      "Epoch [9/15], Step [200/600], Loss: 0.1607\n",
      "Epoch [9/15], Step [300/600], Loss: 0.1432\n",
      "Epoch [9/15], Step [400/600], Loss: 0.1068\n",
      "Epoch [9/15], Step [500/600], Loss: 0.1745\n",
      "Epoch [9/15], Step [600/600], Loss: 0.1254\n",
      "Epoch [10/15], Step [100/600], Loss: 0.2450\n",
      "Epoch [10/15], Step [200/600], Loss: 0.1549\n",
      "Epoch [10/15], Step [300/600], Loss: 0.1596\n",
      "Epoch [10/15], Step [400/600], Loss: 0.1519\n",
      "Epoch [10/15], Step [500/600], Loss: 0.1267\n",
      "Epoch [10/15], Step [600/600], Loss: 0.2044\n",
      "Epoch [11/15], Step [100/600], Loss: 0.1382\n",
      "Epoch [11/15], Step [200/600], Loss: 0.1469\n",
      "Epoch [11/15], Step [300/600], Loss: 0.1709\n",
      "Epoch [11/15], Step [400/600], Loss: 0.0908\n",
      "Epoch [11/15], Step [500/600], Loss: 0.1617\n",
      "Epoch [11/15], Step [600/600], Loss: 0.3398\n",
      "Epoch [12/15], Step [100/600], Loss: 0.1260\n",
      "Epoch [12/15], Step [200/600], Loss: 0.2053\n",
      "Epoch [12/15], Step [300/600], Loss: 0.1057\n",
      "Epoch [12/15], Step [400/600], Loss: 0.1567\n",
      "Epoch [12/15], Step [500/600], Loss: 0.1863\n",
      "Epoch [12/15], Step [600/600], Loss: 0.0412\n",
      "Epoch [13/15], Step [100/600], Loss: 0.1355\n",
      "Epoch [13/15], Step [200/600], Loss: 0.2509\n",
      "Epoch [13/15], Step [300/600], Loss: 0.0712\n",
      "Epoch [13/15], Step [400/600], Loss: 0.1740\n",
      "Epoch [13/15], Step [500/600], Loss: 0.0775\n",
      "Epoch [13/15], Step [600/600], Loss: 0.0846\n",
      "Epoch [14/15], Step [100/600], Loss: 0.1234\n",
      "Epoch [14/15], Step [200/600], Loss: 0.1325\n",
      "Epoch [14/15], Step [300/600], Loss: 0.1200\n",
      "Epoch [14/15], Step [400/600], Loss: 0.1860\n",
      "Epoch [14/15], Step [500/600], Loss: 0.1919\n",
      "Epoch [14/15], Step [600/600], Loss: 0.0654\n",
      "Epoch [15/15], Step [100/600], Loss: 0.1079\n",
      "Epoch [15/15], Step [200/600], Loss: 0.1077\n",
      "Epoch [15/15], Step [300/600], Loss: 0.1907\n",
      "Epoch [15/15], Step [400/600], Loss: 0.2160\n",
      "Epoch [15/15], Step [500/600], Loss: 0.2133\n",
      "Epoch [15/15], Step [600/600], Loss: 0.2519\n"
     ]
    }
   ],
   "source": [
    "opt =  optim.Adam(model.parameters(), lr=0.01, weight_decay= 1e-6)\n",
    "num_epochs = 15\n",
    "n_total_steps = len(train_loader)\n",
    "loss_list_Adam = []\n",
    "for epoch in range(num_epochs):\n",
    "    for i, (X, y) in enumerate(train_loader):  \n",
    "        # origin shape: [100, 1, 28, 28]\n",
    "        # resized: [100, 784]\n",
    "        X = X.reshape(-1, 28*28).to(device)\n",
    "        y = y.to(device)\n",
    "        \n",
    "        # Forward pass\n",
    "        yp = model(X)\n",
    "        loss = nn.CrossEntropyLoss()(yp,y)\n",
    "        \n",
    "        # Backward and optimize\n",
    "        opt.zero_grad() #resets the .grad values of model parameters, weights and bias, back to zero.\n",
    "        loss.backward() #computes the gradient of loss with respect to the model parameters, weights and bias, which we are optimising.\n",
    "        opt.step() # performs the model parameter update, and updates the weights and biases, according to the optimiser used.\n",
    "        \n",
    "        if (i+1) % 100 == 0:\n",
    "            loss_list_Adam.append(loss.item())\n",
    "            print (f'Epoch [{epoch+1}/{num_epochs}], Step [{i+1}/{n_total_steps}], Loss: {loss.item():.4f}')"
   ]
  },
  {
   "cell_type": "code",
   "execution_count": 8,
   "metadata": {
    "colab": {
     "base_uri": "https://localhost:8080/",
     "height": 295
    },
    "colab_type": "code",
    "id": "I9YlEQsmetjn",
    "outputId": "8340860b-755b-4fcf-fef5-df4b764bba88"
   },
   "outputs": [
    {
     "data": {
      "image/png": "[encoded data removed]",
      "text/plain": [
       "<Figure size 432x288 with 1 Axes>"
      ]
     },
     "metadata": {
      "tags": []
     },
     "output_type": "display_data"
    }
   ],
   "source": [
    "#Plotting the evolution of the loss function\n",
    "step_list = 100*(np.linspace(1,len(loss_list_Adam),len(loss_list_Adam)))\n",
    "plt.plot(step_list,loss_list_Adam)\n",
    "# plt.scatter(step_list,loss_list_Adam)\n",
    "plt.xlabel(\"Number of steps\")\n",
    "plt.ylabel(\"Loss\")\n",
    "plt.title(\"Evolution of loss values for 15 epochs with the optimization method Adam\")\n",
    "plt.show()"
   ]
  },
  {
   "cell_type": "markdown",
   "metadata": {
    "colab_type": "text",
    "id": "ggpRc_SCetjr"
   },
   "source": [
    "Figure 4: Plot of the evolution of loss values for a total of 15 epochs using Adam optimization method"
   ]
  },
  {
   "cell_type": "markdown",
   "metadata": {
    "colab_type": "text",
    "id": "oXgA6Adeetjs"
   },
   "source": [
    "Finding the accuracy of the model by calucating the percentage of correct predictions."
   ]
  },
  {
   "cell_type": "code",
   "execution_count": 9,
   "metadata": {
    "colab": {
     "base_uri": "https://localhost:8080/",
     "height": 34
    },
    "colab_type": "code",
    "id": "kCOPat1ketjt",
    "outputId": "16b92ba1-666a-4bbd-fcc0-b70f3f7b5262"
   },
   "outputs": [
    {
     "name": "stdout",
     "output_type": "stream",
     "text": [
      "Accuracy of the network on the 10000 test images: 95.24 %\n"
     ]
    }
   ],
   "source": [
    "#Using the trained model to test the preduction accuracies using the test set\n",
    "with torch.no_grad():\n",
    "    n_correct = 0\n",
    "    n_samples = 0\n",
    "    for X, y in test_loader:\n",
    "        X = X.reshape(-1, 28*28).to(device)\n",
    "        y = y.to(device)\n",
    "        yp = model(X)\n",
    "        # max returns (value ,index)\n",
    "        _, predicted = torch.max(yp.data, 1)\n",
    "        n_samples += y.size(0)\n",
    "        n_correct += (predicted == y).sum().item()\n",
    "\n",
    "    acc = 100.0 * n_correct / n_samples\n",
    "    print(f'Accuracy of the network on the 10000 test images: {acc} %')"
   ]
  },
  {
   "cell_type": "markdown",
   "metadata": {
    "colab_type": "text",
    "id": "jOzG8XZVetjx"
   },
   "source": [
    "## See below codes for training the 2-layer neural network model usng the stochastic gradient descent"
   ]
  },
  {
   "cell_type": "code",
   "execution_count": 0,
   "metadata": {
    "colab": {},
    "colab_type": "code",
    "collapsed": true,
    "id": "EOQEB73metjy"
   },
   "outputs": [],
   "source": [
    "model2 = NeuralNet(input_size=28*28, hidden_size=200, num_classes=10)\n",
    "criterion = nn.CrossEntropyLoss()  # (applies Softmax)"
   ]
  },
  {
   "cell_type": "code",
   "execution_count": 11,
   "metadata": {
    "colab": {
     "base_uri": "https://localhost:8080/",
     "height": 1000
    },
    "colab_type": "code",
    "id": "DmEJ4cLWetj4",
    "outputId": "0d4fc196-5c3d-476f-c060-4ed169b9514c"
   },
   "outputs": [
    {
     "name": "stdout",
     "output_type": "stream",
     "text": [
      "Epoch [1/15], Step [100/600], Loss: 1.4640\n",
      "Epoch [1/15], Step [200/600], Loss: 0.8601\n",
      "Epoch [1/15], Step [300/600], Loss: 0.6844\n",
      "Epoch [1/15], Step [400/600], Loss: 0.6795\n",
      "Epoch [1/15], Step [500/600], Loss: 0.5685\n",
      "Epoch [1/15], Step [600/600], Loss: 0.6171\n",
      "Epoch [2/15], Step [100/600], Loss: 0.4837\n",
      "Epoch [2/15], Step [200/600], Loss: 0.5205\n",
      "Epoch [2/15], Step [300/600], Loss: 0.5319\n",
      "Epoch [2/15], Step [400/600], Loss: 0.3987\n",
      "Epoch [2/15], Step [500/600], Loss: 0.3070\n",
      "Epoch [2/15], Step [600/600], Loss: 0.3086\n",
      "Epoch [3/15], Step [100/600], Loss: 0.4719\n",
      "Epoch [3/15], Step [200/600], Loss: 0.3984\n",
      "Epoch [3/15], Step [300/600], Loss: 0.4085\n",
      "Epoch [3/15], Step [400/600], Loss: 0.2570\n",
      "Epoch [3/15], Step [500/600], Loss: 0.2775\n",
      "Epoch [3/15], Step [600/600], Loss: 0.4023\n",
      "Epoch [4/15], Step [100/600], Loss: 0.3340\n",
      "Epoch [4/15], Step [200/600], Loss: 0.5510\n",
      "Epoch [4/15], Step [300/600], Loss: 0.1831\n",
      "Epoch [4/15], Step [400/600], Loss: 0.3104\n",
      "Epoch [4/15], Step [500/600], Loss: 0.3861\n",
      "Epoch [4/15], Step [600/600], Loss: 0.3172\n",
      "Epoch [5/15], Step [100/600], Loss: 0.3668\n",
      "Epoch [5/15], Step [200/600], Loss: 0.4187\n",
      "Epoch [5/15], Step [300/600], Loss: 0.3545\n",
      "Epoch [5/15], Step [400/600], Loss: 0.3171\n",
      "Epoch [5/15], Step [500/600], Loss: 0.3019\n",
      "Epoch [5/15], Step [600/600], Loss: 0.2902\n",
      "Epoch [6/15], Step [100/600], Loss: 0.2348\n",
      "Epoch [6/15], Step [200/600], Loss: 0.1888\n",
      "Epoch [6/15], Step [300/600], Loss: 0.3855\n",
      "Epoch [6/15], Step [400/600], Loss: 0.2896\n",
      "Epoch [6/15], Step [500/600], Loss: 0.2037\n",
      "Epoch [6/15], Step [600/600], Loss: 0.1901\n",
      "Epoch [7/15], Step [100/600], Loss: 0.2467\n",
      "Epoch [7/15], Step [200/600], Loss: 0.3554\n",
      "Epoch [7/15], Step [300/600], Loss: 0.2723\n",
      "Epoch [7/15], Step [400/600], Loss: 0.3783\n",
      "Epoch [7/15], Step [500/600], Loss: 0.2222\n",
      "Epoch [7/15], Step [600/600], Loss: 0.2757\n",
      "Epoch [8/15], Step [100/600], Loss: 0.3428\n",
      "Epoch [8/15], Step [200/600], Loss: 0.2808\n",
      "Epoch [8/15], Step [300/600], Loss: 0.1883\n",
      "Epoch [8/15], Step [400/600], Loss: 0.2835\n",
      "Epoch [8/15], Step [500/600], Loss: 0.2128\n",
      "Epoch [8/15], Step [600/600], Loss: 0.2120\n",
      "Epoch [9/15], Step [100/600], Loss: 0.3441\n",
      "Epoch [9/15], Step [200/600], Loss: 0.2145\n",
      "Epoch [9/15], Step [300/600], Loss: 0.2843\n",
      "Epoch [9/15], Step [400/600], Loss: 0.1757\n",
      "Epoch [9/15], Step [500/600], Loss: 0.2155\n",
      "Epoch [9/15], Step [600/600], Loss: 0.2493\n",
      "Epoch [10/15], Step [100/600], Loss: 0.3463\n",
      "Epoch [10/15], Step [200/600], Loss: 0.2199\n",
      "Epoch [10/15], Step [300/600], Loss: 0.3234\n",
      "Epoch [10/15], Step [400/600], Loss: 0.2016\n",
      "Epoch [10/15], Step [500/600], Loss: 0.1582\n",
      "Epoch [10/15], Step [600/600], Loss: 0.2637\n",
      "Epoch [11/15], Step [100/600], Loss: 0.2647\n",
      "Epoch [11/15], Step [200/600], Loss: 0.1933\n",
      "Epoch [11/15], Step [300/600], Loss: 0.2707\n",
      "Epoch [11/15], Step [400/600], Loss: 0.2810\n",
      "Epoch [11/15], Step [500/600], Loss: 0.2134\n",
      "Epoch [11/15], Step [600/600], Loss: 0.3263\n",
      "Epoch [12/15], Step [100/600], Loss: 0.0911\n",
      "Epoch [12/15], Step [200/600], Loss: 0.3237\n",
      "Epoch [12/15], Step [300/600], Loss: 0.2937\n",
      "Epoch [12/15], Step [400/600], Loss: 0.2437\n",
      "Epoch [12/15], Step [500/600], Loss: 0.1250\n",
      "Epoch [12/15], Step [600/600], Loss: 0.2448\n",
      "Epoch [13/15], Step [100/600], Loss: 0.1233\n",
      "Epoch [13/15], Step [200/600], Loss: 0.1933\n",
      "Epoch [13/15], Step [300/600], Loss: 0.1682\n",
      "Epoch [13/15], Step [400/600], Loss: 0.1169\n",
      "Epoch [13/15], Step [500/600], Loss: 0.1958\n",
      "Epoch [13/15], Step [600/600], Loss: 0.2330\n",
      "Epoch [14/15], Step [100/600], Loss: 0.1428\n",
      "Epoch [14/15], Step [200/600], Loss: 0.3545\n",
      "Epoch [14/15], Step [300/600], Loss: 0.1375\n",
      "Epoch [14/15], Step [400/600], Loss: 0.1084\n",
      "Epoch [14/15], Step [500/600], Loss: 0.1011\n",
      "Epoch [14/15], Step [600/600], Loss: 0.2689\n",
      "Epoch [15/15], Step [100/600], Loss: 0.1841\n",
      "Epoch [15/15], Step [200/600], Loss: 0.1330\n",
      "Epoch [15/15], Step [300/600], Loss: 0.1067\n",
      "Epoch [15/15], Step [400/600], Loss: 0.1709\n",
      "Epoch [15/15], Step [500/600], Loss: 0.2040\n",
      "Epoch [15/15], Step [600/600], Loss: 0.1736\n"
     ]
    }
   ],
   "source": [
    "opt_SGD =  optim.SGD(model2.parameters(), lr=0.01, weight_decay= 1e-6)\n",
    "num_epochs = 15\n",
    "n_total_steps = len(train_loader)\n",
    "loss_each_epoch_SGD = []\n",
    "for epoch in range(num_epochs):\n",
    "    for i, (X, y) in enumerate(train_loader):  \n",
    "        # origin shape: [100, 1, 28, 28]\n",
    "        # resized: [100, 784]\n",
    "        X = X.reshape(-1, 28*28).to(device)\n",
    "        y = y.to(device)\n",
    "        \n",
    "        # Forward pass\n",
    "        yp2 = model2(X)\n",
    "        loss2 = nn.CrossEntropyLoss()(yp2,y)\n",
    "        \n",
    "        # Backward and optimize\n",
    "        opt_SGD.zero_grad()\n",
    "        loss2.backward()\n",
    "        opt_SGD.step()\n",
    "        \n",
    "        if (i+1) % 100 == 0:\n",
    "            print (f'Epoch [{epoch+1}/{num_epochs}], Step [{i+1}/{n_total_steps}], Loss: {loss2.item():.4f}')\n",
    "    loss_each_epoch_SGD.append(loss2.item())"
   ]
  },
  {
   "cell_type": "code",
   "execution_count": 14,
   "metadata": {
    "colab": {
     "base_uri": "https://localhost:8080/",
     "height": 295
    },
    "colab_type": "code",
    "id": "DmviRbohetj9",
    "outputId": "8de3fba1-2022-4c72-9b8d-b5ee0c951c11"
   },
   "outputs": [
    {
     "data": {
      "image/png": "[encoded data removed]",
      "text/plain": [
       "<Figure size 432x288 with 1 Axes>"
      ]
     },
     "metadata": {
      "tags": []
     },
     "output_type": "display_data"
    }
   ],
   "source": [
    "#Plotting the evolution of the loss function\n",
    "step_list =  100*(np.linspace(1,len(loss_each_epoch_SGD),len(loss_each_epoch_SGD)))\n",
    "plt.plot(step_list,loss_each_epoch_SGD)\n",
    "plt.xlabel(\"Number of steps\")\n",
    "plt.ylabel(\"Loss\")\n",
    "plt.title(\"Evolution of loss values for 15 epochs with the optimization method Stochastic Gradient Descent\")\n",
    "plt.show()"
   ]
  },
  {
   "cell_type": "markdown",
   "metadata": {
    "colab_type": "text",
    "id": "-Dk1_0bpetkB"
   },
   "source": [
    "Figure 5: Plot of the evolution of loss values for a total of 15 epochs using Adam optimization method"
   ]
  },
  {
   "cell_type": "markdown",
   "metadata": {
    "colab_type": "text",
    "id": "winmcF0MetkC"
   },
   "source": [
    "Finding the accuracy of the model by calucating the percentage of correct predictions."
   ]
  },
  {
   "cell_type": "code",
   "execution_count": 15,
   "metadata": {
    "colab": {
     "base_uri": "https://localhost:8080/",
     "height": 34
    },
    "colab_type": "code",
    "id": "H7K6ZSeYetkD",
    "outputId": "d3292520-2b4c-41fd-f90c-55c9836d13f4"
   },
   "outputs": [
    {
     "name": "stdout",
     "output_type": "stream",
     "text": [
      "Accuracy of the network on the 10000 test images: 94.36 %\n"
     ]
    }
   ],
   "source": [
    "with torch.no_grad():\n",
    "    n_correct = 0\n",
    "    n_samples = 0\n",
    "    for X, y in test_loader:\n",
    "        X = X.reshape(-1, 28*28).to(device)\n",
    "        y = y.to(device)\n",
    "        yp2 = model2(X)\n",
    "        # max returns (value ,index)\n",
    "        _, predicted = torch.max(yp2.data, 1)\n",
    "        n_samples += y.size(0)\n",
    "        n_correct += (predicted == y).sum().item()\n",
    "\n",
    "    acc = 100.0 * n_correct / n_samples\n",
    "    print(f'Accuracy of the network on the 10000 test images: {acc} %')"
   ]
  },
  {
   "cell_type": "markdown",
   "metadata": {
    "colab_type": "text",
    "id": "IpXUG98YetkQ"
   },
   "source": [
    "## 2.2.2 Training the convolutional neural network"
   ]
  },
  {
   "cell_type": "markdown",
   "metadata": {
    "colab_type": "text",
    "id": "XsaqmuJwetkR"
   },
   "source": [
    "Input image has size 28 \\* 28 and has 1 input channel as it is the grey-scale image \n",
    "\n",
    "Stride: The number of pixels we shift our kernel along by to compute the next value in the output activation map.It is the step size of the filter \n",
    "\n",
    "Padding: Pad the input with a border of extra pixels around the edge. \n",
    "\n",
    "Max pooling: Replaces the values at each grid location with their maximum. \n",
    "\n",
    "1 input image channel, 6 output channels, 5x5 square convolution kernel \n",
    "\n",
    "Input channel size must be equal to the last output channel size (The output channel size can be anything). \n",
    "\n",
    "max polling with a kernel size 2 by 2 and a stride of 2.\n",
    "\n",
    "6 input image channel, 16 output channels, 5x5 square convolution kernel\n",
    "\n",
    "In x.view(-1,16\\*5\\*5), the first dimention is the batch size. \n",
    "\n",
    "If the input size = i \\* i (with same height and width), filter size = f \\* f, padding=p, and stride=s, then the output dimension = o \\* o, \n",
    "\n",
    "where o= $\\frac{(i-f +2p)}{s} + 1$ \n",
    "\n",
    "image size= (batch size, 1, 28, 28) \n",
    "\n",
    "(28-5+0)/1 +1=24 \n",
    "\n",
    "after conv1, image size= (batch size, 6, 24, 24) \n",
    "\n",
    "(24-2+0)/2 +1=12 \n",
    "\n",
    "after pool, image size= (batch size, 6, 12, 12) \n",
    "\n",
    "(12-5+0)/1 +1=8 \n",
    "\n",
    "after conv2, image size= (batch size, 16, 8, 8) \n",
    "\n",
    "(8-2+0)/2 +1=4 \n",
    "\n",
    "after pool, image size= (batch size, 16, 4, 4) \n",
    "\n",
    "After the convolutional layers, the next step is to flatten the 3-D tensors into 1-D tensor, for the classification layer. \n",
    "\n",
    "The input size for the linear layer is 16\\*4\\*4 \n",
    "\n",
    "Applying relu activation function at every layer"
   ]
  },
  {
   "cell_type": "code",
   "execution_count": 0,
   "metadata": {
    "colab": {},
    "colab_type": "code",
    "collapsed": true,
    "id": "QNMqe4x3etkS"
   },
   "outputs": [],
   "source": [
    "class Net(nn.Module):\n",
    "    def __init__(self):\n",
    "        super(Net, self).__init__()\n",
    "        self.conv1 = nn.Conv2d(1, 6, 5)\n",
    "        self.pool = nn.MaxPool2d(2, 2)\n",
    "        self.conv2 = nn.Conv2d(6, 16, 5)\n",
    "        self.fc1 = nn.Linear(16 * 4 * 4, 120)\n",
    "        self.fc2 = nn.Linear(120, 84)\n",
    "        self.fc3 = nn.Linear(84, 10)\n",
    "\n",
    "    def forward(self, x):\n",
    "        x = self.pool(F.relu(self.conv1(x)))\n",
    "        x = self.pool(F.relu(self.conv2(x)))\n",
    "        x = x.view(-1, 16 * 4 * 4)\n",
    "        x = F.relu(self.fc1(x))\n",
    "        x = F.relu(self.fc2(x))\n",
    "        x = self.fc3(x)\n",
    "        return x\n",
    "\n",
    "\n",
    "model_cnn = Net()"
   ]
  },
  {
   "cell_type": "code",
   "execution_count": 19,
   "metadata": {
    "colab": {
     "base_uri": "https://localhost:8080/",
     "height": 153
    },
    "colab_type": "code",
    "id": "f7xkKXjcetkV",
    "outputId": "d443973e-d4e4-48bf-91f3-9892f04a19d6"
   },
   "outputs": [
    {
     "data": {
      "text/plain": [
       "Net(\n",
       "  (conv1): Conv2d(1, 6, kernel_size=(5, 5), stride=(1, 1))\n",
       "  (pool): MaxPool2d(kernel_size=2, stride=2, padding=0, dilation=1, ceil_mode=False)\n",
       "  (conv2): Conv2d(6, 16, kernel_size=(5, 5), stride=(1, 1))\n",
       "  (fc1): Linear(in_features=256, out_features=120, bias=True)\n",
       "  (fc2): Linear(in_features=120, out_features=84, bias=True)\n",
       "  (fc3): Linear(in_features=84, out_features=10, bias=True)\n",
       ")"
      ]
     },
     "execution_count": 19,
     "metadata": {
      "tags": []
     },
     "output_type": "execute_result"
    }
   ],
   "source": [
    "model_cnn"
   ]
  },
  {
   "cell_type": "code",
   "execution_count": 0,
   "metadata": {
    "colab": {},
    "colab_type": "code",
    "collapsed": true,
    "id": "PYIuSpHcetkY"
   },
   "outputs": [],
   "source": [
    "c = nn.CrossEntropyLoss() # c for criterion\n",
    "o = optim.SGD(model_cnn.parameters(), lr=0.001, momentum=0.9) #o for optimizer"
   ]
  },
  {
   "cell_type": "code",
   "execution_count": 0,
   "metadata": {
    "colab": {},
    "colab_type": "code",
    "collapsed": true,
    "id": "DjzQL5SRetkb"
   },
   "outputs": [],
   "source": [
    "def train(model_cnn):\n",
    "   \n",
    "    for epoch in range(5): # no. of epochs\n",
    "        running_loss = 0.0\n",
    "        for i, data in enumerate(train_loader, 0):\n",
    "            # data pixels and labels to GPU if available\n",
    "            inputs, labels = data[0].to(device, non_blocking=True), data[1].to(device, non_blocking=True)\n",
    "            # set the parameter gradients to zero\n",
    "            o.zero_grad()\n",
    "            outputs = model_cnn(inputs)\n",
    "            loss = c(outputs, labels)\n",
    "            # propagate the loss backward\n",
    "            loss.backward()\n",
    "            o.step()\n",
    " \n",
    "            # print for mini batches\n",
    "            running_loss += loss.item()\n",
    "            if i % 500 == 499:  # every 500 mini batches\n",
    "                print('[Epoch %d, %5d Mini Batches] loss: %.3f' %\n",
    "                      (epoch + 1, i + 1, running_loss/500))\n",
    "                running_loss = 0.0"
   ]
  },
  {
   "cell_type": "code",
   "execution_count": 22,
   "metadata": {
    "colab": {
     "base_uri": "https://localhost:8080/",
     "height": 102
    },
    "colab_type": "code",
    "id": "GsJNlzCOetkf",
    "outputId": "673da231-36f1-47f9-eadc-bb44d1cd7d5a"
   },
   "outputs": [
    {
     "name": "stdout",
     "output_type": "stream",
     "text": [
      "[Epoch 1,   500 Mini Batches] loss: 2.274\n",
      "[Epoch 2,   500 Mini Batches] loss: 0.817\n",
      "[Epoch 3,   500 Mini Batches] loss: 0.248\n",
      "[Epoch 4,   500 Mini Batches] loss: 0.182\n",
      "[Epoch 5,   500 Mini Batches] loss: 0.143\n"
     ]
    }
   ],
   "source": [
    "train(model_cnn)"
   ]
  },
  {
   "cell_type": "code",
   "execution_count": 23,
   "metadata": {
    "colab": {
     "base_uri": "https://localhost:8080/",
     "height": 34
    },
    "colab_type": "code",
    "id": "A2qL3f9setkj",
    "outputId": "b339e733-a216-424b-ec56-1a81127b8f64"
   },
   "outputs": [
    {
     "name": "stdout",
     "output_type": "stream",
     "text": [
      "Accuracy of the network on the 10000 test images: 96.44 %\n"
     ]
    }
   ],
   "source": [
    "with torch.no_grad():\n",
    "    correct = 0\n",
    "    total = 0\n",
    "    for data in test_loader:\n",
    "        inputs, labels = data[0].to(device, non_blocking=True), data[1].to(device, non_blocking=True)\n",
    "        outputs = model_cnn(inputs)\n",
    "        _, predicted = torch.max(outputs.data, 1)\n",
    "        total += labels.size(0)\n",
    "        correct += (predicted == labels).sum().item()\n",
    "\n",
    "    acc = 100.0 * correct / total\n",
    "    print(f'Accuracy of the network on the 10000 test images: {acc} %')"
   ]
  },
  {
   "cell_type": "code",
   "execution_count": 0,
   "metadata": {
    "colab": {},
    "colab_type": "code",
    "collapsed": true,
    "id": "mkubec2aetkm"
   },
   "outputs": [],
   "source": [
    "model_cnn2 = nn.Sequential(nn.Conv2d(1, 32, 3, padding=1), nn.ReLU(),\n",
    "                          nn.Conv2d(32, 32, 3, padding=1, stride=2), nn.ReLU(),\n",
    "                          nn.Conv2d(32, 64, 3, padding=1), nn.ReLU(),\n",
    "                          nn.Conv2d(64, 64, 3, padding=1, stride=2), nn.ReLU(),\n",
    "                          Flatten(),\n",
    "                          nn.Linear(7*7*64, 100), nn.ReLU(),\n",
    "                          nn.Linear(100, 10)).to(device)"
   ]
  },
  {
   "cell_type": "code",
   "execution_count": 25,
   "metadata": {
    "colab": {
     "base_uri": "https://localhost:8080/",
     "height": 255
    },
    "colab_type": "code",
    "id": "tl5QL_cjetku",
    "outputId": "2968075b-696f-40f8-b28e-38ab261933a3"
   },
   "outputs": [
    {
     "data": {
      "text/plain": [
       "Sequential(\n",
       "  (0): Conv2d(1, 32, kernel_size=(3, 3), stride=(1, 1), padding=(1, 1))\n",
       "  (1): ReLU()\n",
       "  (2): Conv2d(32, 32, kernel_size=(3, 3), stride=(2, 2), padding=(1, 1))\n",
       "  (3): ReLU()\n",
       "  (4): Conv2d(32, 64, kernel_size=(3, 3), stride=(1, 1), padding=(1, 1))\n",
       "  (5): ReLU()\n",
       "  (6): Conv2d(64, 64, kernel_size=(3, 3), stride=(2, 2), padding=(1, 1))\n",
       "  (7): ReLU()\n",
       "  (8): Flatten()\n",
       "  (9): Linear(in_features=3136, out_features=100, bias=True)\n",
       "  (10): ReLU()\n",
       "  (11): Linear(in_features=100, out_features=10, bias=True)\n",
       ")"
      ]
     },
     "execution_count": 25,
     "metadata": {
      "tags": []
     },
     "output_type": "execute_result"
    }
   ],
   "source": [
    "model_cnn2"
   ]
  },
  {
   "cell_type": "code",
   "execution_count": 0,
   "metadata": {
    "colab": {},
    "colab_type": "code",
    "collapsed": true,
    "id": "aQOedVe1etkx"
   },
   "outputs": [],
   "source": [
    "criterion2 = nn.CrossEntropyLoss()\n",
    "optimizer2 = optim.SGD(model_cnn2.parameters(), lr=0.001, momentum=0.9)"
   ]
  },
  {
   "cell_type": "code",
   "execution_count": 0,
   "metadata": {
    "colab": {},
    "colab_type": "code",
    "collapsed": true,
    "id": "xyFHcmcpetk2"
   },
   "outputs": [],
   "source": [
    "def train(model_cnn2):\n",
    "   \n",
    "    for epoch in range(5): # no. of epochs\n",
    "        running_loss = 0.0\n",
    "        for i, data in enumerate(train_loader, 0):\n",
    "            # data pixels and labels to GPU if available\n",
    "            inputs, labels = data[0].to(device, non_blocking=True), data[1].to(device, non_blocking=True)\n",
    "            # set the parameter gradients to zero\n",
    "            optimizer2.zero_grad()\n",
    "            outputs = model_cnn2(inputs)\n",
    "            loss = criterion2(outputs, labels)\n",
    "            # propagate the loss backward\n",
    "            loss.backward()\n",
    "            optimizer2.step()\n",
    " \n",
    "            # print for mini batches\n",
    "            running_loss += loss.item()\n",
    "            if i % 500 == 499:  # every 500 mini batches\n",
    "                print('[Epoch %d, %5d Mini Batches] loss: %.3f' %\n",
    "                      (epoch + 1, i + 1, running_loss/500))\n",
    "                running_loss = 0.0"
   ]
  },
  {
   "cell_type": "code",
   "execution_count": 28,
   "metadata": {
    "colab": {
     "base_uri": "https://localhost:8080/",
     "height": 102
    },
    "colab_type": "code",
    "id": "T-RtmFGSetk4",
    "outputId": "e91e0021-e2d7-4a46-d69a-cfa0741612d5"
   },
   "outputs": [
    {
     "name": "stdout",
     "output_type": "stream",
     "text": [
      "[Epoch 1,   500 Mini Batches] loss: 2.234\n",
      "[Epoch 2,   500 Mini Batches] loss: 0.398\n",
      "[Epoch 3,   500 Mini Batches] loss: 0.254\n",
      "[Epoch 4,   500 Mini Batches] loss: 0.185\n",
      "[Epoch 5,   500 Mini Batches] loss: 0.143\n"
     ]
    }
   ],
   "source": [
    "train(model_cnn2)"
   ]
  },
  {
   "cell_type": "code",
   "execution_count": 29,
   "metadata": {
    "colab": {
     "base_uri": "https://localhost:8080/",
     "height": 34
    },
    "colab_type": "code",
    "id": "Azs_lySEetk8",
    "outputId": "0d923366-3174-4f64-8ee9-39c08b6b91b6"
   },
   "outputs": [
    {
     "name": "stdout",
     "output_type": "stream",
     "text": [
      "Accuracy of the network on the 10000 test images: 96.27 %\n"
     ]
    }
   ],
   "source": [
    "with torch.no_grad():\n",
    "    correct = 0\n",
    "    total = 0\n",
    "    for data in test_loader:\n",
    "        inputs, labels = data[0].to(device, non_blocking=True), data[1].to(device, non_blocking=True)\n",
    "        outputs = model_cnn2(inputs)\n",
    "        _, predicted = torch.max(outputs.data, 1)\n",
    "        total += labels.size(0)\n",
    "        correct += (predicted == labels).sum().item()\n",
    "\n",
    "    acc = 100.0 * correct / total\n",
    "    print(f'Accuracy of the network on the 10000 test images: {acc} %')"
   ]
  },
  {
   "cell_type": "code",
   "execution_count": 0,
   "metadata": {
    "colab": {},
    "colab_type": "code",
    "collapsed": true,
    "id": "e3VN7bj_etk_"
   },
   "outputs": [],
   "source": [
    "torch.save(model_cnn.state_dict(), \"model_cnn.pt\")"
   ]
  },
  {
   "cell_type": "code",
   "execution_count": 31,
   "metadata": {
    "colab": {
     "base_uri": "https://localhost:8080/",
     "height": 34
    },
    "colab_type": "code",
    "id": "CjmUAuZgetlE",
    "outputId": "b4da3c07-aeed-4384-f142-b2b0bb4f6d95"
   },
   "outputs": [
    {
     "data": {
      "text/plain": [
       "<All keys matched successfully>"
      ]
     },
     "execution_count": 31,
     "metadata": {
      "tags": []
     },
     "output_type": "execute_result"
    }
   ],
   "source": [
    "model_cnn.load_state_dict(torch.load(\"model_cnn.pt\"))"
   ]
  },
  {
   "cell_type": "markdown",
   "metadata": {
    "colab_type": "text",
    "id": "hSKwHSRhetlH"
   },
   "source": [
    "## 2.3 Adversarial attack using Fast Gradient Sign Method (FGSM)\n",
    "\n",
    "The adversarial attacks on the both the 2-layer neural network model (only the one trained with Adam optimization method since it yielded higher accuracy) and the convolutional neural network model are carried out using the same FGSM method described in section 1.2. \n",
    "\n",
    "First of all, the method **fgsm(model, X, y, epsilon)** is written in order to generate the perturbation \"$\\epsilon sign(\\nabla_{x} l_i (f_w(x_i), y_i)$\" to add to the input data (see equation (6)). In this method, given the input matrix $X$ and output labels $y$, as well as the neural network model to be attacked and the specified value of $\\epsilon$, it calculate the gradient of the cost function with respect to the input data, and returns the calculated value of \"$\\epsilon sign(\\nabla_{x} l_i (f_w(x_i), y_i)$\". \n",
    "\n",
    "Then the method **epoch_adversarial(model, loader, attack, *args)** is created in order to iterate through the data in test set, generate predicted class labels using specifed neural network model with the perturbed input data. The method then calculates the new prediction accuracy by counting the number of correctly identified images using the perturbed input data. \n",
    "\n",
    "The FGSM attack on both models are tried with a list of $\\epsilon$ values, ranging from $0.05$ to $0.3$. See figure 6 and 7 for a plot of how the prediction accuracies after the attack changes with the values of $\\epsilon$."
   ]
  },
  {
   "cell_type": "code",
   "execution_count": 32,
   "metadata": {
    "colab": {
     "base_uri": "https://localhost:8080/",
     "height": 34
    },
    "colab_type": "code",
    "id": "hm-1v8txetlI",
    "outputId": "6341f693-b99d-4540-a47d-e8b0eace4330"
   },
   "outputs": [
    {
     "data": {
      "text/plain": [
       "<All keys matched successfully>"
      ]
     },
     "execution_count": 32,
     "metadata": {
      "tags": []
     },
     "output_type": "execute_result"
    }
   ],
   "source": [
    "# Saving and Loading the trained 2-layer neural network model (to be attacked)\n",
    "torch.save(model.state_dict(), \"model.pt\")\n",
    "model.load_state_dict(torch.load(\"model.pt\"))\n",
    "\n",
    "# # Saving and Loading the trained 2-layer neural network model (to be attacked)\n",
    "# torch.save(model_cnn.state_dict(), \"model_cnn.pt\")\n",
    "# model_cnn.load_state_dict(torch.load(\"model_cnn.pt\"))"
   ]
  },
  {
   "cell_type": "code",
   "execution_count": 0,
   "metadata": {
    "colab": {},
    "colab_type": "code",
    "collapsed": true,
    "id": "1LTStSc5etlL"
   },
   "outputs": [],
   "source": [
    "def fgsm(model, X, y, epsilon):\n",
    "    \"\"\" Construct FGSM adversarial examples on the examples X\"\"\"\n",
    "    delta = torch.zeros_like(X, requires_grad=True)\n",
    "    loss = nn.CrossEntropyLoss()(model(X + delta), y)\n",
    "    loss.backward()\n",
    "    return epsilon * delta.grad.detach().sign()"
   ]
  },
  {
   "cell_type": "code",
   "execution_count": 0,
   "metadata": {
    "colab": {},
    "colab_type": "code",
    "collapsed": true,
    "id": "PL5RIeTPetlW"
   },
   "outputs": [],
   "source": [
    "for X,y in test_loader:\n",
    "    X,y = X.to(device), y.to(device)\n",
    "    break\n",
    "    \n",
    "def plot_images(X,y,yp,M,N):\n",
    "    f,ax = plt.subplots(M,N, sharex=True, sharey=True, figsize=(N,M*1.3))\n",
    "    for i in range(M):\n",
    "        for j in range(N):\n",
    "            ax[i][j].imshow(1-X[i*N+j][0].cpu().numpy(), cmap=\"gray\")\n",
    "            title = ax[i][j].set_title(\"Pred: {}\".format(yp[i*N+j].max(dim=0)[1]))\n",
    "            plt.setp(title, color=('g' if yp[i*N+j].max(dim=0)[1] == y[i*N+j] else 'r'))\n",
    "            ax[i][j].set_axis_off()\n",
    "    plt.tight_layout()"
   ]
  },
  {
   "cell_type": "code",
   "execution_count": 0,
   "metadata": {
    "colab": {},
    "colab_type": "code",
    "collapsed": true,
    "id": "GC5go78Eetlf"
   },
   "outputs": [],
   "source": [
    "def epoch_adversarial(model, loader, attack, *args):\n",
    "    total_loss, total_acc = 0.,0.\n",
    "    for X,y in loader:\n",
    "        X,y = X.to(device), y.to(device)\n",
    "        delta = attack(model, X, y, *args)\n",
    "        yp = model(X+delta)\n",
    "        loss = nn.CrossEntropyLoss()(yp,y)\n",
    "        \n",
    "        total_acc += (yp.max(dim=1)[1] == y).sum().item()\n",
    "        total_loss += loss.item() * X.shape[0]\n",
    "    return total_acc / len(loader.dataset), total_loss / len(loader.dataset)"
   ]
  },
  {
   "cell_type": "markdown",
   "metadata": {
    "colab_type": "text",
    "id": "q1UKeo6Wetlk"
   },
   "source": [
    "## FGSM Attack on 2-layer neural network"
   ]
  },
  {
   "cell_type": "code",
   "execution_count": 36,
   "metadata": {
    "colab": {
     "base_uri": "https://localhost:8080/",
     "height": 281
    },
    "colab_type": "code",
    "id": "GITjY4kwetll",
    "outputId": "b41a22bf-10ef-4744-ca23-418c34fd2580"
   },
   "outputs": [
    {
     "data": {
      "image/png": "[encoded data removed]",
      "text/plain": [
       "<Figure size 432x280.8 with 18 Axes>"
      ]
     },
     "metadata": {
      "tags": []
     },
     "output_type": "display_data"
    }
   ],
   "source": [
    "yp = model(X)\n",
    "plot_images(X, y, yp, 3, 6)\n",
    "plt.show()"
   ]
  },
  {
   "cell_type": "code",
   "execution_count": 37,
   "metadata": {
    "colab": {
     "base_uri": "https://localhost:8080/",
     "height": 281
    },
    "colab_type": "code",
    "id": "90Cgo7kHetls",
    "outputId": "deb2bc20-96f1-4621-95b4-ba9e79a4272c"
   },
   "outputs": [
    {
     "data": {
      "image/png": "[encoded data removed]",
      "text/plain": [
       "<Figure size 432x280.8 with 18 Axes>"
      ]
     },
     "metadata": {
      "tags": []
     },
     "output_type": "display_data"
    }
   ],
   "source": [
    "delta = fgsm(model, X, y, 0.1)\n",
    "yp = model(X + delta)\n",
    "plot_images(X+delta, y, yp, 3, 6)\n",
    "plt.show()"
   ]
  },
  {
   "cell_type": "code",
   "execution_count": 38,
   "metadata": {
    "colab": {
     "base_uri": "https://localhost:8080/",
     "height": 34
    },
    "colab_type": "code",
    "id": "oVko2qehetl1",
    "outputId": "cef89e83-6050-4a0f-e528-7bb542c05bb2"
   },
   "outputs": [
    {
     "name": "stdout",
     "output_type": "stream",
     "text": [
      "2-layer NN: 51.160000000000004\n"
     ]
    }
   ],
   "source": [
    "print(\"2-layer NN:\", epoch_adversarial(model, test_loader, fgsm, 0.1)[0]*100)"
   ]
  },
  {
   "cell_type": "code",
   "execution_count": 0,
   "metadata": {
    "colab": {},
    "colab_type": "code",
    "collapsed": true,
    "id": "QfPUMnZ0etl8"
   },
   "outputs": [],
   "source": [
    "epsilons = [0, .05, .1, .15, .2, .25, .3]\n",
    "accuracies = []\n",
    "for eps in epsilons:\n",
    "    accuracy = epoch_adversarial(model, test_loader, fgsm, eps)[0]\n",
    "    accuracies.append(accuracy)"
   ]
  },
  {
   "cell_type": "code",
   "execution_count": 40,
   "metadata": {
    "colab": {
     "base_uri": "https://localhost:8080/",
     "height": 312
    },
    "colab_type": "code",
    "id": "DGcwR1QDetmH",
    "outputId": "183e4ff0-05ad-471a-c1f8-ff1a63ea0d49"
   },
   "outputs": [
    {
     "name": "stdout",
     "output_type": "stream",
     "text": [
      "[0.9524, 0.7623, 0.5116, 0.34, 0.2598, 0.2195, 0.1968]\n"
     ]
    },
    {
     "data": {
      "image/png": "[encoded data removed]",
      "text/plain": [
       "<Figure size 432x288 with 1 Axes>"
      ]
     },
     "metadata": {
      "tags": []
     },
     "output_type": "display_data"
    }
   ],
   "source": [
    "print(accuracies)\n",
    "plt.plot(epsilons,accuracies)\n",
    "plt.scatter(epsilons,accuracies)\n",
    "plt.title(\"Accuracies after the adversarial attack on the 2-layer neural network\")\n",
    "plt.xlabel(\"$\\epsilon$\")\n",
    "plt.ylabel(\"prediction accuracy\")\n",
    "plt.show()"
   ]
  },
  {
   "cell_type": "markdown",
   "metadata": {
    "colab_type": "text",
    "id": "D1siXK5ZetmN"
   },
   "source": [
    "Figure 6: Plot of the prediction accuracies after the adversarial attack on the 2-layer neural network for a range of $\\epsilon$ values"
   ]
  },
  {
   "cell_type": "markdown",
   "metadata": {
    "colab_type": "text",
    "id": "G0U5agcJetmO"
   },
   "source": [
    "## FGSM Attack on CNN "
   ]
  },
  {
   "cell_type": "code",
   "execution_count": 41,
   "metadata": {
    "colab": {
     "base_uri": "https://localhost:8080/",
     "height": 281
    },
    "colab_type": "code",
    "id": "RkzljSLSetmO",
    "outputId": "99b57db5-6697-4772-b1c6-60527dafdd38"
   },
   "outputs": [
    {
     "data": {
      "image/png": "[encoded data removed]",
      "text/plain": [
       "<Figure size 432x280.8 with 18 Axes>"
      ]
     },
     "metadata": {
      "tags": []
     },
     "output_type": "display_data"
    }
   ],
   "source": [
    "yp = model_cnn(X)\n",
    "plot_images(X, y, yp, 3, 6)"
   ]
  },
  {
   "cell_type": "code",
   "execution_count": 42,
   "metadata": {
    "colab": {
     "base_uri": "https://localhost:8080/",
     "height": 281
    },
    "colab_type": "code",
    "id": "zfTj06ZDetmR",
    "outputId": "e722b357-59e8-41cf-c27e-788ecbeae9c7"
   },
   "outputs": [
    {
     "data": {
      "image/png": "[encoded data removed]",
      "text/plain": [
       "<Figure size 432x280.8 with 18 Axes>"
      ]
     },
     "metadata": {
      "tags": []
     },
     "output_type": "display_data"
    }
   ],
   "source": [
    "delta = fgsm(model_cnn, X, y, 0.1)\n",
    "yp = model_cnn(X + delta)\n",
    "plot_images(X+delta, y, yp, 3, 6)"
   ]
  },
  {
   "cell_type": "code",
   "execution_count": 43,
   "metadata": {
    "colab": {
     "base_uri": "https://localhost:8080/",
     "height": 34
    },
    "colab_type": "code",
    "id": "MHUkPahPetmY",
    "outputId": "ae888bfc-e81f-46ac-99ae-30ffe76ccf0d"
   },
   "outputs": [
    {
     "name": "stdout",
     "output_type": "stream",
     "text": [
      "CNN: 77.81\n"
     ]
    }
   ],
   "source": [
    "print(\"CNN:\", epoch_adversarial(model_cnn, test_loader, fgsm, 0.1)[0]*100)"
   ]
  },
  {
   "cell_type": "code",
   "execution_count": 0,
   "metadata": {
    "colab": {},
    "colab_type": "code",
    "collapsed": true,
    "id": "1z_mhGxsetmc"
   },
   "outputs": [],
   "source": [
    "epsilons = [0, .05, .1, .15, .2, .25, .3]\n",
    "accuracies_cnn = []\n",
    "for eps in epsilons:\n",
    "    accuracy = epoch_adversarial(model_cnn, test_loader, fgsm, eps)[0]\n",
    "    accuracies_cnn.append(accuracy)"
   ]
  },
  {
   "cell_type": "code",
   "execution_count": 45,
   "metadata": {
    "colab": {
     "base_uri": "https://localhost:8080/",
     "height": 312
    },
    "colab_type": "code",
    "id": "H6CrZnR5etmf",
    "outputId": "59a46e67-cfe6-4324-d0c5-d5b681700a9c"
   },
   "outputs": [
    {
     "name": "stdout",
     "output_type": "stream",
     "text": [
      "[0.9524, 0.7623, 0.5116, 0.34, 0.2598, 0.2195, 0.1968]\n"
     ]
    },
    {
     "data": {
      "image/png": "[encoded data removed]",
      "text/plain": [
       "<Figure size 432x288 with 1 Axes>"
      ]
     },
     "metadata": {
      "tags": []
     },
     "output_type": "display_data"
    }
   ],
   "source": [
    "print(accuracies)\n",
    "plt.plot(epsilons,accuracies_cnn)\n",
    "plt.scatter(epsilons,accuracies_cnn)\n",
    "plt.title(\"Accuracies after the adversarial attack on CNN model 1\")\n",
    "plt.xlabel(\"$\\epsilon$\")\n",
    "plt.ylabel(\"prediction accuracy\")\n",
    "plt.show()"
   ]
  },
  {
   "cell_type": "markdown",
   "metadata": {
    "colab_type": "text",
    "id": "QNuE3bgoetmi"
   },
   "source": [
    "Figure 7: Plot of the prediction accuracies after the adversarial attack on the CNN for a range of $\\epsilon$ values"
   ]
  },
  {
   "cell_type": "code",
   "execution_count": 47,
   "metadata": {
    "colab": {
     "base_uri": "https://localhost:8080/",
     "height": 34
    },
    "colab_type": "code",
    "id": "MTut6GkvmPFr",
    "outputId": "5283e8ef-b6ee-4ef8-d9e3-ab246bb252d9"
   },
   "outputs": [
    {
     "name": "stdout",
     "output_type": "stream",
     "text": [
      "CNN: 38.080000000000005\n"
     ]
    }
   ],
   "source": [
    "print(\"CNN:\", epoch_adversarial(model_cnn2, test_loader, fgsm, 0.1)[0]*100)"
   ]
  },
  {
   "cell_type": "code",
   "execution_count": 0,
   "metadata": {
    "colab": {},
    "colab_type": "code",
    "collapsed": true,
    "id": "NUE9mSvUmYaq"
   },
   "outputs": [],
   "source": [
    "epsilons = [0, .05, .1, .15, .2, .25, .3]\n",
    "accuracies_cnn2 = []\n",
    "for eps in epsilons:\n",
    "    accuracy = epoch_adversarial(model_cnn2, test_loader, fgsm, eps)[0]\n",
    "    accuracies_cnn2.append(accuracy)"
   ]
  },
  {
   "cell_type": "code",
   "execution_count": 0,
   "metadata": {
    "colab": {},
    "colab_type": "code",
    "collapsed": true,
    "id": "QEgOwf48meuh"
   },
   "outputs": [],
   "source": [
    "print(accuracies)\n",
    "plt.plot(epsilons,accuracies_cnn2)\n",
    "plt.scatter(epsilons,accuracies_cnn2)\n",
    "plt.title(\"Accuracies after the adversarial attack on CNN model 2\")\n",
    "plt.xlabel(\"$\\epsilon$\")\n",
    "plt.ylabel(\"prediction accuracy\")\n",
    "plt.show()"
   ]
  },
  {
   "cell_type": "markdown",
   "metadata": {
    "colab_type": "text",
    "id": "t-NKrUGHetmo"
   },
   "source": [
    "## Results"
   ]
  },
  {
   "cell_type": "markdown",
   "metadata": {},
   "source": [
    "The 2-layer neural network, model, using the Adam optimisation, has an accuracy of about 95.24% \n",
    "\n",
    "The 2-layer neural network, model, usng the stochastic gradient descent, has an accuracy of about 94.36%, slightly lower but similar to the Adam method\n",
    "\n",
    "The first convolutional neural network, model_cnn, achived an accuracy of about 96.44%, whilst the second convolutional neural network, model_cnn2, has an accuracy of about 96.27% \n",
    "\n",
    "After implementing the FGSM adverserial attack, for $\\epsilon = 0.1$: \n",
    "\n",
    "Accuracy of the 2-layer neural network is about 51.16% \\\n",
    "Accuracy of the convolutional neural network, model_cnn, is about 77.81% \\\n",
    "Accuracy of the convolutional neural network, model_cnn2, is about 38.08%\n",
    "\n",
    "It can be seen the the first convolutional neural network model is more robust to the attack.\n"
   ]
  },
  {
   "cell_type": "markdown",
   "metadata": {
    "colab_type": "text",
    "collapsed": true,
    "id": "gNiDwJ8oetmp"
   },
   "source": [
    "# References"
   ]
  },
  {
   "cell_type": "markdown",
   "metadata": {
    "colab_type": "text",
    "id": "fhIvqbj-etmq"
   },
   "source": [
    "[1] Benning, M. (2020). *Advanced Machine Learning, Deep Learning.* Queen Mary University of London\n",
    "\n",
    "[2] Shalev-Shwartz, S. and Ben-David, S. (2014) “Neural Networks,” in *Understanding Machine Learning: From Theory to Algorithms.* Cambridge: Cambridge University Press, pp. 228–242. doi: 10.1017/CBO9781107298019.021.\n",
    "\n",
    "[3] Liu, D., 2017. *A Practical Guide To Relu.* [online] Medium. Available at: <https://medium.com/@danqing/a-practical-guide-to-relu-b83ca804f1f7> [Accessed 15 March 2020].\n",
    "\n",
    "[4] Kingma, Diederik & Ba, Jimmy. (2014). *Adam: A Method for Stochastic Optimization.* International Conference on Learning Representations. \n",
    "\n",
    "[5] Inkawhich, N., 2017. *Adversarial Example Generation — Pytorch Tutorials 1.4.0 Documentation.* [online] Pytorch.org. Available at: <https://pytorch.org/tutorials/beginner/fgsm_tutorial.html> [Accessed 15 March 2020].\n",
    "\n",
    "[6] D2l.ai. 2020. 6. Convolutional Neural Networks — Dive Into Deep Learning 0.7.1 Documentation. [online] Available at: <https://d2l.ai/chapter_convolutional-neural-networks/index.html> [Accessed 15 March 2020].\n",
    "\n",
    "[7] https://github.com/python-engineer/pytorchTutorial"
   ]
  },
  {
   "cell_type": "code",
   "execution_count": 0,
   "metadata": {
    "colab": {},
    "colab_type": "code",
    "collapsed": true,
    "id": "5Y9Dz05wetmr"
   },
   "outputs": [],
   "source": []
  },
  {
   "cell_type": "code",
   "execution_count": 0,
   "metadata": {
    "colab": {},
    "colab_type": "code",
    "collapsed": true,
    "id": "4PNbvHMdetmt"
   },
   "outputs": [],
   "source": []
  }
 ],
 "metadata": {
  "colab": {
   "name": "MNIST- Neural Networks 16th March (latest combined).ipynb",
   "provenance": []
  },
  "kernelspec": {
   "display_name": "Python 3",
   "language": "python",
   "name": "python3"
  },
  "language_info": {
   "codemirror_mode": {
    "name": "ipython",
    "version": 3
   },
   "file_extension": ".py",
   "mimetype": "text/x-python",
   "name": "python",
   "nbconvert_exporter": "python",
   "pygments_lexer": "ipython3",
   "version": "3.7.4"
  },
  "widgets": {
   "application/vnd.jupyter.widget-state+json": {
    "0c81e90652754269b88ebcb91d0a6752": {
     "model_module": "@jupyter-widgets/controls",
     "model_name": "ProgressStyleModel",
     "state": {
      "_model_module": "@jupyter-widgets/controls",
      "_model_module_version": "1.5.0",
      "_model_name": "ProgressStyleModel",
      "_view_count": null,
      "_view_module": "@jupyter-widgets/base",
      "_view_module_version": "1.2.0",
      "_view_name": "StyleView",
      "bar_color": null,
      "description_width": ""
     }
    },
    "15bb15623cfe4b02b7ce3f332b4629e9": {
     "model_module": "@jupyter-widgets/controls",
     "model_name": "ProgressStyleModel",
     "state": {
      "_model_module": "@jupyter-widgets/controls",
      "_model_module_version": "1.5.0",
      "_model_name": "ProgressStyleModel",
      "_view_count": null,
      "_view_module": "@jupyter-widgets/base",
      "_view_module_version": "1.2.0",
      "_view_name": "StyleView",
      "bar_color": null,
      "description_width": ""
     }
    },
    "1db1e3e3a699495db578db308f54b7af": {
     "model_module": "@jupyter-widgets/base",
     "model_name": "LayoutModel",
     "state": {
      "_model_module": "@jupyter-widgets/base",
      "_model_module_version": "1.2.0",
      "_model_name": "LayoutModel",
      "_view_count": null,
      "_view_module": "@jupyter-widgets/base",
      "_view_module_version": "1.2.0",
      "_view_name": "LayoutView",
      "align_content": null,
      "align_items": null,
      "align_self": null,
      "border": null,
      "bottom": null,
      "display": null,
      "flex": null,
      "flex_flow": null,
      "grid_area": null,
      "grid_auto_columns": null,
      "grid_auto_flow": null,
      "grid_auto_rows": null,
      "grid_column": null,
      "grid_gap": null,
      "grid_row": null,
      "grid_template_areas": null,
      "grid_template_columns": null,
      "grid_template_rows": null,
      "height": null,
      "justify_content": null,
      "justify_items": null,
      "left": null,
      "margin": null,
      "max_height": null,
      "max_width": null,
      "min_height": null,
      "min_width": null,
      "object_fit": null,
      "object_position": null,
      "order": null,
      "overflow": null,
      "overflow_x": null,
      "overflow_y": null,
      "padding": null,
      "right": null,
      "top": null,
      "visibility": null,
      "width": null
     }
    },
    "2b2e7be488d54f8fb74a9f86aec76ae5": {
     "model_module": "@jupyter-widgets/controls",
     "model_name": "IntProgressModel",
     "state": {
      "_dom_classes": [],
      "_model_module": "@jupyter-widgets/controls",
      "_model_module_version": "1.5.0",
      "_model_name": "IntProgressModel",
      "_view_count": null,
      "_view_module": "@jupyter-widgets/controls",
      "_view_module_version": "1.5.0",
      "_view_name": "ProgressView",
      "bar_style": "success",
      "description": "",
      "description_tooltip": null,
      "layout": "IPY_MODEL_c4cfd68a6e34412ebd968738da4cdead",
      "max": 1,
      "min": 0,
      "orientation": "horizontal",
      "style": "IPY_MODEL_e139f617f02a4797b32ff5f3b56c97b0",
      "value": 1
     }
    },
    "36d8bac747894da2b72d0c8db0081a39": {
     "model_module": "@jupyter-widgets/controls",
     "model_name": "ProgressStyleModel",
     "state": {
      "_model_module": "@jupyter-widgets/controls",
      "_model_module_version": "1.5.0",
      "_model_name": "ProgressStyleModel",
      "_view_count": null,
      "_view_module": "@jupyter-widgets/base",
      "_view_module_version": "1.2.0",
      "_view_name": "StyleView",
      "bar_color": null,
      "description_width": ""
     }
    },
    "55222b69cef4463780169e67a60dadeb": {
     "model_module": "@jupyter-widgets/base",
     "model_name": "LayoutModel",
     "state": {
      "_model_module": "@jupyter-widgets/base",
      "_model_module_version": "1.2.0",
      "_model_name": "LayoutModel",
      "_view_count": null,
      "_view_module": "@jupyter-widgets/base",
      "_view_module_version": "1.2.0",
      "_view_name": "LayoutView",
      "align_content": null,
      "align_items": null,
      "align_self": null,
      "border": null,
      "bottom": null,
      "display": null,
      "flex": null,
      "flex_flow": null,
      "grid_area": null,
      "grid_auto_columns": null,
      "grid_auto_flow": null,
      "grid_auto_rows": null,
      "grid_column": null,
      "grid_gap": null,
      "grid_row": null,
      "grid_template_areas": null,
      "grid_template_columns": null,
      "grid_template_rows": null,
      "height": null,
      "justify_content": null,
      "justify_items": null,
      "left": null,
      "margin": null,
      "max_height": null,
      "max_width": null,
      "min_height": null,
      "min_width": null,
      "object_fit": null,
      "object_position": null,
      "order": null,
      "overflow": null,
      "overflow_x": null,
      "overflow_y": null,
      "padding": null,
      "right": null,
      "top": null,
      "visibility": null,
      "width": null
     }
    },
    "5651dc4efd53405483a2aabb504d7692": {
     "model_module": "@jupyter-widgets/controls",
     "model_name": "DescriptionStyleModel",
     "state": {
      "_model_module": "@jupyter-widgets/controls",
      "_model_module_version": "1.5.0",
      "_model_name": "DescriptionStyleModel",
      "_view_count": null,
      "_view_module": "@jupyter-widgets/base",
      "_view_module_version": "1.2.0",
      "_view_name": "StyleView",
      "description_width": ""
     }
    },
    "572d2a2720284cdd96af393afaecc99c": {
     "model_module": "@jupyter-widgets/base",
     "model_name": "LayoutModel",
     "state": {
      "_model_module": "@jupyter-widgets/base",
      "_model_module_version": "1.2.0",
      "_model_name": "LayoutModel",
      "_view_count": null,
      "_view_module": "@jupyter-widgets/base",
      "_view_module_version": "1.2.0",
      "_view_name": "LayoutView",
      "align_content": null,
      "align_items": null,
      "align_self": null,
      "border": null,
      "bottom": null,
      "display": null,
      "flex": null,
      "flex_flow": null,
      "grid_area": null,
      "grid_auto_columns": null,
      "grid_auto_flow": null,
      "grid_auto_rows": null,
      "grid_column": null,
      "grid_gap": null,
      "grid_row": null,
      "grid_template_areas": null,
      "grid_template_columns": null,
      "grid_template_rows": null,
      "height": null,
      "justify_content": null,
      "justify_items": null,
      "left": null,
      "margin": null,
      "max_height": null,
      "max_width": null,
      "min_height": null,
      "min_width": null,
      "object_fit": null,
      "object_position": null,
      "order": null,
      "overflow": null,
      "overflow_x": null,
      "overflow_y": null,
      "padding": null,
      "right": null,
      "top": null,
      "visibility": null,
      "width": null
     }
    },
    "5a404ba1f5de49e5bed9017f1e488ce2": {
     "model_module": "@jupyter-widgets/controls",
     "model_name": "IntProgressModel",
     "state": {
      "_dom_classes": [],
      "_model_module": "@jupyter-widgets/controls",
      "_model_module_version": "1.5.0",
      "_model_name": "IntProgressModel",
      "_view_count": null,
      "_view_module": "@jupyter-widgets/controls",
      "_view_module_version": "1.5.0",
      "_view_name": "ProgressView",
      "bar_style": "success",
      "description": "",
      "description_tooltip": null,
      "layout": "IPY_MODEL_572d2a2720284cdd96af393afaecc99c",
      "max": 1,
      "min": 0,
      "orientation": "horizontal",
      "style": "IPY_MODEL_15bb15623cfe4b02b7ce3f332b4629e9",
      "value": 1
     }
    },
    "651da957ce8e41d7a68abeadb3ae1a5b": {
     "model_module": "@jupyter-widgets/base",
     "model_name": "LayoutModel",
     "state": {
      "_model_module": "@jupyter-widgets/base",
      "_model_module_version": "1.2.0",
      "_model_name": "LayoutModel",
      "_view_count": null,
      "_view_module": "@jupyter-widgets/base",
      "_view_module_version": "1.2.0",
      "_view_name": "LayoutView",
      "align_content": null,
      "align_items": null,
      "align_self": null,
      "border": null,
      "bottom": null,
      "display": null,
      "flex": null,
      "flex_flow": null,
      "grid_area": null,
      "grid_auto_columns": null,
      "grid_auto_flow": null,
      "grid_auto_rows": null,
      "grid_column": null,
      "grid_gap": null,
      "grid_row": null,
      "grid_template_areas": null,
      "grid_template_columns": null,
      "grid_template_rows": null,
      "height": null,
      "justify_content": null,
      "justify_items": null,
      "left": null,
      "margin": null,
      "max_height": null,
      "max_width": null,
      "min_height": null,
      "min_width": null,
      "object_fit": null,
      "object_position": null,
      "order": null,
      "overflow": null,
      "overflow_x": null,
      "overflow_y": null,
      "padding": null,
      "right": null,
      "top": null,
      "visibility": null,
      "width": null
     }
    },
    "750e7830c5d64714889c76a56b6daae4": {
     "model_module": "@jupyter-widgets/base",
     "model_name": "LayoutModel",
     "state": {
      "_model_module": "@jupyter-widgets/base",
      "_model_module_version": "1.2.0",
      "_model_name": "LayoutModel",
      "_view_count": null,
      "_view_module": "@jupyter-widgets/base",
      "_view_module_version": "1.2.0",
      "_view_name": "LayoutView",
      "align_content": null,
      "align_items": null,
      "align_self": null,
      "border": null,
      "bottom": null,
      "display": null,
      "flex": null,
      "flex_flow": null,
      "grid_area": null,
      "grid_auto_columns": null,
      "grid_auto_flow": null,
      "grid_auto_rows": null,
      "grid_column": null,
      "grid_gap": null,
      "grid_row": null,
      "grid_template_areas": null,
      "grid_template_columns": null,
      "grid_template_rows": null,
      "height": null,
      "justify_content": null,
      "justify_items": null,
      "left": null,
      "margin": null,
      "max_height": null,
      "max_width": null,
      "min_height": null,
      "min_width": null,
      "object_fit": null,
      "object_position": null,
      "order": null,
      "overflow": null,
      "overflow_x": null,
      "overflow_y": null,
      "padding": null,
      "right": null,
      "top": null,
      "visibility": null,
      "width": null
     }
    },
    "78b9695a81d1473fb78ffb963ea5b934": {
     "model_module": "@jupyter-widgets/controls",
     "model_name": "HTMLModel",
     "state": {
      "_dom_classes": [],
      "_model_module": "@jupyter-widgets/controls",
      "_model_module_version": "1.5.0",
      "_model_name": "HTMLModel",
      "_view_count": null,
      "_view_module": "@jupyter-widgets/controls",
      "_view_module_version": "1.5.0",
      "_view_name": "HTMLView",
      "description": "",
      "description_tooltip": null,
      "layout": "IPY_MODEL_b53e0dabd95b4550acc0c5dddec978a5",
      "placeholder": "​",
      "style": "IPY_MODEL_e6d213fd35144188b492adb71fadf593",
      "value": "9920512it [00:00, 14526868.36it/s]"
     }
    },
    "79a94a59da19430da892b09dadc79822": {
     "model_module": "@jupyter-widgets/controls",
     "model_name": "IntProgressModel",
     "state": {
      "_dom_classes": [],
      "_model_module": "@jupyter-widgets/controls",
      "_model_module_version": "1.5.0",
      "_model_name": "IntProgressModel",
      "_view_count": null,
      "_view_module": "@jupyter-widgets/controls",
      "_view_module_version": "1.5.0",
      "_view_name": "ProgressView",
      "bar_style": "success",
      "description": "",
      "description_tooltip": null,
      "layout": "IPY_MODEL_e8a60928dedb47e38262a0d148c7ffaf",
      "max": 1,
      "min": 0,
      "orientation": "horizontal",
      "style": "IPY_MODEL_36d8bac747894da2b72d0c8db0081a39",
      "value": 1
     }
    },
    "7b527f74ae2f41d2b6379279322ecea4": {
     "model_module": "@jupyter-widgets/controls",
     "model_name": "HBoxModel",
     "state": {
      "_dom_classes": [],
      "_model_module": "@jupyter-widgets/controls",
      "_model_module_version": "1.5.0",
      "_model_name": "HBoxModel",
      "_view_count": null,
      "_view_module": "@jupyter-widgets/controls",
      "_view_module_version": "1.5.0",
      "_view_name": "HBoxView",
      "box_style": "",
      "children": [
       "IPY_MODEL_2b2e7be488d54f8fb74a9f86aec76ae5",
       "IPY_MODEL_f6f8235f21f24f0fb85956d33424853b"
      ],
      "layout": "IPY_MODEL_1db1e3e3a699495db578db308f54b7af"
     }
    },
    "7c8685fc0b984816aabc007e9cb77ecc": {
     "model_module": "@jupyter-widgets/controls",
     "model_name": "HBoxModel",
     "state": {
      "_dom_classes": [],
      "_model_module": "@jupyter-widgets/controls",
      "_model_module_version": "1.5.0",
      "_model_name": "HBoxModel",
      "_view_count": null,
      "_view_module": "@jupyter-widgets/controls",
      "_view_module_version": "1.5.0",
      "_view_name": "HBoxView",
      "box_style": "",
      "children": [
       "IPY_MODEL_5a404ba1f5de49e5bed9017f1e488ce2",
       "IPY_MODEL_78b9695a81d1473fb78ffb963ea5b934"
      ],
      "layout": "IPY_MODEL_b9aacd48834f48aaa3cc996040fd3996"
     }
    },
    "860f9e2c877f4074b672b693f3f41018": {
     "model_module": "@jupyter-widgets/controls",
     "model_name": "HBoxModel",
     "state": {
      "_dom_classes": [],
      "_model_module": "@jupyter-widgets/controls",
      "_model_module_version": "1.5.0",
      "_model_name": "HBoxModel",
      "_view_count": null,
      "_view_module": "@jupyter-widgets/controls",
      "_view_module_version": "1.5.0",
      "_view_name": "HBoxView",
      "box_style": "",
      "children": [
       "IPY_MODEL_8f1e6cac95844a789314c15e85e1e2d1",
       "IPY_MODEL_90e82ac46e6445c3b3694d9ade172cf1"
      ],
      "layout": "IPY_MODEL_55222b69cef4463780169e67a60dadeb"
     }
    },
    "8f1e6cac95844a789314c15e85e1e2d1": {
     "model_module": "@jupyter-widgets/controls",
     "model_name": "IntProgressModel",
     "state": {
      "_dom_classes": [],
      "_model_module": "@jupyter-widgets/controls",
      "_model_module_version": "1.5.0",
      "_model_name": "IntProgressModel",
      "_view_count": null,
      "_view_module": "@jupyter-widgets/controls",
      "_view_module_version": "1.5.0",
      "_view_name": "ProgressView",
      "bar_style": "success",
      "description": "",
      "description_tooltip": null,
      "layout": "IPY_MODEL_f67d648eb3a843eebd4d3bb74220b336",
      "max": 1,
      "min": 0,
      "orientation": "horizontal",
      "style": "IPY_MODEL_0c81e90652754269b88ebcb91d0a6752",
      "value": 1
     }
    },
    "90e82ac46e6445c3b3694d9ade172cf1": {
     "model_module": "@jupyter-widgets/controls",
     "model_name": "HTMLModel",
     "state": {
      "_dom_classes": [],
      "_model_module": "@jupyter-widgets/controls",
      "_model_module_version": "1.5.0",
      "_model_name": "HTMLModel",
      "_view_count": null,
      "_view_module": "@jupyter-widgets/controls",
      "_view_module_version": "1.5.0",
      "_view_name": "HTMLView",
      "description": "",
      "description_tooltip": null,
      "layout": "IPY_MODEL_651da957ce8e41d7a68abeadb3ae1a5b",
      "placeholder": "​",
      "style": "IPY_MODEL_d99cd500b7744603b9c1f6c9b7edb27c",
      "value": "8192it [00:00, 61069.32it/s]"
     }
    },
    "9146e714fb47468399be05b53ef53f2d": {
     "model_module": "@jupyter-widgets/base",
     "model_name": "LayoutModel",
     "state": {
      "_model_module": "@jupyter-widgets/base",
      "_model_module_version": "1.2.0",
      "_model_name": "LayoutModel",
      "_view_count": null,
      "_view_module": "@jupyter-widgets/base",
      "_view_module_version": "1.2.0",
      "_view_name": "LayoutView",
      "align_content": null,
      "align_items": null,
      "align_self": null,
      "border": null,
      "bottom": null,
      "display": null,
      "flex": null,
      "flex_flow": null,
      "grid_area": null,
      "grid_auto_columns": null,
      "grid_auto_flow": null,
      "grid_auto_rows": null,
      "grid_column": null,
      "grid_gap": null,
      "grid_row": null,
      "grid_template_areas": null,
      "grid_template_columns": null,
      "grid_template_rows": null,
      "height": null,
      "justify_content": null,
      "justify_items": null,
      "left": null,
      "margin": null,
      "max_height": null,
      "max_width": null,
      "min_height": null,
      "min_width": null,
      "object_fit": null,
      "object_position": null,
      "order": null,
      "overflow": null,
      "overflow_x": null,
      "overflow_y": null,
      "padding": null,
      "right": null,
      "top": null,
      "visibility": null,
      "width": null
     }
    },
    "b53e0dabd95b4550acc0c5dddec978a5": {
     "model_module": "@jupyter-widgets/base",
     "model_name": "LayoutModel",
     "state": {
      "_model_module": "@jupyter-widgets/base",
      "_model_module_version": "1.2.0",
      "_model_name": "LayoutModel",
      "_view_count": null,
      "_view_module": "@jupyter-widgets/base",
      "_view_module_version": "1.2.0",
      "_view_name": "LayoutView",
      "align_content": null,
      "align_items": null,
      "align_self": null,
      "border": null,
      "bottom": null,
      "display": null,
      "flex": null,
      "flex_flow": null,
      "grid_area": null,
      "grid_auto_columns": null,
      "grid_auto_flow": null,
      "grid_auto_rows": null,
      "grid_column": null,
      "grid_gap": null,
      "grid_row": null,
      "grid_template_areas": null,
      "grid_template_columns": null,
      "grid_template_rows": null,
      "height": null,
      "justify_content": null,
      "justify_items": null,
      "left": null,
      "margin": null,
      "max_height": null,
      "max_width": null,
      "min_height": null,
      "min_width": null,
      "object_fit": null,
      "object_position": null,
      "order": null,
      "overflow": null,
      "overflow_x": null,
      "overflow_y": null,
      "padding": null,
      "right": null,
      "top": null,
      "visibility": null,
      "width": null
     }
    },
    "b9aacd48834f48aaa3cc996040fd3996": {
     "model_module": "@jupyter-widgets/base",
     "model_name": "LayoutModel",
     "state": {
      "_model_module": "@jupyter-widgets/base",
      "_model_module_version": "1.2.0",
      "_model_name": "LayoutModel",
      "_view_count": null,
      "_view_module": "@jupyter-widgets/base",
      "_view_module_version": "1.2.0",
      "_view_name": "LayoutView",
      "align_content": null,
      "align_items": null,
      "align_self": null,
      "border": null,
      "bottom": null,
      "display": null,
      "flex": null,
      "flex_flow": null,
      "grid_area": null,
      "grid_auto_columns": null,
      "grid_auto_flow": null,
      "grid_auto_rows": null,
      "grid_column": null,
      "grid_gap": null,
      "grid_row": null,
      "grid_template_areas": null,
      "grid_template_columns": null,
      "grid_template_rows": null,
      "height": null,
      "justify_content": null,
      "justify_items": null,
      "left": null,
      "margin": null,
      "max_height": null,
      "max_width": null,
      "min_height": null,
      "min_width": null,
      "object_fit": null,
      "object_position": null,
      "order": null,
      "overflow": null,
      "overflow_x": null,
      "overflow_y": null,
      "padding": null,
      "right": null,
      "top": null,
      "visibility": null,
      "width": null
     }
    },
    "c4cfd68a6e34412ebd968738da4cdead": {
     "model_module": "@jupyter-widgets/base",
     "model_name": "LayoutModel",
     "state": {
      "_model_module": "@jupyter-widgets/base",
      "_model_module_version": "1.2.0",
      "_model_name": "LayoutModel",
      "_view_count": null,
      "_view_module": "@jupyter-widgets/base",
      "_view_module_version": "1.2.0",
      "_view_name": "LayoutView",
      "align_content": null,
      "align_items": null,
      "align_self": null,
      "border": null,
      "bottom": null,
      "display": null,
      "flex": null,
      "flex_flow": null,
      "grid_area": null,
      "grid_auto_columns": null,
      "grid_auto_flow": null,
      "grid_auto_rows": null,
      "grid_column": null,
      "grid_gap": null,
      "grid_row": null,
      "grid_template_areas": null,
      "grid_template_columns": null,
      "grid_template_rows": null,
      "height": null,
      "justify_content": null,
      "justify_items": null,
      "left": null,
      "margin": null,
      "max_height": null,
      "max_width": null,
      "min_height": null,
      "min_width": null,
      "object_fit": null,
      "object_position": null,
      "order": null,
      "overflow": null,
      "overflow_x": null,
      "overflow_y": null,
      "padding": null,
      "right": null,
      "top": null,
      "visibility": null,
      "width": null
     }
    },
    "d6cedca6e5454870a1028eb6f30c23f6": {
     "model_module": "@jupyter-widgets/controls",
     "model_name": "DescriptionStyleModel",
     "state": {
      "_model_module": "@jupyter-widgets/controls",
      "_model_module_version": "1.5.0",
      "_model_name": "DescriptionStyleModel",
      "_view_count": null,
      "_view_module": "@jupyter-widgets/base",
      "_view_module_version": "1.2.0",
      "_view_name": "StyleView",
      "description_width": ""
     }
    },
    "d99cd500b7744603b9c1f6c9b7edb27c": {
     "model_module": "@jupyter-widgets/controls",
     "model_name": "DescriptionStyleModel",
     "state": {
      "_model_module": "@jupyter-widgets/controls",
      "_model_module_version": "1.5.0",
      "_model_name": "DescriptionStyleModel",
      "_view_count": null,
      "_view_module": "@jupyter-widgets/base",
      "_view_module_version": "1.2.0",
      "_view_name": "StyleView",
      "description_width": ""
     }
    },
    "e0ea149ed0a74b21ad0e4dc16295030a": {
     "model_module": "@jupyter-widgets/base",
     "model_name": "LayoutModel",
     "state": {
      "_model_module": "@jupyter-widgets/base",
      "_model_module_version": "1.2.0",
      "_model_name": "LayoutModel",
      "_view_count": null,
      "_view_module": "@jupyter-widgets/base",
      "_view_module_version": "1.2.0",
      "_view_name": "LayoutView",
      "align_content": null,
      "align_items": null,
      "align_self": null,
      "border": null,
      "bottom": null,
      "display": null,
      "flex": null,
      "flex_flow": null,
      "grid_area": null,
      "grid_auto_columns": null,
      "grid_auto_flow": null,
      "grid_auto_rows": null,
      "grid_column": null,
      "grid_gap": null,
      "grid_row": null,
      "grid_template_areas": null,
      "grid_template_columns": null,
      "grid_template_rows": null,
      "height": null,
      "justify_content": null,
      "justify_items": null,
      "left": null,
      "margin": null,
      "max_height": null,
      "max_width": null,
      "min_height": null,
      "min_width": null,
      "object_fit": null,
      "object_position": null,
      "order": null,
      "overflow": null,
      "overflow_x": null,
      "overflow_y": null,
      "padding": null,
      "right": null,
      "top": null,
      "visibility": null,
      "width": null
     }
    },
    "e139f617f02a4797b32ff5f3b56c97b0": {
     "model_module": "@jupyter-widgets/controls",
     "model_name": "ProgressStyleModel",
     "state": {
      "_model_module": "@jupyter-widgets/controls",
      "_model_module_version": "1.5.0",
      "_model_name": "ProgressStyleModel",
      "_view_count": null,
      "_view_module": "@jupyter-widgets/base",
      "_view_module_version": "1.2.0",
      "_view_name": "StyleView",
      "bar_color": null,
      "description_width": ""
     }
    },
    "e149dd3da703447f8fa60a7343e58b3c": {
     "model_module": "@jupyter-widgets/controls",
     "model_name": "HTMLModel",
     "state": {
      "_dom_classes": [],
      "_model_module": "@jupyter-widgets/controls",
      "_model_module_version": "1.5.0",
      "_model_name": "HTMLModel",
      "_view_count": null,
      "_view_module": "@jupyter-widgets/controls",
      "_view_module_version": "1.5.0",
      "_view_name": "HTMLView",
      "description": "",
      "description_tooltip": null,
      "layout": "IPY_MODEL_e0ea149ed0a74b21ad0e4dc16295030a",
      "placeholder": "​",
      "style": "IPY_MODEL_5651dc4efd53405483a2aabb504d7692",
      "value": "1654784it [00:00, 3987564.56it/s]"
     }
    },
    "e6d213fd35144188b492adb71fadf593": {
     "model_module": "@jupyter-widgets/controls",
     "model_name": "DescriptionStyleModel",
     "state": {
      "_model_module": "@jupyter-widgets/controls",
      "_model_module_version": "1.5.0",
      "_model_name": "DescriptionStyleModel",
      "_view_count": null,
      "_view_module": "@jupyter-widgets/base",
      "_view_module_version": "1.2.0",
      "_view_name": "StyleView",
      "description_width": ""
     }
    },
    "e8a60928dedb47e38262a0d148c7ffaf": {
     "model_module": "@jupyter-widgets/base",
     "model_name": "LayoutModel",
     "state": {
      "_model_module": "@jupyter-widgets/base",
      "_model_module_version": "1.2.0",
      "_model_name": "LayoutModel",
      "_view_count": null,
      "_view_module": "@jupyter-widgets/base",
      "_view_module_version": "1.2.0",
      "_view_name": "LayoutView",
      "align_content": null,
      "align_items": null,
      "align_self": null,
      "border": null,
      "bottom": null,
      "display": null,
      "flex": null,
      "flex_flow": null,
      "grid_area": null,
      "grid_auto_columns": null,
      "grid_auto_flow": null,
      "grid_auto_rows": null,
      "grid_column": null,
      "grid_gap": null,
      "grid_row": null,
      "grid_template_areas": null,
      "grid_template_columns": null,
      "grid_template_rows": null,
      "height": null,
      "justify_content": null,
      "justify_items": null,
      "left": null,
      "margin": null,
      "max_height": null,
      "max_width": null,
      "min_height": null,
      "min_width": null,
      "object_fit": null,
      "object_position": null,
      "order": null,
      "overflow": null,
      "overflow_x": null,
      "overflow_y": null,
      "padding": null,
      "right": null,
      "top": null,
      "visibility": null,
      "width": null
     }
    },
    "f222cc26f52a47a68606949e9a3f05b1": {
     "model_module": "@jupyter-widgets/controls",
     "model_name": "HBoxModel",
     "state": {
      "_dom_classes": [],
      "_model_module": "@jupyter-widgets/controls",
      "_model_module_version": "1.5.0",
      "_model_name": "HBoxModel",
      "_view_count": null,
      "_view_module": "@jupyter-widgets/controls",
      "_view_module_version": "1.5.0",
      "_view_name": "HBoxView",
      "box_style": "",
      "children": [
       "IPY_MODEL_79a94a59da19430da892b09dadc79822",
       "IPY_MODEL_e149dd3da703447f8fa60a7343e58b3c"
      ],
      "layout": "IPY_MODEL_750e7830c5d64714889c76a56b6daae4"
     }
    },
    "f67d648eb3a843eebd4d3bb74220b336": {
     "model_module": "@jupyter-widgets/base",
     "model_name": "LayoutModel",
     "state": {
      "_model_module": "@jupyter-widgets/base",
      "_model_module_version": "1.2.0",
      "_model_name": "LayoutModel",
      "_view_count": null,
      "_view_module": "@jupyter-widgets/base",
      "_view_module_version": "1.2.0",
      "_view_name": "LayoutView",
      "align_content": null,
      "align_items": null,
      "align_self": null,
      "border": null,
      "bottom": null,
      "display": null,
      "flex": null,
      "flex_flow": null,
      "grid_area": null,
      "grid_auto_columns": null,
      "grid_auto_flow": null,
      "grid_auto_rows": null,
      "grid_column": null,
      "grid_gap": null,
      "grid_row": null,
      "grid_template_areas": null,
      "grid_template_columns": null,
      "grid_template_rows": null,
      "height": null,
      "justify_content": null,
      "justify_items": null,
      "left": null,
      "margin": null,
      "max_height": null,
      "max_width": null,
      "min_height": null,
      "min_width": null,
      "object_fit": null,
      "object_position": null,
      "order": null,
      "overflow": null,
      "overflow_x": null,
      "overflow_y": null,
      "padding": null,
      "right": null,
      "top": null,
      "visibility": null,
      "width": null
     }
    },
    "f6f8235f21f24f0fb85956d33424853b": {
     "model_module": "@jupyter-widgets/controls",
     "model_name": "HTMLModel",
     "state": {
      "_dom_classes": [],
      "_model_module": "@jupyter-widgets/controls",
      "_model_module_version": "1.5.0",
      "_model_name": "HTMLModel",
      "_view_count": null,
      "_view_module": "@jupyter-widgets/controls",
      "_view_module_version": "1.5.0",
      "_view_name": "HTMLView",
      "description": "",
      "description_tooltip": null,
      "layout": "IPY_MODEL_9146e714fb47468399be05b53ef53f2d",
      "placeholder": "​",
      "style": "IPY_MODEL_d6cedca6e5454870a1028eb6f30c23f6",
      "value": "32768it [00:00, 152432.01it/s]"
     }
    }
   }
  }
 },
 "nbformat": 4,
 "nbformat_minor": 1
}
